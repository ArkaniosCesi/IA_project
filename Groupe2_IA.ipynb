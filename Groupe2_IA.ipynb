{
 "cells": [
  {
   "cell_type": "markdown",
   "id": "96ac72fd",
   "metadata": {},
   "source": [
    "#                          <center> <div color = \"blue\">INTELLIGENCE ARTIFICIELLE</div> <br /><br /> PROJET IA for HumanForYou\n",
    "</center>        \n",
    "\n",
    "\n",
    "\n",
    "\n",
    "\n",
    "###                             <center> CESICDP GROUPE 2 </center>\n",
    "\n",
    "#####  <center> Adrian SALAUM <br /><br /> Coralistone METSA<br /><br /> Romain COTTINEAU  <br /><br />Simon BRIFFAUD <br /><br /> </center>\n"
   ]
  },
  {
   "cell_type": "markdown",
   "id": "97e797fd",
   "metadata": {},
   "source": [
    "##### ########################################################################################################################"
   ]
  },
  {
   "cell_type": "markdown",
   "id": "60565f6c",
   "metadata": {},
   "source": [
    "##### ########################################################################################################################"
   ]
  },
  {
   "cell_type": "markdown",
   "id": "f27bae09",
   "metadata": {},
   "source": [
    "##                     <center> <br />  I. RAPPEL DU CONTEXTE </center>                                                     "
   ]
  },
  {
   "cell_type": "markdown",
   "id": "5ab4ecb7",
   "metadata": {},
   "source": [
    "L'entreprise de produits pharmaceutiques HumanForYou basée en Inde emploie environ 4000 personnes. Cependant, chaque année elle subit un turn-over d'environ 15% de ses employés nécessitant de retrouver des profils similaires sur le marché de l'emploi.\n",
    "\n",
    "La direction trouve que ce niveau de turn-over n'est pas bon pour l'entreprise car :\n",
    "\n",
    "Les projets sur lesquels étaient les employés quittant la société prennent du retard ce qui nuit à la réputation de l'entreprise auprès de ses clients et partenaires.\n",
    "\n",
    "Un service de ressources humaines de taille conséquente doit être conservé car il faut avoir les moyens de trouver les nouvelles recrues.\n",
    "\n",
    "Du temps est perdu à l'arrivée des nouveaux employés car ils doivent très souvent être formés et ont besoin de temps pour devenir pleinement opérationnels dans leur nouvel environnement.\n",
    "\n",
    "Le direction fait donc appel à vous, spécialistes de l'analyse de données, pour déterminer les facteurs ayant le plus d'influence sur ce taux de turn-over et lui proposer des modèles afin d'avoir des pistes d'amélioration pour donner à leurs employés l'envie de rester.\n",
    "\n",
    "Données fournies\n",
    "Un certain nombre de données concernant les employés vous a donc été transmis par le service des ressources humaines.\n",
    "\n",
    "Il s'agit de fichiers textes au format CSV.\n",
    "\n",
    "Les données ont été anonymisées : un employé de l'entreprise sera représenté par le même EmployeeID dans l'ensemble des fichiers qui suivent."
   ]
  },
  {
   "cell_type": "markdown",
   "id": "dd6e02e6",
   "metadata": {},
   "source": [
    "##               <center>  <br /> <br /> II. Pre-traitement des données et analyse exploratoire </center>   "
   ]
  },
  {
   "cell_type": "markdown",
   "id": "e11e8991",
   "metadata": {},
   "source": [
    "Voici quelques étapes à suivre pour pré-traiter les données pour une utilisation avec K-means :\n",
    "\n",
    "1. Intégration des données : Intégrez les données des différentes sources en une seule source de données. Si vous travaillez avec des données provenant de plusieurs sources, vous devez les intégrer en une seule source de données. Cela vous permettra de traiter les données comme une seule entité et de les analyser plus facilement.\n",
    "\n",
    "1. Nettoyer les données : Assurez-vous que vos données sont propres et ne contiennent pas de valeurs manquantes, de doublons ou d'autres anomalies. Si nécessaire, supprimez ou remplacez les données manquantes.\n",
    "\n",
    "2. Normaliser les données : Normalisez les données en les mettant à l'échelle de sorte que chaque variable ait une plage de valeurs comparable. La normalisation peut être effectuée en utilisant la méthode de la moyenne et de l'écart type, la méthode de la plage ou la méthode de la normalisation de l'amplitude.\n",
    "\n",
    "3. Réduire la dimensionnalité : Si vous travaillez avec des données à haute dimensionnalité, utilisez des techniques de réduction de dimensionnalité telles que l'analyse en composantes principales (PCA) pour réduire la dimensionnalité de vos données et faciliter leur analyse.\n",
    "\n",
    "4. Identifier les valeurs aberrantes : Les valeurs aberrantes peuvent fausser les résultats de K-means, il est donc important de les identifier et de les traiter correctement. Les valeurs aberrantes peuvent être supprimées ou remplacées par des valeurs plus appropriées.\n",
    "\n",
    "5. Sélectionner les caractéristiques : Si vous travaillez avec des données qui contiennent de nombreuses caractéristiques, il peut être judicieux de sélectionner les caractéristiques les plus pertinentes pour votre analyse.\n",
    "\n",
    "En résumé, le pré-traitement des données pour K-means comprend le nettoyage des données, la normalisation des données, la réduction de la dimensionnalité, l'identification et le traitement des valeurs aberrantes et la sélection des caractéristiques. En effectuant ces étapes, vous pouvez améliorer la qualité de vos données et obtenir des résultats plus significatifs à l'aide de K-means."
   ]
  },
  {
   "cell_type": "markdown",
   "id": "fd3e985c",
   "metadata": {},
   "source": [
    "##  <center>  <br /> <br /> 1. Chargement des données </center>\n",
    "Puisque les données proviennent d'un fichier CSV, nous utiliserons la fonction read_csv de Pandas pour charger les données dans un DataFrame."
   ]
  },
  {
   "cell_type": "markdown",
   "id": "bc87a3b3",
   "metadata": {},
   "source": [
    "### Charger les données du service des ressources humaines"
   ]
  },
  {
   "cell_type": "code",
   "execution_count": 2,
   "id": "9423a46f",
   "metadata": {},
   "outputs": [],
   "source": [
    "import os\n",
    "import tarfile\n",
    "from six.moves import urllib\n",
    "\n",
    "DOWNLOAD_ROOT = \"https://github.com/ph10r/eiSpeInfoDS/raw/master/\"\n",
    "GENERAL_PATH = os.path.join(\"datasets\", \"housing\")\n",
    "GENERAL_URL = DOWNLOAD_ROOT + \"housing.tgz\"\n",
    "\n",
    "def fetch_housing_data(housing_url = HOUSING_URL, housing_path=HOUSING_PATH):\n",
    "    if not os.path.isdir(housing_path):\n",
    "        os.makedirs(housing_path)\n",
    "    \n",
    "\n",
    "    # Télécharge le fichier d'archive depuis l'URL\n",
    "    SAVING_PATH = HOUSING_PATH + \"\\\\housing.tgz\"\n",
    "    urllib.request.urlretrieve(HOUSING_URL, SAVING_PATH )\n",
    "    \n",
    "    # Extrait les fichiers de l'archive dans le répertoire cible\n",
    "    with tarfile.open(SAVING_PATH) as tar:\n",
    "        tar.extractall(HOUSING_PATH)\n",
    "    "
   ]
  },
  {
   "cell_type": "markdown",
   "id": "93be3ffb",
   "metadata": {},
   "source": [
    " ### Charger les données sur l'enquête qualité de vie au travail "
   ]
  },
  {
   "cell_type": "code",
   "execution_count": 5,
   "id": "08311ff6",
   "metadata": {},
   "outputs": [],
   "source": [
    "import os\n",
    "import tarfile\n",
    "import pathlib\n",
    "import pandas as pd\n",
    "\n",
    "EMPLOYEE_PATH = \"./data/employee_survey_data.csv\"\n",
    "\n",
    "def load_housing_data(employee_path):\n",
    "    return pd.read_csv(employee_path)\n",
    "\n",
    "housing = load_housing_data(EMPLOYEE_PATH)"
   ]
  },
  {
   "cell_type": "markdown",
   "id": "53b7d4c0",
   "metadata": {},
   "source": [
    "### Données de la dernière évaluation du manager"
   ]
  },
  {
   "cell_type": "code",
   "execution_count": 7,
   "id": "06a573cf",
   "metadata": {},
   "outputs": [],
   "source": [
    "import os\n",
    "import tarfile\n",
    "import pathlib\n",
    "import pandas as pd\n",
    "\n",
    "MANAGER_PATH = \"./data/manager_survey_data.csv\"\n",
    "\n",
    "def load_housing_data(manager_path):\n",
    "    return pd.read_csv(manager_path)\n",
    "\n",
    "housing = load_housing_data(MANAGER_PATH)"
   ]
  },
  {
   "cell_type": "markdown",
   "id": "f2919f8c",
   "metadata": {},
   "source": [
    "##               <center>  <br /> <br />  2. Création du jeu de test </center>   "
   ]
  },
  {
   "cell_type": "markdown",
   "id": "677b5401",
   "metadata": {},
   "source": [
    "##  <center>  <br /> <br /> 3. Étude des données </center>"
   ]
  },
  {
   "cell_type": "markdown",
   "id": "ac4074fe",
   "metadata": {},
   "source": [
    "##  <center>  <br /> <br /> 4. Analyse des données </center>"
   ]
  },
  {
   "cell_type": "markdown",
   "id": "b8df4acc",
   "metadata": {},
   "source": [
    "## <center>  <br /> <br /> 5. Nettoyer les données </center>"
   ]
  },
  {
   "cell_type": "markdown",
   "id": "3d7f0174",
   "metadata": {},
   "source": [
    "##  <center>  <br /> <br /> III. Choix de (des) l'algorithme(s) d'\"IA\" retenu(s) </center>\n",
    "\n",
    "\n",
    "## justification des choix et les traitements effectués pour faire face aux problématiques classiques \n"
   ]
  },
  {
   "cell_type": "markdown",
   "id": "c0b47a83",
   "metadata": {},
   "source": [
    "## <center>  <br /> <br /> IV. Analyse des résultats obtenus et leur interprétation </center>"
   ]
  },
  {
   "cell_type": "markdown",
   "id": "1ff0b732",
   "metadata": {},
   "source": [
    "##  <center>  <br /> <br /> V. démarche mise en œuvre pour améliorer un modèle  </center>"
   ]
  },
  {
   "cell_type": "markdown",
   "id": "df3dfd79",
   "metadata": {},
   "source": [
    "### <center>  <br /> <br />  1. les différents modèles effectués . </center>"
   ]
  },
  {
   "cell_type": "markdown",
   "id": "fe4cb43e",
   "metadata": {},
   "source": [
    "### <center>  <br /> <br />  1.1   K-means . </center>"
   ]
  },
  {
   "cell_type": "markdown",
   "id": "ff4306f7",
   "metadata": {},
   "source": [
    "### <center>  <br /> <br />  1.2  Validation croisée . </center>"
   ]
  },
  {
   "cell_type": "markdown",
   "id": "01e6d947",
   "metadata": {},
   "source": [
    "### <center>  <br /> <br />  1.3  Les autres algorithmes qu'on va tester. </center>"
   ]
  },
  {
   "cell_type": "markdown",
   "id": "fa3556a2",
   "metadata": {},
   "source": [
    "### <center>  <br /> <br />  2. choix du modèle retenu au final parmi les différents essais effectués en justifiant pas rapport au besoin du client et des métriques. </center>\n",
    "\n"
   ]
  },
  {
   "cell_type": "markdown",
   "id": "6ae38ddc",
   "metadata": {},
   "source": [
    "### <center>  <br /> <br /> les propositions finales justifiées </center>"
   ]
  },
  {
   "cell_type": "markdown",
   "id": "c6f07bb0",
   "metadata": {},
   "source": [
    "## <center>  <br /> <br /> VI. RESSOURCES </center>  "
   ]
  },
  {
   "cell_type": "markdown",
   "id": "f70850e6",
   "metadata": {},
   "source": [
    "## <center>  <br /> <br /> VIII. LEXIQUE </center>  "
   ]
  },
  {
   "cell_type": "code",
   "execution_count": null,
   "id": "8993aac3",
   "metadata": {},
   "outputs": [],
   "source": []
  }
 ],
 "metadata": {
  "kernelspec": {
   "display_name": "Python 3 (ipykernel)",
   "language": "python",
   "name": "python3"
  },
  "language_info": {
   "codemirror_mode": {
    "name": "ipython",
    "version": 3
   },
   "file_extension": ".py",
   "mimetype": "text/x-python",
   "name": "python",
   "nbconvert_exporter": "python",
   "pygments_lexer": "ipython3",
   "version": "3.9.12"
  }
 },
 "nbformat": 4,
 "nbformat_minor": 5
}
