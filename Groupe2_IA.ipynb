{
 "cells": [
  {
   "cell_type": "markdown",
   "id": "96ac72fd",
   "metadata": {},
   "source": [
    "#                          <center> <div color = \"blue\">INTELLIGENCE ARTIFICIELLE</div> <br /><br /> PROJET IA for HumanForYou\n",
    "</center>        \n",
    "\n",
    "\n",
    "\n",
    "\n",
    "\n",
    "###                             <center> CESICDP GROUPE 2 </center>\n",
    "\n",
    "#####  <center> Adrian SALAUM <br /><br /> Coralistone METSA<br /><br /> Romain COTTINEAU  <br /><br />Simon BRIFFAUD <br /><br /> </center>\n"
   ]
  },
  {
   "cell_type": "markdown",
   "id": "97e797fd",
   "metadata": {},
   "source": [
    "##### ########################################################################################################################"
   ]
  },
  {
   "cell_type": "markdown",
   "id": "60565f6c",
   "metadata": {},
   "source": [
    "##### ########################################################################################################################"
   ]
  },
  {
   "cell_type": "markdown",
   "id": "f27bae09",
   "metadata": {},
   "source": [
    "##                     <center> <br />  I. RAPPEL DU CONTEXTE </center>                                                     "
   ]
  },
  {
   "cell_type": "markdown",
   "id": "5ab4ecb7",
   "metadata": {},
   "source": [
    "L'entreprise de produits pharmaceutiques HumanForYou basée en Inde emploie environ 4000 personnes. Cependant, chaque année elle subit un turn-over d'environ 15% de ses employés nécessitant de retrouver des profils similaires sur le marché de l'emploi.\n",
    "\n",
    "La direction trouve que ce niveau de turn-over n'est pas bon pour l'entreprise car :\n",
    "\n",
    "Les projets sur lesquels étaient les employés quittant la société prennent du retard ce qui nuit à la réputation de l'entreprise auprès de ses clients et partenaires.\n",
    "\n",
    "Un service de ressources humaines de taille conséquente doit être conservé car il faut avoir les moyens de trouver les nouvelles recrues.\n",
    "\n",
    "Du temps est perdu à l'arrivée des nouveaux employés car ils doivent très souvent être formés et ont besoin de temps pour devenir pleinement opérationnels dans leur nouvel environnement.\n",
    "\n",
    "Le direction fait donc appel à vous, spécialistes de l'analyse de données, pour déterminer les facteurs ayant le plus d'influence sur ce taux de turn-over et lui proposer des modèles afin d'avoir des pistes d'amélioration pour donner à leurs employés l'envie de rester.\n",
    "\n",
    "Données fournies\n",
    "Un certain nombre de données concernant les employés vous a donc été transmis par le service des ressources humaines.\n",
    "\n",
    "Il s'agit de fichiers textes au format CSV.\n",
    "\n",
    "Les données ont été anonymisées : un employé de l'entreprise sera représenté par le même EmployeeID dans l'ensemble des fichiers qui suivent."
   ]
  },
  {
   "cell_type": "markdown",
   "id": "dd6e02e6",
   "metadata": {},
   "source": [
    "##               <center>  <br /> <br /> II. Pre-traitement des données et analyse exploratoire </center>   "
   ]
  },
  {
   "cell_type": "markdown",
   "id": "e11e8991",
   "metadata": {},
   "source": [
    "Voici quelques étapes à suivre pour pré-traiter les données pour une utilisation avec K-means :\n",
    "\n",
    "1. Intégration des données : Intégrez les données des différentes sources en une seule source de données. Si vous travaillez avec des données provenant de plusieurs sources, vous devez les intégrer en une seule source de données. Cela vous permettra de traiter les données comme une seule entité et de les analyser plus facilement.\n",
    "\n",
    "1. Nettoyer les données : Assurez-vous que vos données sont propres et ne contiennent pas de valeurs manquantes, de doublons ou d'autres anomalies. Si nécessaire, supprimez ou remplacez les données manquantes.\n",
    "\n",
    "2. Normaliser les données : Normalisez les données en les mettant à l'échelle de sorte que chaque variable ait une plage de valeurs comparable. La normalisation peut être effectuée en utilisant la méthode de la moyenne et de l'écart type, la méthode de la plage ou la méthode de la normalisation de l'amplitude.\n",
    "\n",
    "3. Réduire la dimensionnalité : Si vous travaillez avec des données à haute dimensionnalité, utilisez des techniques de réduction de dimensionnalité telles que l'analyse en composantes principales (PCA) pour réduire la dimensionnalité de vos données et faciliter leur analyse.\n",
    "\n",
    "4. Identifier les valeurs aberrantes : Les valeurs aberrantes peuvent fausser les résultats de K-means, il est donc important de les identifier et de les traiter correctement. Les valeurs aberrantes peuvent être supprimées ou remplacées par des valeurs plus appropriées.\n",
    "\n",
    "5. Sélectionner les caractéristiques : Si vous travaillez avec des données qui contiennent de nombreuses caractéristiques, il peut être judicieux de sélectionner les caractéristiques les plus pertinentes pour votre analyse.\n",
    "\n",
    "En résumé, le pré-traitement des données pour K-means comprend le nettoyage des données, la normalisation des données, la réduction de la dimensionnalité, l'identification et le traitement des valeurs aberrantes et la sélection des caractéristiques. En effectuant ces étapes, vous pouvez améliorer la qualité de vos données et obtenir des résultats plus significatifs à l'aide de K-means."
   ]
  },
  {
   "cell_type": "markdown",
   "id": "fd3e985c",
   "metadata": {},
   "source": [
    "##  <center>  <br /> <br /> 1. Data wrangling </center>\n",
    "Puisque les données proviennent d'un fichier CSV, nous utiliserons la fonction read_csv de Pandas pour charger les données dans un DataFrame."
   ]
  },
  {
   "cell_type": "markdown",
   "id": "bc87a3b3",
   "metadata": {},
   "source": [
    "### Ca c'est avant de charger les données."
   ]
  },
  {
   "cell_type": "code",
   "execution_count": 1,
   "id": "9423a46f",
   "metadata": {},
   "outputs": [],
   "source": [
    "import os\n",
    "import tarfile\n",
    "from six.moves import urllib\n",
    "import pandas as pd\n",
    "\n",
    "DOWNLOAD_URLS = [\n",
    "    \"https://raw.githubusercontent.com/ArkaniosCesi/IA_project/main/employee_survey_data.csv\",\n",
    "    \"https://raw.githubusercontent.com/ArkaniosCesi/IA_project/main/general_data.csv\",\n",
    "    \"https://raw.githubusercontent.com/ArkaniosCesi/IA_project/main/in_time.csv\",\n",
    "    \"https://raw.githubusercontent.com/ArkaniosCesi/IA_project/main/manager_survey_data.csv\",\n",
    "    \"https://raw.githubusercontent.com/ArkaniosCesi/IA_project/main/out_time.csv\"\n",
    "]\n",
    "HOUSING_PATH = os.path.join(\"datasets\", \"employees\")\n",
    "\n",
    "def load_project_data(download_urls=DOWNLOAD_URLS, housing_path=HOUSING_PATH):    \n",
    "    dataframes = []\n",
    "    \n",
    "    for url in DOWNLOAD_URLS:\n",
    "        # Télécharge les fichiers d'archive depuis les URL\n",
    "        df = pd.read_csv(url, index_col=0)\n",
    "        dataframes.append(df)\n",
    "    \n",
    "    return dataframes    "
   ]
  },
  {
   "cell_type": "markdown",
   "id": "93be3ffb",
   "metadata": {},
   "source": [
    " ### Vérifier si les données sont correctement chargées"
   ]
  },
  {
   "cell_type": "code",
   "execution_count": 2,
   "id": "08311ff6",
   "metadata": {},
   "outputs": [],
   "source": [
    "data = load_project_data()"
   ]
  },
  {
   "cell_type": "markdown",
   "id": "e2eec2ef",
   "metadata": {},
   "source": [
    "On affiche la description des colonnes pour chaque jeu de données"
   ]
  },
  {
   "cell_type": "code",
   "execution_count": 5,
   "id": "5974d3cf",
   "metadata": {
    "scrolled": false
   },
   "outputs": [
    {
     "name": "stdout",
     "output_type": "stream",
     "text": [
      "Index(['EnvironmentSatisfaction', 'JobSatisfaction', 'WorkLifeBalance'], dtype='object')\n",
      "<class 'pandas.core.frame.DataFrame'>\n",
      "Int64Index: 4410 entries, 1 to 4410\n",
      "Data columns (total 3 columns):\n",
      " #   Column                   Non-Null Count  Dtype  \n",
      "---  ------                   --------------  -----  \n",
      " 0   EnvironmentSatisfaction  4385 non-null   float64\n",
      " 1   JobSatisfaction          4390 non-null   float64\n",
      " 2   WorkLifeBalance          4372 non-null   float64\n",
      "dtypes: float64(3)\n",
      "memory usage: 137.8 KB\n",
      "None\n",
      "\n",
      "\n",
      "\n",
      "\n",
      "\n",
      "\n",
      "Index(['Attrition', 'BusinessTravel', 'Department', 'DistanceFromHome',\n",
      "       'Education', 'EducationField', 'EmployeeCount', 'EmployeeID', 'Gender',\n",
      "       'JobLevel', 'JobRole', 'MaritalStatus', 'MonthlyIncome',\n",
      "       'NumCompaniesWorked', 'Over18', 'PercentSalaryHike', 'StandardHours',\n",
      "       'StockOptionLevel', 'TotalWorkingYears', 'TrainingTimesLastYear',\n",
      "       'YearsAtCompany', 'YearsSinceLastPromotion', 'YearsWithCurrManager'],\n",
      "      dtype='object')\n",
      "<class 'pandas.core.frame.DataFrame'>\n",
      "Int64Index: 4410 entries, 51 to 40\n",
      "Data columns (total 23 columns):\n",
      " #   Column                   Non-Null Count  Dtype  \n",
      "---  ------                   --------------  -----  \n",
      " 0   Attrition                4410 non-null   object \n",
      " 1   BusinessTravel           4410 non-null   object \n",
      " 2   Department               4410 non-null   object \n",
      " 3   DistanceFromHome         4410 non-null   int64  \n",
      " 4   Education                4410 non-null   int64  \n",
      " 5   EducationField           4410 non-null   object \n",
      " 6   EmployeeCount            4410 non-null   int64  \n",
      " 7   EmployeeID               4410 non-null   int64  \n",
      " 8   Gender                   4410 non-null   object \n",
      " 9   JobLevel                 4410 non-null   int64  \n",
      " 10  JobRole                  4410 non-null   object \n",
      " 11  MaritalStatus            4410 non-null   object \n",
      " 12  MonthlyIncome            4410 non-null   int64  \n",
      " 13  NumCompaniesWorked       4391 non-null   float64\n",
      " 14  Over18                   4410 non-null   object \n",
      " 15  PercentSalaryHike        4410 non-null   int64  \n",
      " 16  StandardHours            4410 non-null   int64  \n",
      " 17  StockOptionLevel         4410 non-null   int64  \n",
      " 18  TotalWorkingYears        4401 non-null   float64\n",
      " 19  TrainingTimesLastYear    4410 non-null   int64  \n",
      " 20  YearsAtCompany           4410 non-null   int64  \n",
      " 21  YearsSinceLastPromotion  4410 non-null   int64  \n",
      " 22  YearsWithCurrManager     4410 non-null   int64  \n",
      "dtypes: float64(2), int64(13), object(8)\n",
      "memory usage: 826.9+ KB\n",
      "None\n",
      "\n",
      "\n",
      "\n",
      "\n",
      "\n",
      "\n",
      "Index(['2015-01-01', '2015-01-02', '2015-01-05', '2015-01-06', '2015-01-07',\n",
      "       '2015-01-08', '2015-01-09', '2015-01-12', '2015-01-13', '2015-01-14',\n",
      "       ...\n",
      "       '2015-12-18', '2015-12-21', '2015-12-22', '2015-12-23', '2015-12-24',\n",
      "       '2015-12-25', '2015-12-28', '2015-12-29', '2015-12-30', '2015-12-31'],\n",
      "      dtype='object', length=261)\n",
      "<class 'pandas.core.frame.DataFrame'>\n",
      "Int64Index: 4410 entries, 1 to 4410\n",
      "Columns: 261 entries, 2015-01-01 to 2015-12-31\n",
      "dtypes: float64(12), object(249)\n",
      "memory usage: 8.8+ MB\n",
      "None\n",
      "\n",
      "\n",
      "\n",
      "\n",
      "\n",
      "\n",
      "Index(['JobInvolvement', 'PerformanceRating'], dtype='object')\n",
      "<class 'pandas.core.frame.DataFrame'>\n",
      "Int64Index: 4410 entries, 1 to 4410\n",
      "Data columns (total 2 columns):\n",
      " #   Column             Non-Null Count  Dtype\n",
      "---  ------             --------------  -----\n",
      " 0   JobInvolvement     4410 non-null   int64\n",
      " 1   PerformanceRating  4410 non-null   int64\n",
      "dtypes: int64(2)\n",
      "memory usage: 103.4 KB\n",
      "None\n",
      "\n",
      "\n",
      "\n",
      "\n",
      "\n",
      "\n",
      "Index(['2015-01-01', '2015-01-02', '2015-01-05', '2015-01-06', '2015-01-07',\n",
      "       '2015-01-08', '2015-01-09', '2015-01-12', '2015-01-13', '2015-01-14',\n",
      "       ...\n",
      "       '2015-12-18', '2015-12-21', '2015-12-22', '2015-12-23', '2015-12-24',\n",
      "       '2015-12-25', '2015-12-28', '2015-12-29', '2015-12-30', '2015-12-31'],\n",
      "      dtype='object', length=261)\n",
      "<class 'pandas.core.frame.DataFrame'>\n",
      "Int64Index: 4410 entries, 1 to 4410\n",
      "Columns: 261 entries, 2015-01-01 to 2015-12-31\n",
      "dtypes: float64(12), object(249)\n",
      "memory usage: 8.8+ MB\n",
      "None\n",
      "\n",
      "\n",
      "\n",
      "\n",
      "\n",
      "\n"
     ]
    }
   ],
   "source": [
    "for df in data:\n",
    "    print(df.keys())\n",
    "    print(df.info())\n",
    "    print('\\n'*5)"
   ]
  },
  {
   "cell_type": "markdown",
   "id": "53b7d4c0",
   "metadata": {},
   "source": [
    "### Données de la dernière évaluation du manager"
   ]
  },
  {
   "cell_type": "markdown",
   "id": "f2919f8c",
   "metadata": {},
   "source": [
    "##               <center>  <br /> <br />  2. Création du jeu de test </center>   "
   ]
  },
  {
   "cell_type": "markdown",
   "id": "677b5401",
   "metadata": {},
   "source": [
    "##  <center>  <br /> <br /> 3. Étude des données </center>"
   ]
  },
  {
   "cell_type": "markdown",
   "id": "ac4074fe",
   "metadata": {},
   "source": [
    "##  <center>  <br /> <br /> 4. Analyse des données </center>"
   ]
  },
  {
   "cell_type": "markdown",
   "id": "b8df4acc",
   "metadata": {},
   "source": [
    "## <center>  <br /> <br /> 5. Nettoyer les données </center>"
   ]
  },
  {
   "cell_type": "markdown",
   "id": "3d7f0174",
   "metadata": {},
   "source": [
    "##  <center>  <br /> <br /> III. Choix de (des) l'algorithme(s) d'\"IA\" retenu(s) </center>\n",
    "\n",
    "\n",
    "## justification des choix et les traitements effectués pour faire face aux problématiques classiques \n"
   ]
  },
  {
   "cell_type": "markdown",
   "id": "c0b47a83",
   "metadata": {},
   "source": [
    "## <center>  <br /> <br /> IV. Analyse des résultats obtenus et leur interprétation </center>"
   ]
  },
  {
   "cell_type": "markdown",
   "id": "1ff0b732",
   "metadata": {},
   "source": [
    "##  <center>  <br /> <br /> V. démarche mise en œuvre pour améliorer un modèle  </center>"
   ]
  },
  {
   "cell_type": "markdown",
   "id": "df3dfd79",
   "metadata": {},
   "source": [
    "### <center>  <br /> <br />  1. les différents modèles effectués . </center>"
   ]
  },
  {
   "cell_type": "markdown",
   "id": "fe4cb43e",
   "metadata": {},
   "source": [
    "### <center>  <br /> <br />  1.1   K-means . </center>"
   ]
  },
  {
   "cell_type": "markdown",
   "id": "ff4306f7",
   "metadata": {},
   "source": [
    "### <center>  <br /> <br />  1.2  Validation croisée . </center>"
   ]
  },
  {
   "cell_type": "markdown",
   "id": "01e6d947",
   "metadata": {},
   "source": [
    "### <center>  <br /> <br />  1.3  Les autres algorithmes qu'on va tester. </center>"
   ]
  },
  {
   "cell_type": "markdown",
   "id": "fa3556a2",
   "metadata": {},
   "source": [
    "### <center>  <br /> <br />  2. choix du modèle retenu au final parmi les différents essais effectués en justifiant pas rapport au besoin du client et des métriques. </center>\n",
    "\n"
   ]
  },
  {
   "cell_type": "markdown",
   "id": "6ae38ddc",
   "metadata": {},
   "source": [
    "### <center>  <br /> <br /> les propositions finales justifiées </center>"
   ]
  },
  {
   "cell_type": "markdown",
   "id": "c6f07bb0",
   "metadata": {},
   "source": [
    "## <center>  <br /> <br /> VI. RESSOURCES </center>  "
   ]
  },
  {
   "cell_type": "markdown",
   "id": "f70850e6",
   "metadata": {},
   "source": [
    "## <center>  <br /> <br /> VIII. LEXIQUE </center>  "
   ]
  },
  {
   "cell_type": "code",
   "execution_count": null,
   "id": "8993aac3",
   "metadata": {},
   "outputs": [],
   "source": []
  }
 ],
 "metadata": {
  "kernelspec": {
   "display_name": "Python 3 (ipykernel)",
   "language": "python",
   "name": "python3"
  },
  "language_info": {
   "codemirror_mode": {
    "name": "ipython",
    "version": 3
   },
   "file_extension": ".py",
   "mimetype": "text/x-python",
   "name": "python",
   "nbconvert_exporter": "python",
   "pygments_lexer": "ipython3",
   "version": "3.9.12"
  }
 },
 "nbformat": 4,
 "nbformat_minor": 5
}
