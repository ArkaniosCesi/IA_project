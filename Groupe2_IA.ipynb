{
 "cells": [
  {
   "cell_type": "markdown",
   "id": "96ac72fd",
   "metadata": {},
   "source": [
    "#                          <center> <div color = \"blue\">INTELLIGENCE ARTIFICIELLE</div> <br /><br /> PROJET IA for HumanForYou\n",
    "</center>        \n",
    "\n",
    "\n",
    "\n",
    "\n",
    "\n",
    "###                             <center> CESICDP GROUPE 2 </center>\n",
    "\n",
    "#####  <center> Adrian SALAUM <br /><br /> Coralistone METSA<br /><br /> Romain COTTINEAU  <br /><br />Simon BRIFFAUD <br /><br /> </center>\n"
   ]
  },
  {
   "cell_type": "markdown",
   "id": "97e797fd",
   "metadata": {},
   "source": [
    "##### ########################################################################################################################"
   ]
  },
  {
   "cell_type": "markdown",
   "id": "60565f6c",
   "metadata": {},
   "source": [
    "##### ########################################################################################################################"
   ]
  },
  {
   "cell_type": "markdown",
   "id": "f27bae09",
   "metadata": {},
   "source": [
    "##                     <center> <br />  I. RAPPEL DU CONTEXTE </center>                                                     "
   ]
  },
  {
   "cell_type": "markdown",
   "id": "5ab4ecb7",
   "metadata": {},
   "source": [
    "L'entreprise de produits pharmaceutiques HumanForYou basée en Inde emploie environ 4000 personnes. Cependant, chaque année elle subit un turn-over d'environ 15% de ses employés nécessitant de retrouver des profils similaires sur le marché de l'emploi.\n",
    "\n",
    "La direction trouve que ce niveau de turn-over n'est pas bon pour l'entreprise car :\n",
    "\n",
    "Les projets sur lesquels étaient les employés quittant la société prennent du retard ce qui nuit à la réputation de l'entreprise auprès de ses clients et partenaires.\n",
    "\n",
    "Un service de ressources humaines de taille conséquente doit être conservé car il faut avoir les moyens de trouver les nouvelles recrues.\n",
    "\n",
    "Du temps est perdu à l'arrivée des nouveaux employés car ils doivent très souvent être formés et ont besoin de temps pour devenir pleinement opérationnels dans leur nouvel environnement.\n",
    "\n",
    "Le direction fait donc appel à vous, spécialistes de l'analyse de données, pour déterminer les facteurs ayant le plus d'influence sur ce taux de turn-over et lui proposer des modèles afin d'avoir des pistes d'amélioration pour donner à leurs employés l'envie de rester.\n",
    "\n",
    "Données fournies\n",
    "Un certain nombre de données concernant les employés vous a donc été transmis par le service des ressources humaines.\n",
    "\n",
    "Il s'agit de fichiers textes au format CSV.\n",
    "\n",
    "Les données ont été anonymisées : un employé de l'entreprise sera représenté par le même EmployeeID dans l'ensemble des fichiers qui suivent."
   ]
  },
  {
   "cell_type": "markdown",
   "id": "dd6e02e6",
   "metadata": {},
   "source": [
    "##               <center>  <br /> <br /> II. Pre-traitement des données et analyse exploratoire </center>   "
   ]
  },
  {
   "cell_type": "markdown",
   "id": "e11e8991",
   "metadata": {},
   "source": [
    "Voici quelques étapes à suivre pour pré-traiter les données pour une utilisation avec K-means :\n",
    "\n",
    "1. Intégration des données : Intégrez les données des différentes sources en une seule source de données. Si vous travaillez avec des données provenant de plusieurs sources, vous devez les intégrer en une seule source de données. Cela vous permettra de traiter les données comme une seule entité et de les analyser plus facilement.\n",
    "\n",
    "1. Nettoyer les données : Assurez-vous que vos données sont propres et ne contiennent pas de valeurs manquantes, de doublons ou d'autres anomalies. Si nécessaire, supprimez ou remplacez les données manquantes.\n",
    "\n",
    "2. Normaliser les données : Normalisez les données en les mettant à l'échelle de sorte que chaque variable ait une plage de valeurs comparable. La normalisation peut être effectuée en utilisant la méthode de la moyenne et de l'écart type, la méthode de la plage ou la méthode de la normalisation de l'amplitude.\n",
    "\n",
    "3. Réduire la dimensionnalité : Si vous travaillez avec des données à haute dimensionnalité, utilisez des techniques de réduction de dimensionnalité telles que l'analyse en composantes principales (PCA) pour réduire la dimensionnalité de vos données et faciliter leur analyse.\n",
    "\n",
    "4. Identifier les valeurs aberrantes : Les valeurs aberrantes peuvent fausser les résultats de K-means, il est donc important de les identifier et de les traiter correctement. Les valeurs aberrantes peuvent être supprimées ou remplacées par des valeurs plus appropriées.\n",
    "\n",
    "5. Sélectionner les caractéristiques : Si vous travaillez avec des données qui contiennent de nombreuses caractéristiques, il peut être judicieux de sélectionner les caractéristiques les plus pertinentes pour votre analyse.\n",
    "\n",
    "En résumé, le pré-traitement des données pour K-means comprend le nettoyage des données, la normalisation des données, la réduction de la dimensionnalité, l'identification et le traitement des valeurs aberrantes et la sélection des caractéristiques. En effectuant ces étapes, vous pouvez améliorer la qualité de vos données et obtenir des résultats plus significatifs à l'aide de K-means."
   ]
  },
  {
   "cell_type": "markdown",
   "id": "fd3e985c",
   "metadata": {},
   "source": [
    "##  <center>  <br /> <br /> 1. Data wrangling </center>\n",
    "Puisque les données proviennent d'un fichier CSV, nous utiliserons la fonction read_csv de Pandas pour charger les données dans un DataFrame."
   ]
  },
  {
   "cell_type": "markdown",
   "id": "bc87a3b3",
   "metadata": {},
   "source": [
    "### Ca c'est avant de charger les données."
   ]
  },
  {
   "cell_type": "code",
   "execution_count": 1,
   "id": "9423a46f",
   "metadata": {},
   "outputs": [],
   "source": [
    "import os\n",
    "import tarfile\n",
    "from six.moves import urllib\n",
    "import pandas as pd\n",
    "\n",
    "%matplotlib inline\n",
    "import matplotlib\n",
    "import matplotlib.pyplot as plt\n",
    "\n",
    "DOWNLOAD_URLS = [\n",
    "    \"https://raw.githubusercontent.com/ArkaniosCesi/IA_project/main/employee_survey_data.csv\",\n",
    "    \"https://raw.githubusercontent.com/ArkaniosCesi/IA_project/main/general_data.csv\",\n",
    "    \"https://raw.githubusercontent.com/ArkaniosCesi/IA_project/main/in_time.csv\",\n",
    "    \"https://raw.githubusercontent.com/ArkaniosCesi/IA_project/main/manager_survey_data.csv\",\n",
    "    \"https://raw.githubusercontent.com/ArkaniosCesi/IA_project/main/out_time.csv\"\n",
    "]\n",
    "HOUSING_PATH = os.path.join(\"datasets\", \"employees\")\n",
    "\n",
    "def load_project_data(download_urls=DOWNLOAD_URLS, housing_path=HOUSING_PATH):    \n",
    "    dataframes = {}\n",
    "    \n",
    "    for url in DOWNLOAD_URLS:\n",
    "        file_name = url.split('/')[-1].split('.')[0]\n",
    "        df = pd.read_csv(url)\n",
    "        if df.keys()[0] != \"EmployeeID\":\n",
    "            df.rename({df.keys()[0]:\"EmployeeID\"}, axis='columns', errors=\"raise\", inplace=True)\n",
    "        df.set_index(\"EmployeeID\", inplace=True)\n",
    "        dataframes[file_name] = df\n",
    "    \n",
    "    return dataframes"
   ]
  },
  {
   "cell_type": "code",
   "execution_count": 94,
   "id": "973d7fb1",
   "metadata": {},
   "outputs": [],
   "source": [
    "import warnings\n",
    "warnings.filterwarnings('ignore')"
   ]
  },
  {
   "cell_type": "markdown",
   "id": "93be3ffb",
   "metadata": {},
   "source": [
    "#### On vérifie si les données sont correctement chargées"
   ]
  },
  {
   "cell_type": "code",
   "execution_count": 2,
   "id": "08311ff6",
   "metadata": {},
   "outputs": [],
   "source": [
    "data = load_project_data()"
   ]
  },
  {
   "cell_type": "code",
   "execution_count": 3,
   "id": "cfeb8e83",
   "metadata": {},
   "outputs": [
    {
     "data": {
      "text/html": [
       "<div>\n",
       "<style scoped>\n",
       "    .dataframe tbody tr th:only-of-type {\n",
       "        vertical-align: middle;\n",
       "    }\n",
       "\n",
       "    .dataframe tbody tr th {\n",
       "        vertical-align: top;\n",
       "    }\n",
       "\n",
       "    .dataframe thead tr th {\n",
       "        text-align: left;\n",
       "    }\n",
       "\n",
       "    .dataframe thead tr:last-of-type th {\n",
       "        text-align: right;\n",
       "    }\n",
       "</style>\n",
       "<table border=\"1\" class=\"dataframe\">\n",
       "  <thead>\n",
       "    <tr>\n",
       "      <th></th>\n",
       "      <th colspan=\"3\" halign=\"left\">employee_survey_data</th>\n",
       "      <th colspan=\"7\" halign=\"left\">general_data</th>\n",
       "      <th>...</th>\n",
       "      <th colspan=\"10\" halign=\"left\">out_time</th>\n",
       "    </tr>\n",
       "    <tr>\n",
       "      <th></th>\n",
       "      <th>EnvironmentSatisfaction</th>\n",
       "      <th>JobSatisfaction</th>\n",
       "      <th>WorkLifeBalance</th>\n",
       "      <th>Age</th>\n",
       "      <th>Attrition</th>\n",
       "      <th>BusinessTravel</th>\n",
       "      <th>Department</th>\n",
       "      <th>DistanceFromHome</th>\n",
       "      <th>Education</th>\n",
       "      <th>EducationField</th>\n",
       "      <th>...</th>\n",
       "      <th>2015-12-18</th>\n",
       "      <th>2015-12-21</th>\n",
       "      <th>2015-12-22</th>\n",
       "      <th>2015-12-23</th>\n",
       "      <th>2015-12-24</th>\n",
       "      <th>2015-12-25</th>\n",
       "      <th>2015-12-28</th>\n",
       "      <th>2015-12-29</th>\n",
       "      <th>2015-12-30</th>\n",
       "      <th>2015-12-31</th>\n",
       "    </tr>\n",
       "    <tr>\n",
       "      <th>EmployeeID</th>\n",
       "      <th></th>\n",
       "      <th></th>\n",
       "      <th></th>\n",
       "      <th></th>\n",
       "      <th></th>\n",
       "      <th></th>\n",
       "      <th></th>\n",
       "      <th></th>\n",
       "      <th></th>\n",
       "      <th></th>\n",
       "      <th></th>\n",
       "      <th></th>\n",
       "      <th></th>\n",
       "      <th></th>\n",
       "      <th></th>\n",
       "      <th></th>\n",
       "      <th></th>\n",
       "      <th></th>\n",
       "      <th></th>\n",
       "      <th></th>\n",
       "      <th></th>\n",
       "    </tr>\n",
       "  </thead>\n",
       "  <tbody>\n",
       "    <tr>\n",
       "      <th>1</th>\n",
       "      <td>3.0</td>\n",
       "      <td>4.0</td>\n",
       "      <td>2.0</td>\n",
       "      <td>51</td>\n",
       "      <td>No</td>\n",
       "      <td>Travel_Rarely</td>\n",
       "      <td>Sales</td>\n",
       "      <td>6</td>\n",
       "      <td>2</td>\n",
       "      <td>Life Sciences</td>\n",
       "      <td>...</td>\n",
       "      <td>NaN</td>\n",
       "      <td>2015-12-21 17:15:50</td>\n",
       "      <td>2015-12-22 17:27:51</td>\n",
       "      <td>2015-12-23 16:44:44</td>\n",
       "      <td>2015-12-24 17:47:22</td>\n",
       "      <td>NaN</td>\n",
       "      <td>2015-12-28 18:00:07</td>\n",
       "      <td>2015-12-29 17:22:30</td>\n",
       "      <td>2015-12-30 17:40:56</td>\n",
       "      <td>2015-12-31 17:17:33</td>\n",
       "    </tr>\n",
       "    <tr>\n",
       "      <th>2</th>\n",
       "      <td>3.0</td>\n",
       "      <td>2.0</td>\n",
       "      <td>4.0</td>\n",
       "      <td>31</td>\n",
       "      <td>Yes</td>\n",
       "      <td>Travel_Frequently</td>\n",
       "      <td>Research &amp; Development</td>\n",
       "      <td>10</td>\n",
       "      <td>1</td>\n",
       "      <td>Life Sciences</td>\n",
       "      <td>...</td>\n",
       "      <td>2015-12-18 18:31:28</td>\n",
       "      <td>2015-12-21 17:34:16</td>\n",
       "      <td>2015-12-22 18:16:35</td>\n",
       "      <td>2015-12-23 17:38:18</td>\n",
       "      <td>NaN</td>\n",
       "      <td>NaN</td>\n",
       "      <td>2015-12-28 17:08:38</td>\n",
       "      <td>2015-12-29 17:54:46</td>\n",
       "      <td>2015-12-30 18:31:35</td>\n",
       "      <td>2015-12-31 17:40:58</td>\n",
       "    </tr>\n",
       "    <tr>\n",
       "      <th>3</th>\n",
       "      <td>2.0</td>\n",
       "      <td>2.0</td>\n",
       "      <td>1.0</td>\n",
       "      <td>32</td>\n",
       "      <td>No</td>\n",
       "      <td>Travel_Frequently</td>\n",
       "      <td>Research &amp; Development</td>\n",
       "      <td>17</td>\n",
       "      <td>4</td>\n",
       "      <td>Other</td>\n",
       "      <td>...</td>\n",
       "      <td>2015-12-18 17:02:23</td>\n",
       "      <td>2015-12-21 17:20:17</td>\n",
       "      <td>2015-12-22 16:32:50</td>\n",
       "      <td>2015-12-23 16:59:43</td>\n",
       "      <td>2015-12-24 16:58:25</td>\n",
       "      <td>NaN</td>\n",
       "      <td>2015-12-28 16:43:31</td>\n",
       "      <td>2015-12-29 17:09:56</td>\n",
       "      <td>2015-12-30 17:06:25</td>\n",
       "      <td>2015-12-31 17:15:50</td>\n",
       "    </tr>\n",
       "    <tr>\n",
       "      <th>4</th>\n",
       "      <td>4.0</td>\n",
       "      <td>4.0</td>\n",
       "      <td>3.0</td>\n",
       "      <td>38</td>\n",
       "      <td>No</td>\n",
       "      <td>Non-Travel</td>\n",
       "      <td>Research &amp; Development</td>\n",
       "      <td>2</td>\n",
       "      <td>5</td>\n",
       "      <td>Life Sciences</td>\n",
       "      <td>...</td>\n",
       "      <td>2015-12-18 17:55:23</td>\n",
       "      <td>2015-12-21 16:49:09</td>\n",
       "      <td>2015-12-22 17:24:00</td>\n",
       "      <td>2015-12-23 17:36:35</td>\n",
       "      <td>2015-12-24 16:48:21</td>\n",
       "      <td>NaN</td>\n",
       "      <td>2015-12-28 17:19:34</td>\n",
       "      <td>2015-12-29 16:58:16</td>\n",
       "      <td>2015-12-30 17:40:11</td>\n",
       "      <td>2015-12-31 17:09:14</td>\n",
       "    </tr>\n",
       "    <tr>\n",
       "      <th>5</th>\n",
       "      <td>4.0</td>\n",
       "      <td>1.0</td>\n",
       "      <td>3.0</td>\n",
       "      <td>32</td>\n",
       "      <td>No</td>\n",
       "      <td>Travel_Rarely</td>\n",
       "      <td>Research &amp; Development</td>\n",
       "      <td>10</td>\n",
       "      <td>1</td>\n",
       "      <td>Medical</td>\n",
       "      <td>...</td>\n",
       "      <td>2015-12-18 17:52:48</td>\n",
       "      <td>2015-12-21 17:43:35</td>\n",
       "      <td>2015-12-22 18:07:57</td>\n",
       "      <td>2015-12-23 18:00:49</td>\n",
       "      <td>2015-12-24 17:59:22</td>\n",
       "      <td>NaN</td>\n",
       "      <td>2015-12-28 17:44:59</td>\n",
       "      <td>2015-12-29 18:47:00</td>\n",
       "      <td>2015-12-30 17:15:33</td>\n",
       "      <td>2015-12-31 17:42:14</td>\n",
       "    </tr>\n",
       "  </tbody>\n",
       "</table>\n",
       "<p>5 rows × 550 columns</p>\n",
       "</div>"
      ],
      "text/plain": [
       "              employee_survey_data                                  \\\n",
       "           EnvironmentSatisfaction JobSatisfaction WorkLifeBalance   \n",
       "EmployeeID                                                           \n",
       "1                              3.0             4.0             2.0   \n",
       "2                              3.0             2.0             4.0   \n",
       "3                              2.0             2.0             1.0   \n",
       "4                              4.0             4.0             3.0   \n",
       "5                              4.0             1.0             3.0   \n",
       "\n",
       "           general_data                                                       \\\n",
       "                    Age Attrition     BusinessTravel              Department   \n",
       "EmployeeID                                                                     \n",
       "1                    51        No      Travel_Rarely                   Sales   \n",
       "2                    31       Yes  Travel_Frequently  Research & Development   \n",
       "3                    32        No  Travel_Frequently  Research & Development   \n",
       "4                    38        No         Non-Travel  Research & Development   \n",
       "5                    32        No      Travel_Rarely  Research & Development   \n",
       "\n",
       "                                                      ...  \\\n",
       "           DistanceFromHome Education EducationField  ...   \n",
       "EmployeeID                                            ...   \n",
       "1                         6         2  Life Sciences  ...   \n",
       "2                        10         1  Life Sciences  ...   \n",
       "3                        17         4          Other  ...   \n",
       "4                         2         5  Life Sciences  ...   \n",
       "5                        10         1        Medical  ...   \n",
       "\n",
       "                       out_time                                            \\\n",
       "                     2015-12-18           2015-12-21           2015-12-22   \n",
       "EmployeeID                                                                  \n",
       "1                           NaN  2015-12-21 17:15:50  2015-12-22 17:27:51   \n",
       "2           2015-12-18 18:31:28  2015-12-21 17:34:16  2015-12-22 18:16:35   \n",
       "3           2015-12-18 17:02:23  2015-12-21 17:20:17  2015-12-22 16:32:50   \n",
       "4           2015-12-18 17:55:23  2015-12-21 16:49:09  2015-12-22 17:24:00   \n",
       "5           2015-12-18 17:52:48  2015-12-21 17:43:35  2015-12-22 18:07:57   \n",
       "\n",
       "                                                                 \\\n",
       "                     2015-12-23           2015-12-24 2015-12-25   \n",
       "EmployeeID                                                        \n",
       "1           2015-12-23 16:44:44  2015-12-24 17:47:22        NaN   \n",
       "2           2015-12-23 17:38:18                  NaN        NaN   \n",
       "3           2015-12-23 16:59:43  2015-12-24 16:58:25        NaN   \n",
       "4           2015-12-23 17:36:35  2015-12-24 16:48:21        NaN   \n",
       "5           2015-12-23 18:00:49  2015-12-24 17:59:22        NaN   \n",
       "\n",
       "                                                                           \\\n",
       "                     2015-12-28           2015-12-29           2015-12-30   \n",
       "EmployeeID                                                                  \n",
       "1           2015-12-28 18:00:07  2015-12-29 17:22:30  2015-12-30 17:40:56   \n",
       "2           2015-12-28 17:08:38  2015-12-29 17:54:46  2015-12-30 18:31:35   \n",
       "3           2015-12-28 16:43:31  2015-12-29 17:09:56  2015-12-30 17:06:25   \n",
       "4           2015-12-28 17:19:34  2015-12-29 16:58:16  2015-12-30 17:40:11   \n",
       "5           2015-12-28 17:44:59  2015-12-29 18:47:00  2015-12-30 17:15:33   \n",
       "\n",
       "                                 \n",
       "                     2015-12-31  \n",
       "EmployeeID                       \n",
       "1           2015-12-31 17:17:33  \n",
       "2           2015-12-31 17:40:58  \n",
       "3           2015-12-31 17:15:50  \n",
       "4           2015-12-31 17:09:14  \n",
       "5           2015-12-31 17:42:14  \n",
       "\n",
       "[5 rows x 550 columns]"
      ]
     },
     "execution_count": 3,
     "metadata": {},
     "output_type": "execute_result"
    }
   ],
   "source": [
    "general_df = pd.concat(data.values(), axis=1, keys=data.keys())\n",
    "general_df.head()"
   ]
  },
  {
   "cell_type": "markdown",
   "id": "f439e52c",
   "metadata": {},
   "source": [
    "#### On affiche la description des colonnes pour chaque jeu de données\n",
    "\n",
    "On visualise ainsi quelles colonnes ont déjà des valeurs numériques ou non"
   ]
  },
  {
   "cell_type": "code",
   "execution_count": 4,
   "id": "420a078d",
   "metadata": {},
   "outputs": [
    {
     "name": "stdout",
     "output_type": "stream",
     "text": [
      "<class 'pandas.core.frame.DataFrame'>\n",
      "Int64Index: 4410 entries, 1 to 4410\n",
      "Columns: 550 entries, ('employee_survey_data', 'EnvironmentSatisfaction') to ('out_time', '2015-12-31')\n",
      "dtypes: float64(29), int64(15), object(506)\n",
      "memory usage: 18.5+ MB\n"
     ]
    }
   ],
   "source": [
    "general_df.info()"
   ]
  },
  {
   "cell_type": "code",
   "execution_count": 5,
   "id": "5974d3cf",
   "metadata": {
    "scrolled": false
   },
   "outputs": [
    {
     "data": {
      "text/html": [
       "<div>\n",
       "<style scoped>\n",
       "    .dataframe tbody tr th:only-of-type {\n",
       "        vertical-align: middle;\n",
       "    }\n",
       "\n",
       "    .dataframe tbody tr th {\n",
       "        vertical-align: top;\n",
       "    }\n",
       "\n",
       "    .dataframe thead tr th {\n",
       "        text-align: left;\n",
       "    }\n",
       "</style>\n",
       "<table border=\"1\" class=\"dataframe\">\n",
       "  <thead>\n",
       "    <tr>\n",
       "      <th></th>\n",
       "      <th colspan=\"3\" halign=\"left\">employee_survey_data</th>\n",
       "      <th colspan=\"7\" halign=\"left\">general_data</th>\n",
       "      <th>...</th>\n",
       "      <th colspan=\"10\" halign=\"left\">out_time</th>\n",
       "    </tr>\n",
       "    <tr>\n",
       "      <th></th>\n",
       "      <th>EnvironmentSatisfaction</th>\n",
       "      <th>JobSatisfaction</th>\n",
       "      <th>WorkLifeBalance</th>\n",
       "      <th>Age</th>\n",
       "      <th>DistanceFromHome</th>\n",
       "      <th>Education</th>\n",
       "      <th>EmployeeCount</th>\n",
       "      <th>JobLevel</th>\n",
       "      <th>MonthlyIncome</th>\n",
       "      <th>NumCompaniesWorked</th>\n",
       "      <th>...</th>\n",
       "      <th>2015-01-26</th>\n",
       "      <th>2015-03-05</th>\n",
       "      <th>2015-05-01</th>\n",
       "      <th>2015-07-17</th>\n",
       "      <th>2015-09-17</th>\n",
       "      <th>2015-10-02</th>\n",
       "      <th>2015-11-09</th>\n",
       "      <th>2015-11-10</th>\n",
       "      <th>2015-11-11</th>\n",
       "      <th>2015-12-25</th>\n",
       "    </tr>\n",
       "  </thead>\n",
       "  <tbody>\n",
       "    <tr>\n",
       "      <th>count</th>\n",
       "      <td>4385.000000</td>\n",
       "      <td>4390.000000</td>\n",
       "      <td>4372.000000</td>\n",
       "      <td>4410.000000</td>\n",
       "      <td>4410.000000</td>\n",
       "      <td>4410.000000</td>\n",
       "      <td>4410.0</td>\n",
       "      <td>4410.000000</td>\n",
       "      <td>4410.000000</td>\n",
       "      <td>4391.000000</td>\n",
       "      <td>...</td>\n",
       "      <td>0.0</td>\n",
       "      <td>0.0</td>\n",
       "      <td>0.0</td>\n",
       "      <td>0.0</td>\n",
       "      <td>0.0</td>\n",
       "      <td>0.0</td>\n",
       "      <td>0.0</td>\n",
       "      <td>0.0</td>\n",
       "      <td>0.0</td>\n",
       "      <td>0.0</td>\n",
       "    </tr>\n",
       "    <tr>\n",
       "      <th>mean</th>\n",
       "      <td>2.723603</td>\n",
       "      <td>2.728246</td>\n",
       "      <td>2.761436</td>\n",
       "      <td>36.923810</td>\n",
       "      <td>9.192517</td>\n",
       "      <td>2.912925</td>\n",
       "      <td>1.0</td>\n",
       "      <td>2.063946</td>\n",
       "      <td>65029.312925</td>\n",
       "      <td>2.694830</td>\n",
       "      <td>...</td>\n",
       "      <td>NaN</td>\n",
       "      <td>NaN</td>\n",
       "      <td>NaN</td>\n",
       "      <td>NaN</td>\n",
       "      <td>NaN</td>\n",
       "      <td>NaN</td>\n",
       "      <td>NaN</td>\n",
       "      <td>NaN</td>\n",
       "      <td>NaN</td>\n",
       "      <td>NaN</td>\n",
       "    </tr>\n",
       "    <tr>\n",
       "      <th>std</th>\n",
       "      <td>1.092756</td>\n",
       "      <td>1.101253</td>\n",
       "      <td>0.706245</td>\n",
       "      <td>9.133301</td>\n",
       "      <td>8.105026</td>\n",
       "      <td>1.023933</td>\n",
       "      <td>0.0</td>\n",
       "      <td>1.106689</td>\n",
       "      <td>47068.888559</td>\n",
       "      <td>2.498887</td>\n",
       "      <td>...</td>\n",
       "      <td>NaN</td>\n",
       "      <td>NaN</td>\n",
       "      <td>NaN</td>\n",
       "      <td>NaN</td>\n",
       "      <td>NaN</td>\n",
       "      <td>NaN</td>\n",
       "      <td>NaN</td>\n",
       "      <td>NaN</td>\n",
       "      <td>NaN</td>\n",
       "      <td>NaN</td>\n",
       "    </tr>\n",
       "    <tr>\n",
       "      <th>min</th>\n",
       "      <td>1.000000</td>\n",
       "      <td>1.000000</td>\n",
       "      <td>1.000000</td>\n",
       "      <td>18.000000</td>\n",
       "      <td>1.000000</td>\n",
       "      <td>1.000000</td>\n",
       "      <td>1.0</td>\n",
       "      <td>1.000000</td>\n",
       "      <td>10090.000000</td>\n",
       "      <td>0.000000</td>\n",
       "      <td>...</td>\n",
       "      <td>NaN</td>\n",
       "      <td>NaN</td>\n",
       "      <td>NaN</td>\n",
       "      <td>NaN</td>\n",
       "      <td>NaN</td>\n",
       "      <td>NaN</td>\n",
       "      <td>NaN</td>\n",
       "      <td>NaN</td>\n",
       "      <td>NaN</td>\n",
       "      <td>NaN</td>\n",
       "    </tr>\n",
       "    <tr>\n",
       "      <th>25%</th>\n",
       "      <td>2.000000</td>\n",
       "      <td>2.000000</td>\n",
       "      <td>2.000000</td>\n",
       "      <td>30.000000</td>\n",
       "      <td>2.000000</td>\n",
       "      <td>2.000000</td>\n",
       "      <td>1.0</td>\n",
       "      <td>1.000000</td>\n",
       "      <td>29110.000000</td>\n",
       "      <td>1.000000</td>\n",
       "      <td>...</td>\n",
       "      <td>NaN</td>\n",
       "      <td>NaN</td>\n",
       "      <td>NaN</td>\n",
       "      <td>NaN</td>\n",
       "      <td>NaN</td>\n",
       "      <td>NaN</td>\n",
       "      <td>NaN</td>\n",
       "      <td>NaN</td>\n",
       "      <td>NaN</td>\n",
       "      <td>NaN</td>\n",
       "    </tr>\n",
       "    <tr>\n",
       "      <th>50%</th>\n",
       "      <td>3.000000</td>\n",
       "      <td>3.000000</td>\n",
       "      <td>3.000000</td>\n",
       "      <td>36.000000</td>\n",
       "      <td>7.000000</td>\n",
       "      <td>3.000000</td>\n",
       "      <td>1.0</td>\n",
       "      <td>2.000000</td>\n",
       "      <td>49190.000000</td>\n",
       "      <td>2.000000</td>\n",
       "      <td>...</td>\n",
       "      <td>NaN</td>\n",
       "      <td>NaN</td>\n",
       "      <td>NaN</td>\n",
       "      <td>NaN</td>\n",
       "      <td>NaN</td>\n",
       "      <td>NaN</td>\n",
       "      <td>NaN</td>\n",
       "      <td>NaN</td>\n",
       "      <td>NaN</td>\n",
       "      <td>NaN</td>\n",
       "    </tr>\n",
       "    <tr>\n",
       "      <th>75%</th>\n",
       "      <td>4.000000</td>\n",
       "      <td>4.000000</td>\n",
       "      <td>3.000000</td>\n",
       "      <td>43.000000</td>\n",
       "      <td>14.000000</td>\n",
       "      <td>4.000000</td>\n",
       "      <td>1.0</td>\n",
       "      <td>3.000000</td>\n",
       "      <td>83800.000000</td>\n",
       "      <td>4.000000</td>\n",
       "      <td>...</td>\n",
       "      <td>NaN</td>\n",
       "      <td>NaN</td>\n",
       "      <td>NaN</td>\n",
       "      <td>NaN</td>\n",
       "      <td>NaN</td>\n",
       "      <td>NaN</td>\n",
       "      <td>NaN</td>\n",
       "      <td>NaN</td>\n",
       "      <td>NaN</td>\n",
       "      <td>NaN</td>\n",
       "    </tr>\n",
       "    <tr>\n",
       "      <th>max</th>\n",
       "      <td>4.000000</td>\n",
       "      <td>4.000000</td>\n",
       "      <td>4.000000</td>\n",
       "      <td>60.000000</td>\n",
       "      <td>29.000000</td>\n",
       "      <td>5.000000</td>\n",
       "      <td>1.0</td>\n",
       "      <td>5.000000</td>\n",
       "      <td>199990.000000</td>\n",
       "      <td>9.000000</td>\n",
       "      <td>...</td>\n",
       "      <td>NaN</td>\n",
       "      <td>NaN</td>\n",
       "      <td>NaN</td>\n",
       "      <td>NaN</td>\n",
       "      <td>NaN</td>\n",
       "      <td>NaN</td>\n",
       "      <td>NaN</td>\n",
       "      <td>NaN</td>\n",
       "      <td>NaN</td>\n",
       "      <td>NaN</td>\n",
       "    </tr>\n",
       "  </tbody>\n",
       "</table>\n",
       "<p>8 rows × 44 columns</p>\n",
       "</div>"
      ],
      "text/plain": [
       "         employee_survey_data                                 general_data  \\\n",
       "      EnvironmentSatisfaction JobSatisfaction WorkLifeBalance          Age   \n",
       "count             4385.000000     4390.000000     4372.000000  4410.000000   \n",
       "mean                 2.723603        2.728246        2.761436    36.923810   \n",
       "std                  1.092756        1.101253        0.706245     9.133301   \n",
       "min                  1.000000        1.000000        1.000000    18.000000   \n",
       "25%                  2.000000        2.000000        2.000000    30.000000   \n",
       "50%                  3.000000        3.000000        3.000000    36.000000   \n",
       "75%                  4.000000        4.000000        3.000000    43.000000   \n",
       "max                  4.000000        4.000000        4.000000    60.000000   \n",
       "\n",
       "                                                                               \\\n",
       "      DistanceFromHome    Education EmployeeCount     JobLevel  MonthlyIncome   \n",
       "count      4410.000000  4410.000000        4410.0  4410.000000    4410.000000   \n",
       "mean          9.192517     2.912925           1.0     2.063946   65029.312925   \n",
       "std           8.105026     1.023933           0.0     1.106689   47068.888559   \n",
       "min           1.000000     1.000000           1.0     1.000000   10090.000000   \n",
       "25%           2.000000     2.000000           1.0     1.000000   29110.000000   \n",
       "50%           7.000000     3.000000           1.0     2.000000   49190.000000   \n",
       "75%          14.000000     4.000000           1.0     3.000000   83800.000000   \n",
       "max          29.000000     5.000000           1.0     5.000000  199990.000000   \n",
       "\n",
       "                          ...   out_time                                   \\\n",
       "      NumCompaniesWorked  ... 2015-01-26 2015-03-05 2015-05-01 2015-07-17   \n",
       "count        4391.000000  ...        0.0        0.0        0.0        0.0   \n",
       "mean            2.694830  ...        NaN        NaN        NaN        NaN   \n",
       "std             2.498887  ...        NaN        NaN        NaN        NaN   \n",
       "min             0.000000  ...        NaN        NaN        NaN        NaN   \n",
       "25%             1.000000  ...        NaN        NaN        NaN        NaN   \n",
       "50%             2.000000  ...        NaN        NaN        NaN        NaN   \n",
       "75%             4.000000  ...        NaN        NaN        NaN        NaN   \n",
       "max             9.000000  ...        NaN        NaN        NaN        NaN   \n",
       "\n",
       "                                                                         \n",
       "      2015-09-17 2015-10-02 2015-11-09 2015-11-10 2015-11-11 2015-12-25  \n",
       "count        0.0        0.0        0.0        0.0        0.0        0.0  \n",
       "mean         NaN        NaN        NaN        NaN        NaN        NaN  \n",
       "std          NaN        NaN        NaN        NaN        NaN        NaN  \n",
       "min          NaN        NaN        NaN        NaN        NaN        NaN  \n",
       "25%          NaN        NaN        NaN        NaN        NaN        NaN  \n",
       "50%          NaN        NaN        NaN        NaN        NaN        NaN  \n",
       "75%          NaN        NaN        NaN        NaN        NaN        NaN  \n",
       "max          NaN        NaN        NaN        NaN        NaN        NaN  \n",
       "\n",
       "[8 rows x 44 columns]"
      ]
     },
     "execution_count": 5,
     "metadata": {},
     "output_type": "execute_result"
    }
   ],
   "source": [
    "general_df.describe()"
   ]
  },
  {
   "cell_type": "markdown",
   "id": "30463000",
   "metadata": {},
   "source": [
    "#### On encode les colonnes non-numériques\n",
    "\n",
    "On encode les chaînes de caractères récurrentes en associant chaque chaîne à un nombre.\n",
    "On encode les dates en les convertissant en secondes."
   ]
  },
  {
   "cell_type": "code",
   "execution_count": 6,
   "id": "b33da911",
   "metadata": {},
   "outputs": [],
   "source": [
    "from sklearn.preprocessing import OrdinalEncoder\n",
    "from pandas.api.types import is_numeric_dtype\n",
    "\n",
    "def encodeNonNumericColumns(df, table_name):\n",
    "    table = data[table_name]\n",
    "    fields_encoded = {}\n",
    "\n",
    "    for column in table.columns:\n",
    "        if not is_numeric_dtype(table[column]):\n",
    "            field = table[[column]]\n",
    "            ordinal_encoder = OrdinalEncoder()\n",
    "            field_encoded = ordinal_encoder.fit_transform(field)\n",
    "            fields_encoded[column] = field_encoded\n",
    "\n",
    "    for key in fields_encoded.keys():\n",
    "        df.loc[:, (table_name, key)] = fields_encoded[key]"
   ]
  },
  {
   "cell_type": "code",
   "execution_count": 7,
   "id": "98faa322",
   "metadata": {},
   "outputs": [],
   "source": [
    "# transforme dates dans df['out_time'] et df['in_time'] en numérique\n",
    "from datetime import datetime\n",
    "\n",
    "def transformDateToNumeric(df, table_name):\n",
    "    table = df[table_name]\n",
    "    for column in table.columns:\n",
    "        if not is_numeric_dtype(table[column]):\n",
    "            df.loc[:, (table_name, column)] = df.loc[:, (table_name, column)].apply(lambda x: datetime.strptime(x, '%Y-%m-%d %H:%M:%S').timestamp() if not pd.isna(x) else x)\n",
    "\n",
    "# remmetre les colonnes date numérique en date\n",
    "def transformNumericToDate(df, table_name):\n",
    "    table = df[table_name]\n",
    "    for column in table.columns:\n",
    "        if is_numeric_dtype(table[column]):\n",
    "            df.loc[:, (table_name, column)] = df.loc[:, (table_name, column)].apply(lambda x: datetime.fromtimestamp(x) if not pd.isna(x) else x)"
   ]
  },
  {
   "cell_type": "code",
   "execution_count": 8,
   "id": "9db7c1a2",
   "metadata": {},
   "outputs": [],
   "source": [
    "def fillEmptyValues(df, table_name):\n",
    "    table = df[table_name]\n",
    "    for column in table.columns:\n",
    "        if not is_numeric_dtype(table[column]):\n",
    "            median = 0.0\n",
    "        else:\n",
    "            median = table[column].median()\n",
    "        df.loc[:, (table_name, column)].fillna(median, inplace=True)"
   ]
  },
  {
   "cell_type": "code",
   "execution_count": 9,
   "id": "c7dd2b65",
   "metadata": {},
   "outputs": [],
   "source": [
    "def checkIfTableIsFull(df, table_name):\n",
    "    table = df[table_name]\n",
    "    res = True\n",
    "    for column in table.columns:\n",
    "        if df.loc[:, (table_name, column)].isnull().any():\n",
    "            res = False\n",
    "    print(res)"
   ]
  },
  {
   "cell_type": "code",
   "execution_count": 10,
   "id": "46ef8e90",
   "metadata": {
    "scrolled": false
   },
   "outputs": [],
   "source": [
    "df_non_ethical = general_df.copy()"
   ]
  },
  {
   "cell_type": "code",
   "execution_count": 11,
   "id": "05dbbbd2",
   "metadata": {},
   "outputs": [],
   "source": [
    "encodeNonNumericColumns(df_non_ethical, \"general_data\")\n",
    "\n",
    "fillEmptyValues(df_non_ethical, \"general_data\")\n",
    "fillEmptyValues(df_non_ethical, \"employee_survey_data\")\n",
    "fillEmptyValues(df_non_ethical, \"manager_survey_data\")\n",
    "\n",
    "transformDateToNumeric(df_non_ethical, \"out_time\")\n",
    "transformDateToNumeric(df_non_ethical, \"in_time\")\n",
    "fillEmptyValues(df_non_ethical, \"out_time\")\n",
    "fillEmptyValues(df_non_ethical, \"in_time\")"
   ]
  },
  {
   "cell_type": "code",
   "execution_count": 12,
   "id": "8b1a81b3",
   "metadata": {},
   "outputs": [
    {
     "data": {
      "text/html": [
       "<div>\n",
       "<style scoped>\n",
       "    .dataframe tbody tr th:only-of-type {\n",
       "        vertical-align: middle;\n",
       "    }\n",
       "\n",
       "    .dataframe tbody tr th {\n",
       "        vertical-align: top;\n",
       "    }\n",
       "\n",
       "    .dataframe thead tr th {\n",
       "        text-align: left;\n",
       "    }\n",
       "\n",
       "    .dataframe thead tr:last-of-type th {\n",
       "        text-align: right;\n",
       "    }\n",
       "</style>\n",
       "<table border=\"1\" class=\"dataframe\">\n",
       "  <thead>\n",
       "    <tr>\n",
       "      <th></th>\n",
       "      <th colspan=\"3\" halign=\"left\">employee_survey_data</th>\n",
       "      <th colspan=\"7\" halign=\"left\">general_data</th>\n",
       "      <th>...</th>\n",
       "      <th colspan=\"10\" halign=\"left\">out_time</th>\n",
       "    </tr>\n",
       "    <tr>\n",
       "      <th></th>\n",
       "      <th>EnvironmentSatisfaction</th>\n",
       "      <th>JobSatisfaction</th>\n",
       "      <th>WorkLifeBalance</th>\n",
       "      <th>Age</th>\n",
       "      <th>Attrition</th>\n",
       "      <th>BusinessTravel</th>\n",
       "      <th>Department</th>\n",
       "      <th>DistanceFromHome</th>\n",
       "      <th>Education</th>\n",
       "      <th>EducationField</th>\n",
       "      <th>...</th>\n",
       "      <th>2015-12-18</th>\n",
       "      <th>2015-12-21</th>\n",
       "      <th>2015-12-22</th>\n",
       "      <th>2015-12-23</th>\n",
       "      <th>2015-12-24</th>\n",
       "      <th>2015-12-25</th>\n",
       "      <th>2015-12-28</th>\n",
       "      <th>2015-12-29</th>\n",
       "      <th>2015-12-30</th>\n",
       "      <th>2015-12-31</th>\n",
       "    </tr>\n",
       "    <tr>\n",
       "      <th>EmployeeID</th>\n",
       "      <th></th>\n",
       "      <th></th>\n",
       "      <th></th>\n",
       "      <th></th>\n",
       "      <th></th>\n",
       "      <th></th>\n",
       "      <th></th>\n",
       "      <th></th>\n",
       "      <th></th>\n",
       "      <th></th>\n",
       "      <th></th>\n",
       "      <th></th>\n",
       "      <th></th>\n",
       "      <th></th>\n",
       "      <th></th>\n",
       "      <th></th>\n",
       "      <th></th>\n",
       "      <th></th>\n",
       "      <th></th>\n",
       "      <th></th>\n",
       "      <th></th>\n",
       "    </tr>\n",
       "  </thead>\n",
       "  <tbody>\n",
       "    <tr>\n",
       "      <th>1</th>\n",
       "      <td>3.0</td>\n",
       "      <td>4.0</td>\n",
       "      <td>2.0</td>\n",
       "      <td>51</td>\n",
       "      <td>0.0</td>\n",
       "      <td>2.0</td>\n",
       "      <td>2.0</td>\n",
       "      <td>6</td>\n",
       "      <td>2</td>\n",
       "      <td>1.0</td>\n",
       "      <td>...</td>\n",
       "      <td>1.450456e+09</td>\n",
       "      <td>1.450715e+09</td>\n",
       "      <td>1.450802e+09</td>\n",
       "      <td>1.450885e+09</td>\n",
       "      <td>1.450976e+09</td>\n",
       "      <td>NaN</td>\n",
       "      <td>1.451322e+09</td>\n",
       "      <td>1.451406e+09</td>\n",
       "      <td>1.451494e+09</td>\n",
       "      <td>1.451579e+09</td>\n",
       "    </tr>\n",
       "    <tr>\n",
       "      <th>2</th>\n",
       "      <td>3.0</td>\n",
       "      <td>2.0</td>\n",
       "      <td>4.0</td>\n",
       "      <td>31</td>\n",
       "      <td>1.0</td>\n",
       "      <td>1.0</td>\n",
       "      <td>1.0</td>\n",
       "      <td>10</td>\n",
       "      <td>1</td>\n",
       "      <td>1.0</td>\n",
       "      <td>...</td>\n",
       "      <td>1.450460e+09</td>\n",
       "      <td>1.450716e+09</td>\n",
       "      <td>1.450805e+09</td>\n",
       "      <td>1.450889e+09</td>\n",
       "      <td>1.450974e+09</td>\n",
       "      <td>NaN</td>\n",
       "      <td>1.451319e+09</td>\n",
       "      <td>1.451408e+09</td>\n",
       "      <td>1.451497e+09</td>\n",
       "      <td>1.451580e+09</td>\n",
       "    </tr>\n",
       "    <tr>\n",
       "      <th>3</th>\n",
       "      <td>2.0</td>\n",
       "      <td>2.0</td>\n",
       "      <td>1.0</td>\n",
       "      <td>32</td>\n",
       "      <td>0.0</td>\n",
       "      <td>1.0</td>\n",
       "      <td>1.0</td>\n",
       "      <td>17</td>\n",
       "      <td>4</td>\n",
       "      <td>4.0</td>\n",
       "      <td>...</td>\n",
       "      <td>1.450455e+09</td>\n",
       "      <td>1.450715e+09</td>\n",
       "      <td>1.450798e+09</td>\n",
       "      <td>1.450886e+09</td>\n",
       "      <td>1.450973e+09</td>\n",
       "      <td>NaN</td>\n",
       "      <td>1.451317e+09</td>\n",
       "      <td>1.451405e+09</td>\n",
       "      <td>1.451492e+09</td>\n",
       "      <td>1.451579e+09</td>\n",
       "    </tr>\n",
       "    <tr>\n",
       "      <th>4</th>\n",
       "      <td>4.0</td>\n",
       "      <td>4.0</td>\n",
       "      <td>3.0</td>\n",
       "      <td>38</td>\n",
       "      <td>0.0</td>\n",
       "      <td>0.0</td>\n",
       "      <td>1.0</td>\n",
       "      <td>2</td>\n",
       "      <td>5</td>\n",
       "      <td>1.0</td>\n",
       "      <td>...</td>\n",
       "      <td>1.450458e+09</td>\n",
       "      <td>1.450713e+09</td>\n",
       "      <td>1.450801e+09</td>\n",
       "      <td>1.450889e+09</td>\n",
       "      <td>1.450972e+09</td>\n",
       "      <td>NaN</td>\n",
       "      <td>1.451320e+09</td>\n",
       "      <td>1.451405e+09</td>\n",
       "      <td>1.451494e+09</td>\n",
       "      <td>1.451578e+09</td>\n",
       "    </tr>\n",
       "    <tr>\n",
       "      <th>5</th>\n",
       "      <td>4.0</td>\n",
       "      <td>1.0</td>\n",
       "      <td>3.0</td>\n",
       "      <td>32</td>\n",
       "      <td>0.0</td>\n",
       "      <td>2.0</td>\n",
       "      <td>1.0</td>\n",
       "      <td>10</td>\n",
       "      <td>1</td>\n",
       "      <td>3.0</td>\n",
       "      <td>...</td>\n",
       "      <td>1.450458e+09</td>\n",
       "      <td>1.450716e+09</td>\n",
       "      <td>1.450804e+09</td>\n",
       "      <td>1.450890e+09</td>\n",
       "      <td>1.450976e+09</td>\n",
       "      <td>NaN</td>\n",
       "      <td>1.451321e+09</td>\n",
       "      <td>1.451411e+09</td>\n",
       "      <td>1.451492e+09</td>\n",
       "      <td>1.451580e+09</td>\n",
       "    </tr>\n",
       "  </tbody>\n",
       "</table>\n",
       "<p>5 rows × 550 columns</p>\n",
       "</div>"
      ],
      "text/plain": [
       "              employee_survey_data                                  \\\n",
       "           EnvironmentSatisfaction JobSatisfaction WorkLifeBalance   \n",
       "EmployeeID                                                           \n",
       "1                              3.0             4.0             2.0   \n",
       "2                              3.0             2.0             4.0   \n",
       "3                              2.0             2.0             1.0   \n",
       "4                              4.0             4.0             3.0   \n",
       "5                              4.0             1.0             3.0   \n",
       "\n",
       "           general_data                                                       \\\n",
       "                    Age Attrition BusinessTravel Department DistanceFromHome   \n",
       "EmployeeID                                                                     \n",
       "1                    51       0.0            2.0        2.0                6   \n",
       "2                    31       1.0            1.0        1.0               10   \n",
       "3                    32       0.0            1.0        1.0               17   \n",
       "4                    38       0.0            0.0        1.0                2   \n",
       "5                    32       0.0            2.0        1.0               10   \n",
       "\n",
       "                                     ...      out_time                \\\n",
       "           Education EducationField  ...    2015-12-18    2015-12-21   \n",
       "EmployeeID                           ...                               \n",
       "1                  2            1.0  ...  1.450456e+09  1.450715e+09   \n",
       "2                  1            1.0  ...  1.450460e+09  1.450716e+09   \n",
       "3                  4            4.0  ...  1.450455e+09  1.450715e+09   \n",
       "4                  5            1.0  ...  1.450458e+09  1.450713e+09   \n",
       "5                  1            3.0  ...  1.450458e+09  1.450716e+09   \n",
       "\n",
       "                                                                               \\\n",
       "              2015-12-22    2015-12-23    2015-12-24 2015-12-25    2015-12-28   \n",
       "EmployeeID                                                                      \n",
       "1           1.450802e+09  1.450885e+09  1.450976e+09        NaN  1.451322e+09   \n",
       "2           1.450805e+09  1.450889e+09  1.450974e+09        NaN  1.451319e+09   \n",
       "3           1.450798e+09  1.450886e+09  1.450973e+09        NaN  1.451317e+09   \n",
       "4           1.450801e+09  1.450889e+09  1.450972e+09        NaN  1.451320e+09   \n",
       "5           1.450804e+09  1.450890e+09  1.450976e+09        NaN  1.451321e+09   \n",
       "\n",
       "                                                      \n",
       "              2015-12-29    2015-12-30    2015-12-31  \n",
       "EmployeeID                                            \n",
       "1           1.451406e+09  1.451494e+09  1.451579e+09  \n",
       "2           1.451408e+09  1.451497e+09  1.451580e+09  \n",
       "3           1.451405e+09  1.451492e+09  1.451579e+09  \n",
       "4           1.451405e+09  1.451494e+09  1.451578e+09  \n",
       "5           1.451411e+09  1.451492e+09  1.451580e+09  \n",
       "\n",
       "[5 rows x 550 columns]"
      ]
     },
     "execution_count": 12,
     "metadata": {},
     "output_type": "execute_result"
    }
   ],
   "source": [
    "df_non_ethical.head()"
   ]
  },
  {
   "cell_type": "markdown",
   "id": "d4f05cff",
   "metadata": {},
   "source": [
    "#### On supprime des colonnes jugées inutiles pour créer un nouveau Dataframe plus éthique"
   ]
  },
  {
   "cell_type": "code",
   "execution_count": 13,
   "id": "ca2ab85c",
   "metadata": {},
   "outputs": [],
   "source": [
    "def dropColumns(df, table_name, columns_to_drop=\"\"):\n",
    "    table = df[table_name]\n",
    "    if columns_to_drop == \"\":\n",
    "        for column in table.columns:\n",
    "            if df.loc[:, (table_name, column)].isnull().any():\n",
    "                df.drop((table_name, column), axis=1, inplace=True)\n",
    "    else:\n",
    "        for column in columns_to_drop:\n",
    "            df.drop((table_name, column), axis=1, inplace=True)"
   ]
  },
  {
   "cell_type": "code",
   "execution_count": 74,
   "id": "a9811317",
   "metadata": {
    "scrolled": false
   },
   "outputs": [],
   "source": [
    "dropColumns(df_non_ethical, \"in_time\")\n",
    "dropColumns(df_non_ethical, \"out_time\")\n",
    "\n",
    "df_ethical = df_non_ethical.copy()\n",
    "\n",
    "columns_to_drop = [\n",
    "    \"MaritalStatus\",\n",
    "    \"Over18\",\n",
    "    \"StandardHours\",\n",
    "    \"StockOptionLevel\",\n",
    "    \"TrainingTimesLastYear\",\n",
    "    \"Gender\"\n",
    "]\n",
    "\n",
    "dropColumns(df_ethical, \"general_data\", columns_to_drop)"
   ]
  },
  {
   "cell_type": "markdown",
   "id": "6b673a36",
   "metadata": {},
   "source": [
    "#### On met toutes les valeurs numériques à la même échelle"
   ]
  },
  {
   "cell_type": "code",
   "execution_count": 106,
   "id": "3fbc601a",
   "metadata": {},
   "outputs": [],
   "source": [
    "from sklearn.preprocessing import MinMaxScaler\n",
    "\n",
    "def normalizeColumns(df):\n",
    "    for table_name in df.columns.get_level_values(0).unique():\n",
    "        table = df[table_name]\n",
    "        for column in table.columns:\n",
    "            if is_numeric_dtype(table[column]):\n",
    "                scaler = MinMaxScaler()\n",
    "                df.loc[:, (table_name, column)] = scaler.fit_transform(df.loc[:, (table_name, column)].values.reshape(-1, 1))"
   ]
  },
  {
   "cell_type": "code",
   "execution_count": 122,
   "id": "fb27a708",
   "metadata": {},
   "outputs": [],
   "source": [
    "normalizeColumns(df_ethical)\n",
    "normalizeColumns(df_non_ethical)"
   ]
  },
  {
   "cell_type": "code",
   "execution_count": 123,
   "id": "30d07e8f",
   "metadata": {},
   "outputs": [
    {
     "data": {
      "text/html": [
       "<div>\n",
       "<style scoped>\n",
       "    .dataframe tbody tr th:only-of-type {\n",
       "        vertical-align: middle;\n",
       "    }\n",
       "\n",
       "    .dataframe tbody tr th {\n",
       "        vertical-align: top;\n",
       "    }\n",
       "\n",
       "    .dataframe thead tr th {\n",
       "        text-align: left;\n",
       "    }\n",
       "\n",
       "    .dataframe thead tr:last-of-type th {\n",
       "        text-align: right;\n",
       "    }\n",
       "</style>\n",
       "<table border=\"1\" class=\"dataframe\">\n",
       "  <thead>\n",
       "    <tr>\n",
       "      <th></th>\n",
       "      <th colspan=\"3\" halign=\"left\">employee_survey_data</th>\n",
       "      <th colspan=\"7\" halign=\"left\">general_data</th>\n",
       "      <th>...</th>\n",
       "      <th colspan=\"10\" halign=\"left\">out_time</th>\n",
       "    </tr>\n",
       "    <tr>\n",
       "      <th></th>\n",
       "      <th>EnvironmentSatisfaction</th>\n",
       "      <th>JobSatisfaction</th>\n",
       "      <th>WorkLifeBalance</th>\n",
       "      <th>Age</th>\n",
       "      <th>Attrition</th>\n",
       "      <th>BusinessTravel</th>\n",
       "      <th>Department</th>\n",
       "      <th>DistanceFromHome</th>\n",
       "      <th>Education</th>\n",
       "      <th>EducationField</th>\n",
       "      <th>...</th>\n",
       "      <th>2015-12-17</th>\n",
       "      <th>2015-12-18</th>\n",
       "      <th>2015-12-21</th>\n",
       "      <th>2015-12-22</th>\n",
       "      <th>2015-12-23</th>\n",
       "      <th>2015-12-24</th>\n",
       "      <th>2015-12-28</th>\n",
       "      <th>2015-12-29</th>\n",
       "      <th>2015-12-30</th>\n",
       "      <th>2015-12-31</th>\n",
       "    </tr>\n",
       "    <tr>\n",
       "      <th>EmployeeID</th>\n",
       "      <th></th>\n",
       "      <th></th>\n",
       "      <th></th>\n",
       "      <th></th>\n",
       "      <th></th>\n",
       "      <th></th>\n",
       "      <th></th>\n",
       "      <th></th>\n",
       "      <th></th>\n",
       "      <th></th>\n",
       "      <th></th>\n",
       "      <th></th>\n",
       "      <th></th>\n",
       "      <th></th>\n",
       "      <th></th>\n",
       "      <th></th>\n",
       "      <th></th>\n",
       "      <th></th>\n",
       "      <th></th>\n",
       "      <th></th>\n",
       "      <th></th>\n",
       "    </tr>\n",
       "  </thead>\n",
       "  <tbody>\n",
       "    <tr>\n",
       "      <th>1</th>\n",
       "      <td>0.666667</td>\n",
       "      <td>1.000000</td>\n",
       "      <td>0.333333</td>\n",
       "      <td>0.785714</td>\n",
       "      <td>0.0</td>\n",
       "      <td>1.0</td>\n",
       "      <td>1.0</td>\n",
       "      <td>0.178571</td>\n",
       "      <td>0.25</td>\n",
       "      <td>0.2</td>\n",
       "      <td>...</td>\n",
       "      <td>0.381373</td>\n",
       "      <td>0.349970</td>\n",
       "      <td>0.316230</td>\n",
       "      <td>0.366756</td>\n",
       "      <td>0.308509</td>\n",
       "      <td>0.404837</td>\n",
       "      <td>0.415617</td>\n",
       "      <td>0.373205</td>\n",
       "      <td>0.381853</td>\n",
       "      <td>0.336034</td>\n",
       "    </tr>\n",
       "    <tr>\n",
       "      <th>2</th>\n",
       "      <td>0.666667</td>\n",
       "      <td>0.333333</td>\n",
       "      <td>1.000000</td>\n",
       "      <td>0.309524</td>\n",
       "      <td>1.0</td>\n",
       "      <td>0.5</td>\n",
       "      <td>0.5</td>\n",
       "      <td>0.321429</td>\n",
       "      <td>0.00</td>\n",
       "      <td>0.2</td>\n",
       "      <td>...</td>\n",
       "      <td>0.347781</td>\n",
       "      <td>0.518992</td>\n",
       "      <td>0.360496</td>\n",
       "      <td>0.488813</td>\n",
       "      <td>0.428668</td>\n",
       "      <td>0.351389</td>\n",
       "      <td>0.299820</td>\n",
       "      <td>0.448148</td>\n",
       "      <td>0.497713</td>\n",
       "      <td>0.391827</td>\n",
       "    </tr>\n",
       "    <tr>\n",
       "      <th>3</th>\n",
       "      <td>0.333333</td>\n",
       "      <td>0.333333</td>\n",
       "      <td>0.000000</td>\n",
       "      <td>0.333333</td>\n",
       "      <td>0.0</td>\n",
       "      <td>0.5</td>\n",
       "      <td>0.5</td>\n",
       "      <td>0.571429</td>\n",
       "      <td>0.75</td>\n",
       "      <td>0.8</td>\n",
       "      <td>...</td>\n",
       "      <td>0.337154</td>\n",
       "      <td>0.292911</td>\n",
       "      <td>0.326916</td>\n",
       "      <td>0.228961</td>\n",
       "      <td>0.342119</td>\n",
       "      <td>0.293507</td>\n",
       "      <td>0.243327</td>\n",
       "      <td>0.344017</td>\n",
       "      <td>0.302897</td>\n",
       "      <td>0.331943</td>\n",
       "    </tr>\n",
       "    <tr>\n",
       "      <th>4</th>\n",
       "      <td>1.000000</td>\n",
       "      <td>1.000000</td>\n",
       "      <td>0.666667</td>\n",
       "      <td>0.476190</td>\n",
       "      <td>0.0</td>\n",
       "      <td>0.0</td>\n",
       "      <td>0.5</td>\n",
       "      <td>0.035714</td>\n",
       "      <td>1.00</td>\n",
       "      <td>0.2</td>\n",
       "      <td>...</td>\n",
       "      <td>0.374328</td>\n",
       "      <td>0.427417</td>\n",
       "      <td>0.252151</td>\n",
       "      <td>0.357113</td>\n",
       "      <td>0.424817</td>\n",
       "      <td>0.270611</td>\n",
       "      <td>0.324411</td>\n",
       "      <td>0.316920</td>\n",
       "      <td>0.380137</td>\n",
       "      <td>0.316218</td>\n",
       "    </tr>\n",
       "    <tr>\n",
       "      <th>5</th>\n",
       "      <td>1.000000</td>\n",
       "      <td>0.000000</td>\n",
       "      <td>0.666667</td>\n",
       "      <td>0.333333</td>\n",
       "      <td>0.0</td>\n",
       "      <td>1.0</td>\n",
       "      <td>0.5</td>\n",
       "      <td>0.321429</td>\n",
       "      <td>0.00</td>\n",
       "      <td>0.6</td>\n",
       "      <td>...</td>\n",
       "      <td>0.479005</td>\n",
       "      <td>0.420861</td>\n",
       "      <td>0.382870</td>\n",
       "      <td>0.467190</td>\n",
       "      <td>0.479176</td>\n",
       "      <td>0.432129</td>\n",
       "      <td>0.381579</td>\n",
       "      <td>0.569465</td>\n",
       "      <td>0.323790</td>\n",
       "      <td>0.394846</td>\n",
       "    </tr>\n",
       "  </tbody>\n",
       "</table>\n",
       "<p>5 rows × 526 columns</p>\n",
       "</div>"
      ],
      "text/plain": [
       "              employee_survey_data                                  \\\n",
       "           EnvironmentSatisfaction JobSatisfaction WorkLifeBalance   \n",
       "EmployeeID                                                           \n",
       "1                         0.666667        1.000000        0.333333   \n",
       "2                         0.666667        0.333333        1.000000   \n",
       "3                         0.333333        0.333333        0.000000   \n",
       "4                         1.000000        1.000000        0.666667   \n",
       "5                         1.000000        0.000000        0.666667   \n",
       "\n",
       "           general_data                                                       \\\n",
       "                    Age Attrition BusinessTravel Department DistanceFromHome   \n",
       "EmployeeID                                                                     \n",
       "1              0.785714       0.0            1.0        1.0         0.178571   \n",
       "2              0.309524       1.0            0.5        0.5         0.321429   \n",
       "3              0.333333       0.0            0.5        0.5         0.571429   \n",
       "4              0.476190       0.0            0.0        0.5         0.035714   \n",
       "5              0.333333       0.0            1.0        0.5         0.321429   \n",
       "\n",
       "                                     ...   out_time                        \\\n",
       "           Education EducationField  ... 2015-12-17 2015-12-18 2015-12-21   \n",
       "EmployeeID                           ...                                    \n",
       "1               0.25            0.2  ...   0.381373   0.349970   0.316230   \n",
       "2               0.00            0.2  ...   0.347781   0.518992   0.360496   \n",
       "3               0.75            0.8  ...   0.337154   0.292911   0.326916   \n",
       "4               1.00            0.2  ...   0.374328   0.427417   0.252151   \n",
       "5               0.00            0.6  ...   0.479005   0.420861   0.382870   \n",
       "\n",
       "                                                                              \\\n",
       "           2015-12-22 2015-12-23 2015-12-24 2015-12-28 2015-12-29 2015-12-30   \n",
       "EmployeeID                                                                     \n",
       "1            0.366756   0.308509   0.404837   0.415617   0.373205   0.381853   \n",
       "2            0.488813   0.428668   0.351389   0.299820   0.448148   0.497713   \n",
       "3            0.228961   0.342119   0.293507   0.243327   0.344017   0.302897   \n",
       "4            0.357113   0.424817   0.270611   0.324411   0.316920   0.380137   \n",
       "5            0.467190   0.479176   0.432129   0.381579   0.569465   0.323790   \n",
       "\n",
       "                       \n",
       "           2015-12-31  \n",
       "EmployeeID             \n",
       "1            0.336034  \n",
       "2            0.391827  \n",
       "3            0.331943  \n",
       "4            0.316218  \n",
       "5            0.394846  \n",
       "\n",
       "[5 rows x 526 columns]"
      ]
     },
     "execution_count": 123,
     "metadata": {},
     "output_type": "execute_result"
    }
   ],
   "source": [
    "df_non_ethical.head()"
   ]
  },
  {
   "cell_type": "markdown",
   "id": "05ba57d1",
   "metadata": {},
   "source": [
    "#### Pipeline"
   ]
  },
  {
   "cell_type": "code",
   "execution_count": 15,
   "id": "b22eae1d",
   "metadata": {
    "scrolled": false
   },
   "outputs": [
    {
     "ename": "KeyError",
     "evalue": "'in_time'",
     "output_type": "error",
     "traceback": [
      "\u001b[1;31m---------------------------------------------------------------------------\u001b[0m",
      "\u001b[1;31mKeyError\u001b[0m                                  Traceback (most recent call last)",
      "Input \u001b[1;32mIn [15]\u001b[0m, in \u001b[0;36m<cell line: 23>\u001b[1;34m()\u001b[0m\n\u001b[0;32m     20\u001b[0m             fillEmptyValues(df_pipeline, table_name)\n\u001b[0;32m     21\u001b[0m     \u001b[38;5;28;01mreturn\u001b[39;00m df_pipeline\n\u001b[1;32m---> 23\u001b[0m df_prepared \u001b[38;5;241m=\u001b[39m \u001b[43mcreatePipeline\u001b[49m\u001b[43m(\u001b[49m\u001b[43mgeneral_df\u001b[49m\u001b[43m)\u001b[49m\n",
      "Input \u001b[1;32mIn [15]\u001b[0m, in \u001b[0;36mcreatePipeline\u001b[1;34m(df)\u001b[0m\n\u001b[0;32m      5\u001b[0m     transformDateToNumeric(df, table_name)\n\u001b[0;32m      6\u001b[0m     dropColumns(df_pipeline, table_name)\n\u001b[1;32m----> 7\u001b[0m     \u001b[43mfillEmptyValues\u001b[49m\u001b[43m(\u001b[49m\u001b[43mdf_pipeline\u001b[49m\u001b[43m,\u001b[49m\u001b[43m \u001b[49m\u001b[43mtable_name\u001b[49m\u001b[43m)\u001b[49m\n\u001b[0;32m      8\u001b[0m \u001b[38;5;28;01melif\u001b[39;00m table_name \u001b[38;5;241m==\u001b[39m \u001b[38;5;124m\"\u001b[39m\u001b[38;5;124mgeneral_data\u001b[39m\u001b[38;5;124m\"\u001b[39m:\n\u001b[0;32m      9\u001b[0m     columns_to_drop \u001b[38;5;241m=\u001b[39m [\n\u001b[0;32m     10\u001b[0m         \u001b[38;5;124m\"\u001b[39m\u001b[38;5;124mMaritalStatus\u001b[39m\u001b[38;5;124m\"\u001b[39m,\n\u001b[0;32m     11\u001b[0m         \u001b[38;5;124m\"\u001b[39m\u001b[38;5;124mOver18\u001b[39m\u001b[38;5;124m\"\u001b[39m,\n\u001b[1;32m   (...)\u001b[0m\n\u001b[0;32m     15\u001b[0m         \u001b[38;5;124m\"\u001b[39m\u001b[38;5;124mGender\u001b[39m\u001b[38;5;124m\"\u001b[39m\n\u001b[0;32m     16\u001b[0m     ]\n",
      "Input \u001b[1;32mIn [8]\u001b[0m, in \u001b[0;36mfillEmptyValues\u001b[1;34m(df, table_name)\u001b[0m\n\u001b[0;32m      1\u001b[0m \u001b[38;5;28;01mdef\u001b[39;00m \u001b[38;5;21mfillEmptyValues\u001b[39m(df, table_name):\n\u001b[1;32m----> 2\u001b[0m     table \u001b[38;5;241m=\u001b[39m \u001b[43mdf\u001b[49m\u001b[43m[\u001b[49m\u001b[43mtable_name\u001b[49m\u001b[43m]\u001b[49m\n\u001b[0;32m      3\u001b[0m     \u001b[38;5;28;01mfor\u001b[39;00m column \u001b[38;5;129;01min\u001b[39;00m table\u001b[38;5;241m.\u001b[39mcolumns:\n\u001b[0;32m      4\u001b[0m         \u001b[38;5;28;01mif\u001b[39;00m \u001b[38;5;129;01mnot\u001b[39;00m is_numeric_dtype(table[column]):\n",
      "File \u001b[1;32m~\\anaconda3\\lib\\site-packages\\pandas\\core\\frame.py:3504\u001b[0m, in \u001b[0;36mDataFrame.__getitem__\u001b[1;34m(self, key)\u001b[0m\n\u001b[0;32m   3502\u001b[0m \u001b[38;5;28;01mif\u001b[39;00m is_single_key:\n\u001b[0;32m   3503\u001b[0m     \u001b[38;5;28;01mif\u001b[39;00m \u001b[38;5;28mself\u001b[39m\u001b[38;5;241m.\u001b[39mcolumns\u001b[38;5;241m.\u001b[39mnlevels \u001b[38;5;241m>\u001b[39m \u001b[38;5;241m1\u001b[39m:\n\u001b[1;32m-> 3504\u001b[0m         \u001b[38;5;28;01mreturn\u001b[39;00m \u001b[38;5;28;43mself\u001b[39;49m\u001b[38;5;241;43m.\u001b[39;49m\u001b[43m_getitem_multilevel\u001b[49m\u001b[43m(\u001b[49m\u001b[43mkey\u001b[49m\u001b[43m)\u001b[49m\n\u001b[0;32m   3505\u001b[0m     indexer \u001b[38;5;241m=\u001b[39m \u001b[38;5;28mself\u001b[39m\u001b[38;5;241m.\u001b[39mcolumns\u001b[38;5;241m.\u001b[39mget_loc(key)\n\u001b[0;32m   3506\u001b[0m     \u001b[38;5;28;01mif\u001b[39;00m is_integer(indexer):\n",
      "File \u001b[1;32m~\\anaconda3\\lib\\site-packages\\pandas\\core\\frame.py:3555\u001b[0m, in \u001b[0;36mDataFrame._getitem_multilevel\u001b[1;34m(self, key)\u001b[0m\n\u001b[0;32m   3553\u001b[0m \u001b[38;5;28;01mdef\u001b[39;00m \u001b[38;5;21m_getitem_multilevel\u001b[39m(\u001b[38;5;28mself\u001b[39m, key):\n\u001b[0;32m   3554\u001b[0m     \u001b[38;5;66;03m# self.columns is a MultiIndex\u001b[39;00m\n\u001b[1;32m-> 3555\u001b[0m     loc \u001b[38;5;241m=\u001b[39m \u001b[38;5;28;43mself\u001b[39;49m\u001b[38;5;241;43m.\u001b[39;49m\u001b[43mcolumns\u001b[49m\u001b[38;5;241;43m.\u001b[39;49m\u001b[43mget_loc\u001b[49m\u001b[43m(\u001b[49m\u001b[43mkey\u001b[49m\u001b[43m)\u001b[49m\n\u001b[0;32m   3556\u001b[0m     \u001b[38;5;28;01mif\u001b[39;00m \u001b[38;5;28misinstance\u001b[39m(loc, (\u001b[38;5;28mslice\u001b[39m, np\u001b[38;5;241m.\u001b[39mndarray)):\n\u001b[0;32m   3557\u001b[0m         new_columns \u001b[38;5;241m=\u001b[39m \u001b[38;5;28mself\u001b[39m\u001b[38;5;241m.\u001b[39mcolumns[loc]\n",
      "File \u001b[1;32m~\\anaconda3\\lib\\site-packages\\pandas\\core\\indexes\\multi.py:2869\u001b[0m, in \u001b[0;36mMultiIndex.get_loc\u001b[1;34m(self, key, method)\u001b[0m\n\u001b[0;32m   2866\u001b[0m     \u001b[38;5;28;01mreturn\u001b[39;00m mask\n\u001b[0;32m   2868\u001b[0m \u001b[38;5;28;01mif\u001b[39;00m \u001b[38;5;129;01mnot\u001b[39;00m \u001b[38;5;28misinstance\u001b[39m(key, \u001b[38;5;28mtuple\u001b[39m):\n\u001b[1;32m-> 2869\u001b[0m     loc \u001b[38;5;241m=\u001b[39m \u001b[38;5;28;43mself\u001b[39;49m\u001b[38;5;241;43m.\u001b[39;49m\u001b[43m_get_level_indexer\u001b[49m\u001b[43m(\u001b[49m\u001b[43mkey\u001b[49m\u001b[43m,\u001b[49m\u001b[43m \u001b[49m\u001b[43mlevel\u001b[49m\u001b[38;5;241;43m=\u001b[39;49m\u001b[38;5;241;43m0\u001b[39;49m\u001b[43m)\u001b[49m\n\u001b[0;32m   2870\u001b[0m     \u001b[38;5;28;01mreturn\u001b[39;00m _maybe_to_slice(loc)\n\u001b[0;32m   2872\u001b[0m keylen \u001b[38;5;241m=\u001b[39m \u001b[38;5;28mlen\u001b[39m(key)\n",
      "File \u001b[1;32m~\\anaconda3\\lib\\site-packages\\pandas\\core\\indexes\\multi.py:3249\u001b[0m, in \u001b[0;36mMultiIndex._get_level_indexer\u001b[1;34m(self, key, level, indexer)\u001b[0m\n\u001b[0;32m   3245\u001b[0m     end \u001b[38;5;241m=\u001b[39m level_codes\u001b[38;5;241m.\u001b[39msearchsorted(idx, side\u001b[38;5;241m=\u001b[39m\u001b[38;5;124m\"\u001b[39m\u001b[38;5;124mright\u001b[39m\u001b[38;5;124m\"\u001b[39m)\n\u001b[0;32m   3247\u001b[0m \u001b[38;5;28;01mif\u001b[39;00m start \u001b[38;5;241m==\u001b[39m end:\n\u001b[0;32m   3248\u001b[0m     \u001b[38;5;66;03m# The label is present in self.levels[level] but unused:\u001b[39;00m\n\u001b[1;32m-> 3249\u001b[0m     \u001b[38;5;28;01mraise\u001b[39;00m \u001b[38;5;167;01mKeyError\u001b[39;00m(key)\n\u001b[0;32m   3250\u001b[0m \u001b[38;5;28;01mreturn\u001b[39;00m \u001b[38;5;28mslice\u001b[39m(start, end)\n",
      "\u001b[1;31mKeyError\u001b[0m: 'in_time'"
     ]
    }
   ],
   "source": [
    "def createPipeline(df):\n",
    "    df_pipeline = df.copy()\n",
    "    for table_name in df_pipeline.columns.get_level_values(0).unique():\n",
    "        if \"time\" in table_name:\n",
    "            transformDateToNumeric(df, table_name)\n",
    "            dropColumns(df_pipeline, table_name)\n",
    "            fillEmptyValues(df_pipeline, table_name)\n",
    "        elif table_name == \"general_data\":\n",
    "            columns_to_drop = [\n",
    "                \"MaritalStatus\",\n",
    "                \"Over18\",\n",
    "                \"StandardHours\",\n",
    "                \"StockOptionLevel\",\n",
    "                \"TrainingTimesLastYear\",\n",
    "                \"Gender\"\n",
    "            ]\n",
    "            \n",
    "            encodeNonNumericColumns(df_pipeline, table_name)\n",
    "            dropColumns(df_pipeline, table_name, columns_to_drop)\n",
    "            fillEmptyValues(df_pipeline, table_name)\n",
    "    return df_pipeline\n",
    "\n",
    "df_prepared = createPipeline(general_df)"
   ]
  },
  {
   "cell_type": "markdown",
   "id": "f2919f8c",
   "metadata": {},
   "source": [
    "##               <center>  <br /> <br />  2. Création du jeu de test </center>   "
   ]
  },
  {
   "cell_type": "code",
   "execution_count": 124,
   "id": "b5606321",
   "metadata": {},
   "outputs": [
    {
     "name": "stdout",
     "output_type": "stream",
     "text": [
      "3528 train + 882 test\n"
     ]
    }
   ],
   "source": [
    "import numpy as np\n",
    "from numpy import random\n",
    "\n",
    "def split_train_test(data, test_ratio):\n",
    "    shuffled_indices = random.permutation(len(data))\n",
    "    test_set_size = int(len(data) * test_ratio)\n",
    "    test_indices = shuffled_indices[:test_set_size]\n",
    "    train_indices = shuffled_indices[test_set_size:]\n",
    "    return data.iloc[train_indices], data.iloc[test_indices]\n",
    "\n",
    "train_set, test_set = split_train_test(df_non_ethical, 0.2)\n",
    "print(len(train_set), \"train +\", len(test_set), \"test\")"
   ]
  },
  {
   "cell_type": "code",
   "execution_count": 125,
   "id": "ec6e528d",
   "metadata": {
    "scrolled": false
   },
   "outputs": [],
   "source": [
    "df_prepared = train_set.copy()\n",
    "df_prepared.drop((\"general_data\", \"Attrition\"), axis=1, inplace=True)\n",
    "df_labels = train_set[\"general_data\"][\"Attrition\"].copy()"
   ]
  },
  {
   "cell_type": "markdown",
   "id": "5a10dda2",
   "metadata": {},
   "source": [
    "### Linear Regressor"
   ]
  },
  {
   "cell_type": "code",
   "execution_count": 126,
   "id": "dbc90f64",
   "metadata": {},
   "outputs": [
    {
     "data": {
      "text/plain": [
       "LinearRegression()"
      ]
     },
     "execution_count": 126,
     "metadata": {},
     "output_type": "execute_result"
    }
   ],
   "source": [
    "from sklearn.linear_model import LinearRegression\n",
    "\n",
    "lin_reg = LinearRegression()\n",
    "lin_reg.fit(df_prepared, df_labels)"
   ]
  },
  {
   "cell_type": "code",
   "execution_count": 127,
   "id": "bfeb49a8",
   "metadata": {
    "scrolled": false
   },
   "outputs": [
    {
     "name": "stdout",
     "output_type": "stream",
     "text": [
      "Predictions: [-0.0124712   0.21105216  0.09239744  0.59850973  0.42710035]\n"
     ]
    },
    {
     "data": {
      "text/html": [
       "<div>\n",
       "<style scoped>\n",
       "    .dataframe tbody tr th:only-of-type {\n",
       "        vertical-align: middle;\n",
       "    }\n",
       "\n",
       "    .dataframe tbody tr th {\n",
       "        vertical-align: top;\n",
       "    }\n",
       "\n",
       "    .dataframe thead tr th {\n",
       "        text-align: left;\n",
       "    }\n",
       "\n",
       "    .dataframe thead tr:last-of-type th {\n",
       "        text-align: right;\n",
       "    }\n",
       "</style>\n",
       "<table border=\"1\" class=\"dataframe\">\n",
       "  <thead>\n",
       "    <tr>\n",
       "      <th></th>\n",
       "      <th colspan=\"3\" halign=\"left\">employee_survey_data</th>\n",
       "      <th colspan=\"7\" halign=\"left\">general_data</th>\n",
       "      <th>...</th>\n",
       "      <th colspan=\"10\" halign=\"left\">out_time</th>\n",
       "    </tr>\n",
       "    <tr>\n",
       "      <th></th>\n",
       "      <th>EnvironmentSatisfaction</th>\n",
       "      <th>JobSatisfaction</th>\n",
       "      <th>WorkLifeBalance</th>\n",
       "      <th>Age</th>\n",
       "      <th>BusinessTravel</th>\n",
       "      <th>Department</th>\n",
       "      <th>DistanceFromHome</th>\n",
       "      <th>Education</th>\n",
       "      <th>EducationField</th>\n",
       "      <th>EmployeeCount</th>\n",
       "      <th>...</th>\n",
       "      <th>2015-12-17</th>\n",
       "      <th>2015-12-18</th>\n",
       "      <th>2015-12-21</th>\n",
       "      <th>2015-12-22</th>\n",
       "      <th>2015-12-23</th>\n",
       "      <th>2015-12-24</th>\n",
       "      <th>2015-12-28</th>\n",
       "      <th>2015-12-29</th>\n",
       "      <th>2015-12-30</th>\n",
       "      <th>2015-12-31</th>\n",
       "    </tr>\n",
       "    <tr>\n",
       "      <th>EmployeeID</th>\n",
       "      <th></th>\n",
       "      <th></th>\n",
       "      <th></th>\n",
       "      <th></th>\n",
       "      <th></th>\n",
       "      <th></th>\n",
       "      <th></th>\n",
       "      <th></th>\n",
       "      <th></th>\n",
       "      <th></th>\n",
       "      <th></th>\n",
       "      <th></th>\n",
       "      <th></th>\n",
       "      <th></th>\n",
       "      <th></th>\n",
       "      <th></th>\n",
       "      <th></th>\n",
       "      <th></th>\n",
       "      <th></th>\n",
       "      <th></th>\n",
       "      <th></th>\n",
       "    </tr>\n",
       "  </thead>\n",
       "  <tbody>\n",
       "    <tr>\n",
       "      <th>1459</th>\n",
       "      <td>0.666667</td>\n",
       "      <td>1.000000</td>\n",
       "      <td>0.333333</td>\n",
       "      <td>0.357143</td>\n",
       "      <td>1.0</td>\n",
       "      <td>0.5</td>\n",
       "      <td>0.035714</td>\n",
       "      <td>0.75</td>\n",
       "      <td>0.2</td>\n",
       "      <td>0.0</td>\n",
       "      <td>...</td>\n",
       "      <td>0.338388</td>\n",
       "      <td>0.240208</td>\n",
       "      <td>0.333800</td>\n",
       "      <td>0.225580</td>\n",
       "      <td>0.311799</td>\n",
       "      <td>0.316629</td>\n",
       "      <td>0.197031</td>\n",
       "      <td>0.306585</td>\n",
       "      <td>0.180785</td>\n",
       "      <td>0.274402</td>\n",
       "    </tr>\n",
       "    <tr>\n",
       "      <th>87</th>\n",
       "      <td>0.666667</td>\n",
       "      <td>0.333333</td>\n",
       "      <td>0.666667</td>\n",
       "      <td>0.404762</td>\n",
       "      <td>1.0</td>\n",
       "      <td>1.0</td>\n",
       "      <td>0.535714</td>\n",
       "      <td>0.25</td>\n",
       "      <td>1.0</td>\n",
       "      <td>0.0</td>\n",
       "      <td>...</td>\n",
       "      <td>0.386348</td>\n",
       "      <td>0.384443</td>\n",
       "      <td>0.261597</td>\n",
       "      <td>0.479796</td>\n",
       "      <td>0.439173</td>\n",
       "      <td>0.405822</td>\n",
       "      <td>0.351027</td>\n",
       "      <td>0.458096</td>\n",
       "      <td>0.389973</td>\n",
       "      <td>0.407672</td>\n",
       "    </tr>\n",
       "    <tr>\n",
       "      <th>3300</th>\n",
       "      <td>1.000000</td>\n",
       "      <td>0.333333</td>\n",
       "      <td>0.333333</td>\n",
       "      <td>0.619048</td>\n",
       "      <td>1.0</td>\n",
       "      <td>1.0</td>\n",
       "      <td>0.821429</td>\n",
       "      <td>1.00</td>\n",
       "      <td>0.6</td>\n",
       "      <td>0.0</td>\n",
       "      <td>...</td>\n",
       "      <td>0.253612</td>\n",
       "      <td>0.214449</td>\n",
       "      <td>0.159416</td>\n",
       "      <td>0.082151</td>\n",
       "      <td>0.281741</td>\n",
       "      <td>0.190137</td>\n",
       "      <td>0.073212</td>\n",
       "      <td>0.251074</td>\n",
       "      <td>0.181205</td>\n",
       "      <td>0.234016</td>\n",
       "    </tr>\n",
       "    <tr>\n",
       "      <th>3019</th>\n",
       "      <td>0.333333</td>\n",
       "      <td>0.000000</td>\n",
       "      <td>0.333333</td>\n",
       "      <td>0.261905</td>\n",
       "      <td>1.0</td>\n",
       "      <td>0.5</td>\n",
       "      <td>1.000000</td>\n",
       "      <td>0.50</td>\n",
       "      <td>0.6</td>\n",
       "      <td>0.0</td>\n",
       "      <td>...</td>\n",
       "      <td>0.809154</td>\n",
       "      <td>0.772693</td>\n",
       "      <td>0.339404</td>\n",
       "      <td>0.823677</td>\n",
       "      <td>0.837371</td>\n",
       "      <td>0.720556</td>\n",
       "      <td>0.841056</td>\n",
       "      <td>0.753648</td>\n",
       "      <td>0.755204</td>\n",
       "      <td>0.353864</td>\n",
       "    </tr>\n",
       "    <tr>\n",
       "      <th>2905</th>\n",
       "      <td>0.333333</td>\n",
       "      <td>1.000000</td>\n",
       "      <td>0.666667</td>\n",
       "      <td>0.452381</td>\n",
       "      <td>0.5</td>\n",
       "      <td>1.0</td>\n",
       "      <td>0.035714</td>\n",
       "      <td>0.75</td>\n",
       "      <td>0.2</td>\n",
       "      <td>0.0</td>\n",
       "      <td>...</td>\n",
       "      <td>0.774965</td>\n",
       "      <td>0.775992</td>\n",
       "      <td>0.742085</td>\n",
       "      <td>0.886375</td>\n",
       "      <td>0.398740</td>\n",
       "      <td>0.653576</td>\n",
       "      <td>0.693095</td>\n",
       "      <td>0.704099</td>\n",
       "      <td>0.688410</td>\n",
       "      <td>0.698356</td>\n",
       "    </tr>\n",
       "  </tbody>\n",
       "</table>\n",
       "<p>5 rows × 525 columns</p>\n",
       "</div>"
      ],
      "text/plain": [
       "              employee_survey_data                                  \\\n",
       "           EnvironmentSatisfaction JobSatisfaction WorkLifeBalance   \n",
       "EmployeeID                                                           \n",
       "1459                      0.666667        1.000000        0.333333   \n",
       "87                        0.666667        0.333333        0.666667   \n",
       "3300                      1.000000        0.333333        0.333333   \n",
       "3019                      0.333333        0.000000        0.333333   \n",
       "2905                      0.333333        1.000000        0.666667   \n",
       "\n",
       "           general_data                                                       \\\n",
       "                    Age BusinessTravel Department DistanceFromHome Education   \n",
       "EmployeeID                                                                     \n",
       "1459           0.357143            1.0        0.5         0.035714      0.75   \n",
       "87             0.404762            1.0        1.0         0.535714      0.25   \n",
       "3300           0.619048            1.0        1.0         0.821429      1.00   \n",
       "3019           0.261905            1.0        0.5         1.000000      0.50   \n",
       "2905           0.452381            0.5        1.0         0.035714      0.75   \n",
       "\n",
       "                                         ...   out_time                        \\\n",
       "           EducationField EmployeeCount  ... 2015-12-17 2015-12-18 2015-12-21   \n",
       "EmployeeID                               ...                                    \n",
       "1459                  0.2           0.0  ...   0.338388   0.240208   0.333800   \n",
       "87                    1.0           0.0  ...   0.386348   0.384443   0.261597   \n",
       "3300                  0.6           0.0  ...   0.253612   0.214449   0.159416   \n",
       "3019                  0.6           0.0  ...   0.809154   0.772693   0.339404   \n",
       "2905                  0.2           0.0  ...   0.774965   0.775992   0.742085   \n",
       "\n",
       "                                                                              \\\n",
       "           2015-12-22 2015-12-23 2015-12-24 2015-12-28 2015-12-29 2015-12-30   \n",
       "EmployeeID                                                                     \n",
       "1459         0.225580   0.311799   0.316629   0.197031   0.306585   0.180785   \n",
       "87           0.479796   0.439173   0.405822   0.351027   0.458096   0.389973   \n",
       "3300         0.082151   0.281741   0.190137   0.073212   0.251074   0.181205   \n",
       "3019         0.823677   0.837371   0.720556   0.841056   0.753648   0.755204   \n",
       "2905         0.886375   0.398740   0.653576   0.693095   0.704099   0.688410   \n",
       "\n",
       "                       \n",
       "           2015-12-31  \n",
       "EmployeeID             \n",
       "1459         0.274402  \n",
       "87           0.407672  \n",
       "3300         0.234016  \n",
       "3019         0.353864  \n",
       "2905         0.698356  \n",
       "\n",
       "[5 rows x 525 columns]"
      ]
     },
     "execution_count": 127,
     "metadata": {},
     "output_type": "execute_result"
    }
   ],
   "source": [
    "some_data = df_prepared.iloc[:5]\n",
    "some_labels = df_labels.iloc[:5]\n",
    "\n",
    "print(\"Predictions:\", lin_reg.predict(some_data))\n",
    "some_data.head()"
   ]
  },
  {
   "cell_type": "code",
   "execution_count": 128,
   "id": "48950990",
   "metadata": {},
   "outputs": [
    {
     "name": "stdout",
     "output_type": "stream",
     "text": [
      "Labels: [0.0, 0.0, 0.0, 1.0, 0.0]\n"
     ]
    }
   ],
   "source": [
    "print(\"Labels:\", list(some_labels)) # vraies valeurs"
   ]
  },
  {
   "cell_type": "markdown",
   "id": "a7e4e596",
   "metadata": {},
   "source": [
    "#### Evaluation du modèle"
   ]
  },
  {
   "cell_type": "code",
   "execution_count": 129,
   "id": "7ef7cfc0",
   "metadata": {},
   "outputs": [
    {
     "data": {
      "text/plain": [
       "0.3094626371092588"
      ]
     },
     "execution_count": 129,
     "metadata": {},
     "output_type": "execute_result"
    }
   ],
   "source": [
    "from sklearn.metrics import mean_squared_error\n",
    "\n",
    "df_predictions = lin_reg.predict(df_prepared)\n",
    "lin_rmse = np.sqrt(mean_squared_error(df_labels, df_predictions))\n",
    "lin_rmse"
   ]
  },
  {
   "cell_type": "code",
   "execution_count": 130,
   "id": "a0298ab7",
   "metadata": {},
   "outputs": [
    {
     "data": {
      "text/plain": [
       "0.22860739469642075"
      ]
     },
     "execution_count": 130,
     "metadata": {},
     "output_type": "execute_result"
    }
   ],
   "source": [
    "from sklearn.metrics import mean_absolute_error\n",
    "\n",
    "lin_mae = mean_absolute_error(df_labels, df_predictions)\n",
    "lin_mae"
   ]
  },
  {
   "cell_type": "code",
   "execution_count": 131,
   "id": "c418d697",
   "metadata": {
    "scrolled": true
   },
   "outputs": [
    {
     "data": {
      "image/png": "[encoded data removed]",
      "text/plain": [
       "<Figure size 432x288 with 1 Axes>"
      ]
     },
     "metadata": {
      "needs_background": "light"
     },
     "output_type": "display_data"
    }
   ],
   "source": [
    "df_labels.hist()\n",
    "plt.show()"
   ]
  },
  {
   "cell_type": "markdown",
   "id": "d6b47f21",
   "metadata": {},
   "source": [
    "Donc ce modèle n'est pas assez précis : erreur de 0.3"
   ]
  },
  {
   "cell_type": "markdown",
   "id": "52c175b0",
   "metadata": {},
   "source": [
    "### DecisionTreeRegressor"
   ]
  },
  {
   "cell_type": "code",
   "execution_count": 132,
   "id": "5a07c5e0",
   "metadata": {},
   "outputs": [
    {
     "data": {
      "text/plain": [
       "DecisionTreeRegressor(random_state=42)"
      ]
     },
     "execution_count": 132,
     "metadata": {},
     "output_type": "execute_result"
    }
   ],
   "source": [
    "from sklearn.tree import DecisionTreeRegressor\n",
    "\n",
    "tree_reg = DecisionTreeRegressor(random_state=42)\n",
    "tree_reg.fit(df_prepared, df_labels)"
   ]
  },
  {
   "cell_type": "code",
   "execution_count": 133,
   "id": "4c2629ed",
   "metadata": {},
   "outputs": [
    {
     "data": {
      "text/plain": [
       "0.0"
      ]
     },
     "execution_count": 133,
     "metadata": {},
     "output_type": "execute_result"
    }
   ],
   "source": [
    "df_predictions = tree_reg.predict(df_prepared)\n",
    "tree_mse = mean_squared_error(df_labels, df_predictions)\n",
    "tree_rmse = np.sqrt(tree_mse)\n",
    "tree_rmse"
   ]
  },
  {
   "cell_type": "markdown",
   "id": "6ca110c0",
   "metadata": {},
   "source": [
    "#### Cross-validation"
   ]
  },
  {
   "cell_type": "code",
   "execution_count": 306,
   "id": "e955d7d5",
   "metadata": {},
   "outputs": [],
   "source": [
    "from sklearn.model_selection import cross_val_score\n",
    "\n",
    "scores = cross_val_score(tree_reg, df_prepared, df_labels,\n",
    "                         scoring=\"neg_mean_squared_error\", cv=10)\n",
    "tree_rmse_scores = np.sqrt(-scores)"
   ]
  },
  {
   "cell_type": "code",
   "execution_count": 136,
   "id": "0d345aa4",
   "metadata": {},
   "outputs": [],
   "source": [
    "def display_scores(scores):\n",
    "    print(\"Scores:\", scores)\n",
    "    print(\"Mean:\", scores.mean())\n",
    "    print(\"Standard deviation:\", scores.std())"
   ]
  },
  {
   "cell_type": "markdown",
   "id": "ed73a617",
   "metadata": {},
   "source": [
    "Résultats pour le DecisionTreeRegressor :"
   ]
  },
  {
   "cell_type": "code",
   "execution_count": 138,
   "id": "71cc78b8",
   "metadata": {},
   "outputs": [
    {
     "name": "stdout",
     "output_type": "stream",
     "text": [
      "Scores: [0.43890154 0.41227621 0.44211698 0.49070684 0.41909115 0.43566237\n",
      " 0.45785558 0.49070684 0.41628771 0.44594129]\n",
      "Mean: 0.44495464965478215\n",
      "Standard deviation: 0.026539718540257533\n"
     ]
    }
   ],
   "source": [
    "display_scores(tree_rmse_scores)"
   ]
  },
  {
   "cell_type": "markdown",
   "id": "8767bc1f",
   "metadata": {},
   "source": [
    "Résultats pour le LinearRegressor :"
   ]
  },
  {
   "cell_type": "code",
   "execution_count": 139,
   "id": "1804b1a4",
   "metadata": {},
   "outputs": [
    {
     "name": "stdout",
     "output_type": "stream",
     "text": [
      "Scores: [0.35595739 0.36177115 0.39108507 0.38238818 0.35672335 0.37006111\n",
      " 0.35347058 0.38623175 0.39248256 0.37885875]\n",
      "Mean: 0.3729029880438465\n",
      "Standard deviation: 0.014406908009984513\n"
     ]
    }
   ],
   "source": [
    "scores = cross_val_score(lin_reg, df_prepared, df_labels,\n",
    "                         scoring=\"neg_mean_squared_error\", cv=10)\n",
    "lin_rmse_scores = np.sqrt(-scores)\n",
    "display_scores(lin_rmse_scores)"
   ]
  },
  {
   "cell_type": "markdown",
   "id": "b341b458",
   "metadata": {},
   "source": [
    "### RandomForestRegressor"
   ]
  },
  {
   "cell_type": "code",
   "execution_count": 140,
   "id": "4728afa3",
   "metadata": {},
   "outputs": [
    {
     "data": {
      "text/plain": [
       "0.0"
      ]
     },
     "execution_count": 140,
     "metadata": {},
     "output_type": "execute_result"
    }
   ],
   "source": [
    "from sklearn.ensemble import RandomForestRegressor\n",
    "\n",
    "forest_reg = RandomForestRegressor(n_estimators=10, random_state=42)\n",
    "forest_reg.fit(df_prepared, df_labels)\n",
    "\n",
    "df_predictions = forest_reg.predict(df_prepared)\n",
    "forest_mse = mean_squared_error(df_labels, df_predictions)\n",
    "forest_rmse = np.sqrt(tree_mse)\n",
    "forest_rmse"
   ]
  },
  {
   "cell_type": "code",
   "execution_count": 147,
   "id": "b47ce18e",
   "metadata": {},
   "outputs": [
    {
     "name": "stdout",
     "output_type": "stream",
     "text": [
      "EmployeeID\n",
      "1563    0.0\n",
      "3129    0.0\n",
      "4387    1.0\n",
      "1963    0.0\n",
      "514     0.0\n",
      "752     0.0\n",
      "3176    0.0\n",
      "2046    0.0\n",
      "1063    0.0\n",
      "2497    0.0\n",
      "Name: Attrition, dtype: float64\n",
      "Predictions: [0, 0, 1, 0, 0, 0, 0, 0, 0, 0]\n"
     ]
    }
   ],
   "source": [
    "print(df_labels[10:20])\n",
    "print(\"Predictions:\", [round(prediction) for prediction in df_predictions[10:20]])"
   ]
  },
  {
   "cell_type": "markdown",
   "id": "ae62799c",
   "metadata": {},
   "source": [
    "#### Score pour le RandomForestRegressor"
   ]
  },
  {
   "cell_type": "code",
   "execution_count": 141,
   "id": "7cb88061",
   "metadata": {},
   "outputs": [
    {
     "name": "stdout",
     "output_type": "stream",
     "text": [
      "Scores: [0.33260071 0.32840071 0.37340786 0.36255311 0.34063763 0.34522235\n",
      " 0.32252545 0.36255311 0.35567637 0.36753942]\n",
      "Mean: 0.3491116714576862\n",
      "Standard deviation: 0.016821552315446707\n"
     ]
    }
   ],
   "source": [
    "forest_scores = cross_val_score(forest_reg, df_prepared, df_labels,\n",
    "                                scoring=\"neg_mean_squared_error\", cv=10)\n",
    "forest_rmse_scores = np.sqrt(-forest_scores)\n",
    "display_scores(forest_rmse_scores)"
   ]
  },
  {
   "cell_type": "code",
   "execution_count": 285,
   "id": "0e557ece",
   "metadata": {},
   "outputs": [
    {
     "data": {
      "text/plain": [
       "GridSearchCV(cv=5, estimator=RandomForestRegressor(random_state=42),\n",
       "             param_grid=[{'max_features': [2, 4, 6, 8],\n",
       "                          'n_estimators': [3, 10, 30, 40]},\n",
       "                         {'bootstrap': [False], 'max_features': [2, 3, 4],\n",
       "                          'n_estimators': [3, 10]}],\n",
       "             return_train_score=True, scoring='neg_mean_squared_error')"
      ]
     },
     "execution_count": 285,
     "metadata": {},
     "output_type": "execute_result"
    }
   ],
   "source": [
    "from sklearn.model_selection import GridSearchCV\n",
    "\n",
    "param_grid = [\n",
    "    # essaye 12 (3×4) combinaisons des hyperparametres\n",
    "    {'n_estimators': [3, 10, 30, 40], 'max_features': [2, 4, 6, 8]},\n",
    "    # puis essaye 6 (2×3) combinaisons avec bootstrap à False (True étant la valeur par défaut)\n",
    "    {'bootstrap': [False], 'n_estimators': [3, 10], 'max_features': [2, 3, 4]},\n",
    "  ]\n",
    "\n",
    "forest_reg = RandomForestRegressor(random_state=42)\n",
    "\n",
    "# 5 sous-jeux de cross-val, ça fait en tout (12+6)*5=90 tours d'entraînement \n",
    "grid_search = GridSearchCV(forest_reg, param_grid, cv=5,\n",
    "                           scoring='neg_mean_squared_error', return_train_score=True)\n",
    "grid_search.fit(df_prepared, df_labels)"
   ]
  },
  {
   "cell_type": "code",
   "execution_count": 286,
   "id": "7956aad9",
   "metadata": {},
   "outputs": [
    {
     "data": {
      "text/plain": [
       "{'max_features': 6, 'n_estimators': 40}"
      ]
     },
     "execution_count": 286,
     "metadata": {},
     "output_type": "execute_result"
    }
   ],
   "source": [
    "grid_search.best_params_"
   ]
  },
  {
   "cell_type": "code",
   "execution_count": 150,
   "id": "ddfd5ece",
   "metadata": {},
   "outputs": [
    {
     "data": {
      "text/plain": [
       "RandomForestRegressor(max_features=6, n_estimators=30, random_state=42)"
      ]
     },
     "execution_count": 150,
     "metadata": {},
     "output_type": "execute_result"
    }
   ],
   "source": [
    "grid_search.best_estimator_"
   ]
  },
  {
   "cell_type": "code",
   "execution_count": 153,
   "id": "a8816c9b",
   "metadata": {},
   "outputs": [
    {
     "name": "stdout",
     "output_type": "stream",
     "text": [
      "Scores: [0.33478438 0.3462602  0.37980994 0.37631733 0.33355989 0.33666886\n",
      " 0.33290813 0.36881506 0.35277579 0.36888961]\n",
      "Mean: 0.35307891901063426\n",
      "Standard deviation: 0.01786223769126821\n"
     ]
    }
   ],
   "source": [
    "forest_reg = RandomForestRegressor(max_features=6, n_estimators=30, random_state=42)\n",
    "forest_reg.fit(df_prepared, df_labels)\n",
    "\n",
    "cvres_scores = cross_val_score(forest_reg, df_prepared, df_labels,\n",
    "                                scoring=\"neg_mean_squared_error\", cv=10)\n",
    "cvres_rmse_scores = np.sqrt(-cvres_scores)\n",
    "display_scores(cvres_rmse_scores)"
   ]
  },
  {
   "cell_type": "markdown",
   "id": "ff9883b3",
   "metadata": {},
   "source": [
    "### Perceptron"
   ]
  },
  {
   "cell_type": "code",
   "execution_count": 305,
   "id": "dbdd28f8",
   "metadata": {},
   "outputs": [
    {
     "data": {
      "text/plain": [
       "Perceptron(random_state=42)"
      ]
     },
     "execution_count": 305,
     "metadata": {},
     "output_type": "execute_result"
    }
   ],
   "source": [
    "from sklearn.linear_model import Perceptron\n",
    "\n",
    "percept_reg = Perceptron(random_state=42)\n",
    "percept_reg.fit(df_prepared, df_labels)"
   ]
  },
  {
   "cell_type": "code",
   "execution_count": 307,
   "id": "54e7c5f9",
   "metadata": {},
   "outputs": [
    {
     "data": {
      "text/plain": [
       "0.3933978962347216"
      ]
     },
     "execution_count": 307,
     "metadata": {},
     "output_type": "execute_result"
    }
   ],
   "source": [
    "df_predictions = percept_reg.predict(df_prepared)\n",
    "percept_mse = mean_squared_error(df_labels, df_predictions)\n",
    "percept_rmse = np.sqrt(percept_mse)\n",
    "percept_rmse"
   ]
  },
  {
   "cell_type": "code",
   "execution_count": 308,
   "id": "10ea5919",
   "metadata": {},
   "outputs": [
    {
     "name": "stdout",
     "output_type": "stream",
     "text": [
      "Scores: [0.38748115 0.40882614 0.47902167 0.4053467  0.39829666 0.39111955\n",
      " 0.40882614 0.47307086 0.55391171 0.5084513 ]\n",
      "Mean: 0.44143518699925127\n",
      "Standard deviation: 0.05503489764805469\n"
     ]
    }
   ],
   "source": [
    "cvres_scores = cross_val_score(percept_reg, df_prepared, df_labels,\n",
    "                                scoring=\"neg_mean_squared_error\", cv=10)\n",
    "cvres_rmse_scores = np.sqrt(-cvres_scores)\n",
    "display_scores(cvres_rmse_scores)"
   ]
  },
  {
   "cell_type": "markdown",
   "id": "eccd1abd",
   "metadata": {},
   "source": [
    "# Classification"
   ]
  },
  {
   "cell_type": "code",
   "execution_count": 287,
   "id": "2e6fd862",
   "metadata": {},
   "outputs": [],
   "source": [
    "X_df = df_ethical.copy()\n",
    "X_df.drop((\"general_data\", \"Attrition\"), axis=1, inplace=True)\n",
    "\n",
    "X = pd.DataFrame()\n",
    "for table_name in X_df.columns.get_level_values(0).unique():\n",
    "    for column in X_df.columns:\n",
    "        X[column] = X_df[column]\n",
    "\n",
    "y = df_ethical[\"general_data\"][\"Attrition\"].copy()"
   ]
  },
  {
   "cell_type": "markdown",
   "id": "074deb9b",
   "metadata": {},
   "source": [
    "#### Constitution du jeu de test et du jeu d'entraînement"
   ]
  },
  {
   "cell_type": "code",
   "execution_count": 288,
   "id": "1387088a",
   "metadata": {},
   "outputs": [
    {
     "name": "stdout",
     "output_type": "stream",
     "text": [
      "Train size: 3528\n",
      "Test size: 882\n"
     ]
    }
   ],
   "source": [
    "train_size = int(len(X)*0.8)\n",
    "X_train, X_test, y_train, y_test = X[:train_size], X[train_size:], y[:train_size], y[train_size:]\n",
    "print(f\"Train size: {train_size}\\nTest size: {4410-train_size}\")"
   ]
  },
  {
   "cell_type": "markdown",
   "id": "70dacdb6",
   "metadata": {},
   "source": [
    "On mélange les données et les étiquettes pour le jeu d'entraînement"
   ]
  },
  {
   "cell_type": "code",
   "execution_count": 290,
   "id": "1f83ec05",
   "metadata": {},
   "outputs": [],
   "source": [
    "shuffle_index = np.random.permutation(train_size)\n",
    "X_train, y_train = [X.iloc[index] for index in shuffle_index], [y.iloc[index] for index in shuffle_index]"
   ]
  },
  {
   "cell_type": "markdown",
   "id": "05f9afed",
   "metadata": {},
   "source": [
    "### Classifieur binaire"
   ]
  },
  {
   "cell_type": "code",
   "execution_count": 291,
   "id": "796a9095",
   "metadata": {},
   "outputs": [],
   "source": [
    "y_train_1 = [y == 1 for y in y_train]\n",
    "y_test_1 = [y == 1 for y in y_test]"
   ]
  },
  {
   "cell_type": "code",
   "execution_count": 313,
   "id": "04a143a0",
   "metadata": {},
   "outputs": [
    {
     "data": {
      "text/plain": [
       "SGDClassifier(max_iter=5, random_state=42)"
      ]
     },
     "execution_count": 313,
     "metadata": {},
     "output_type": "execute_result"
    }
   ],
   "source": [
    "from sklearn.linear_model import SGDClassifier\n",
    "\n",
    "sgd_clf = SGDClassifier(max_iter=5, random_state=42)\n",
    "sgd_clf.fit(X_train, y_train)"
   ]
  },
  {
   "cell_type": "code",
   "execution_count": 314,
   "id": "17bee390",
   "metadata": {},
   "outputs": [
    {
     "name": "stdout",
     "output_type": "stream",
     "text": [
      "(employee_survey_data, EnvironmentSatisfaction)    0.000000\n",
      "(employee_survey_data, JobSatisfaction)            0.666667\n",
      "(employee_survey_data, WorkLifeBalance)            0.333333\n",
      "(general_data, Age)                                0.214286\n",
      "(general_data, BusinessTravel)                     1.000000\n",
      "                                                     ...   \n",
      "(out_time, 2015-12-24)                             0.367575\n",
      "(out_time, 2015-12-28)                             0.356125\n",
      "(out_time, 2015-12-29)                             0.405683\n",
      "(out_time, 2015-12-30)                             0.277545\n",
      "(out_time, 2015-12-31)                             0.394726\n",
      "Name: 4033, Length: 519, dtype: float64\n",
      "\n",
      "Attrition for employee n°504: 1.0\n"
     ]
    }
   ],
   "source": [
    "is_attrition = False\n",
    "\n",
    "while not is_attrition:\n",
    "    random_index = np.random.randint(len(X_test), size=1)[0]\n",
    "    some_data = X_test.iloc[random_index]\n",
    "    is_attrition = y.iloc[random_index] == 1\n",
    "\n",
    "print(some_data)\n",
    "print(f\"\\nAttrition for employee n°{random_index}:\", y.iloc[random_index])"
   ]
  },
  {
   "cell_type": "code",
   "execution_count": 315,
   "id": "220d1bba",
   "metadata": {},
   "outputs": [
    {
     "data": {
      "text/plain": [
       "array([0.])"
      ]
     },
     "execution_count": 315,
     "metadata": {},
     "output_type": "execute_result"
    }
   ],
   "source": [
    "sgd_clf.predict([some_data])"
   ]
  },
  {
   "cell_type": "markdown",
   "id": "f34d5af9",
   "metadata": {},
   "source": [
    "#### Cross-validation"
   ]
  },
  {
   "cell_type": "code",
   "execution_count": 316,
   "id": "c6892420",
   "metadata": {},
   "outputs": [
    {
     "data": {
      "text/plain": [
       "array([0.83588435, 0.83843537, 0.83418367])"
      ]
     },
     "execution_count": 316,
     "metadata": {},
     "output_type": "execute_result"
    }
   ],
   "source": [
    "cross_val_score(sgd_clf, X_train, y_train_1, cv=3, scoring=\"accuracy\")"
   ]
  },
  {
   "cell_type": "code",
   "execution_count": 296,
   "id": "454558f9",
   "metadata": {},
   "outputs": [],
   "source": [
    "from sklearn.base import BaseEstimator\n",
    "class Never1Classifier(BaseEstimator):\n",
    "    def fit(self, X, y=None):\n",
    "        pass\n",
    "    def predict(self, X):\n",
    "        return np.zeros(len(X))"
   ]
  },
  {
   "cell_type": "code",
   "execution_count": 317,
   "id": "7942eac0",
   "metadata": {},
   "outputs": [
    {
     "data": {
      "text/plain": [
       "array([0.82312925, 0.84778912, 0.83843537])"
      ]
     },
     "execution_count": 317,
     "metadata": {},
     "output_type": "execute_result"
    }
   ],
   "source": [
    "never_1_clf = Never1Classifier()\n",
    "cross_val_score(never_1_clf, X_train, y_train_1, cv=3, scoring=\"accuracy\")"
   ]
  },
  {
   "cell_type": "markdown",
   "id": "9b0e12da",
   "metadata": {},
   "source": [
    "#### Matrice de confusion"
   ]
  },
  {
   "cell_type": "code",
   "execution_count": 320,
   "id": "7d238d31",
   "metadata": {},
   "outputs": [],
   "source": [
    "from sklearn.model_selection import cross_val_predict\n",
    "y_train_pred = cross_val_predict(sgd_clf, X_train, y_train_1, cv=3)"
   ]
  },
  {
   "cell_type": "code",
   "execution_count": 321,
   "id": "cd615072",
   "metadata": {},
   "outputs": [
    {
     "data": {
      "text/plain": [
       "array([[2946,    5],\n",
       "       [ 573,    4]], dtype=int64)"
      ]
     },
     "execution_count": 321,
     "metadata": {},
     "output_type": "execute_result"
    }
   ],
   "source": [
    "from sklearn.metrics import confusion_matrix\n",
    "confusion_matrix(y_train_1, y_train_pred)"
   ]
  },
  {
   "cell_type": "markdown",
   "id": "a24cec22",
   "metadata": {},
   "source": [
    "Comparaison avec un classifieur parfait"
   ]
  },
  {
   "cell_type": "code",
   "execution_count": 300,
   "id": "08e6daf0",
   "metadata": {},
   "outputs": [
    {
     "data": {
      "text/plain": [
       "array([[2951,    0],\n",
       "       [   0,  577]], dtype=int64)"
      ]
     },
     "execution_count": 300,
     "metadata": {},
     "output_type": "execute_result"
    }
   ],
   "source": [
    "y_train_perfect_predictions = y_train_1\n",
    "confusion_matrix(y_train_1, y_train_perfect_predictions)"
   ]
  },
  {
   "cell_type": "markdown",
   "id": "a4fe176b",
   "metadata": {},
   "source": [
    "### Random forest classifier"
   ]
  },
  {
   "cell_type": "code",
   "execution_count": 322,
   "id": "36e927f0",
   "metadata": {},
   "outputs": [],
   "source": [
    "from sklearn.ensemble import RandomForestClassifier\n",
    "forest_clf = RandomForestClassifier(random_state=42, n_estimators=30)\n",
    "forest_clf.fit(X_train, y_train)\n",
    "y_probas_forest = cross_val_predict(forest_clf, X_train, y_train_1, cv=3)"
   ]
  },
  {
   "cell_type": "code",
   "execution_count": 328,
   "id": "0da4e4b7",
   "metadata": {},
   "outputs": [
    {
     "data": {
      "text/plain": [
       "array([0.00436434, 0.00566446, 0.00389539, 0.01860413, 0.00190973,\n",
       "       0.00100782, 0.00294013, 0.00196491, 0.00309016, 0.        ,\n",
       "       0.0016727 , 0.00244516, 0.00458913, 0.00567623, 0.00223592,\n",
       "       0.01037378, 0.01876192, 0.00171206, 0.00951201, 0.00216872,\n",
       "       0.00244816, 0.00572663, 0.00414778, 0.00411   , 0.00391384,\n",
       "       0.00198571, 0.00357469, 0.00313002, 0.0035513 , 0.00400585,\n",
       "       0.00317633, 0.00346981, 0.00292921, 0.00514282, 0.00325872,\n",
       "       0.00427505, 0.00387748, 0.00300579, 0.00356241, 0.0035813 ,\n",
       "       0.00379808, 0.00207086, 0.00372367, 0.00389181, 0.00147148,\n",
       "       0.0028629 , 0.0046656 , 0.0033936 , 0.00340389, 0.00306308,\n",
       "       0.00301714, 0.00356735, 0.00391917, 0.00284383, 0.00241279,\n",
       "       0.00270056, 0.00459038, 0.00378652, 0.00299727, 0.00378064,\n",
       "       0.00187943, 0.00209371, 0.00204586, 0.00442153, 0.00249646,\n",
       "       0.00306612, 0.00444771, 0.00282124, 0.00398434, 0.00207416,\n",
       "       0.00183832, 0.00370907, 0.00364682, 0.00345429, 0.00356713,\n",
       "       0.00322681, 0.00276737, 0.00268872, 0.00380733, 0.00352842,\n",
       "       0.00232163, 0.00281524, 0.00162401, 0.00404663, 0.00349946,\n",
       "       0.003581  , 0.00231814, 0.00273229, 0.00305092, 0.00415092,\n",
       "       0.00256378, 0.00231327, 0.00388758, 0.00541378, 0.00373427,\n",
       "       0.00266129, 0.00263057, 0.00302176, 0.00151064, 0.00226022,\n",
       "       0.00363305, 0.00321404, 0.00422515, 0.00230278, 0.00284562,\n",
       "       0.00374561, 0.00201687, 0.00335604, 0.00141678, 0.00343489,\n",
       "       0.00417026, 0.00223061, 0.00298313, 0.00271344, 0.00380784,\n",
       "       0.00263177, 0.00240344, 0.00370272, 0.00236743, 0.00466651,\n",
       "       0.00249438, 0.00319576, 0.00327259, 0.00265187, 0.0048923 ,\n",
       "       0.00200342, 0.0024511 , 0.00358032, 0.00286459, 0.00311764,\n",
       "       0.00322729, 0.00266286, 0.00181375, 0.00374253, 0.00130866,\n",
       "       0.00402021, 0.00273364, 0.00230697, 0.00358342, 0.00365764,\n",
       "       0.00263983, 0.0053865 , 0.00226431, 0.00205314, 0.00222671,\n",
       "       0.00290866, 0.00262839, 0.00322417, 0.0025351 , 0.00280878,\n",
       "       0.00160616, 0.00246938, 0.00360787, 0.0029481 , 0.00412742,\n",
       "       0.00404152, 0.00298698, 0.00209717, 0.00338841, 0.00275607,\n",
       "       0.00261689, 0.00260134, 0.00367439, 0.00497013, 0.00264889,\n",
       "       0.00319631, 0.00217802, 0.00478263, 0.0032058 , 0.00305164,\n",
       "       0.00258118, 0.00273774, 0.00454071, 0.00296789, 0.00396709,\n",
       "       0.00358475, 0.00288546, 0.00346044, 0.0027808 , 0.00142121,\n",
       "       0.00234075, 0.00262965, 0.00564723, 0.00304141, 0.00226993,\n",
       "       0.00404107, 0.00374459, 0.00237549, 0.00495171, 0.00233886,\n",
       "       0.00216968, 0.00377287, 0.00274189, 0.0027778 , 0.00134935,\n",
       "       0.00308033, 0.00178169, 0.00410757, 0.00327418, 0.00345309,\n",
       "       0.00305422, 0.00285261, 0.00400389, 0.00333066, 0.00375101,\n",
       "       0.00364853, 0.0034891 , 0.00232783, 0.00374215, 0.00332145,\n",
       "       0.00301365, 0.00329373, 0.00466115, 0.00200873, 0.00243402,\n",
       "       0.00303322, 0.00247111, 0.00397293, 0.00195479, 0.00378592,\n",
       "       0.00221444, 0.00346861, 0.00372559, 0.00220948, 0.00289349,\n",
       "       0.00267916, 0.00339824, 0.00343804, 0.00324928, 0.00230641,\n",
       "       0.00301567, 0.00356348, 0.00283474, 0.00334269, 0.00353573,\n",
       "       0.00375595, 0.00258247, 0.0023398 , 0.00239218, 0.00282974,\n",
       "       0.00282264, 0.00247285, 0.00297048, 0.00358019, 0.00347059,\n",
       "       0.00237746, 0.00209261, 0.00364846, 0.00513608, 0.00367052,\n",
       "       0.00370689, 0.00403343, 0.0030241 , 0.00307275, 0.00309969,\n",
       "       0.00318438, 0.00250464, 0.00182118, 0.00333111, 0.00261564,\n",
       "       0.00370536, 0.00291964, 0.0020752 , 0.00418799, 0.00218949,\n",
       "       0.00299678, 0.00354893, 0.00324615, 0.00266161, 0.00057063,\n",
       "       0.00317443, 0.00270369, 0.01126245, 0.00328547, 0.00269654,\n",
       "       0.00481923, 0.00388872, 0.00194167, 0.00181599, 0.00212736,\n",
       "       0.00231731, 0.0018681 , 0.00269411, 0.00126637, 0.00157517,\n",
       "       0.0096632 , 0.00402971, 0.00194346, 0.0021811 , 0.00192271,\n",
       "       0.00169544, 0.00244429, 0.00159434, 0.01120281, 0.00247738,\n",
       "       0.00156814, 0.00247501, 0.00406034, 0.00540439, 0.00172466,\n",
       "       0.00238188, 0.0102389 , 0.00263492, 0.00248153, 0.00298514,\n",
       "       0.00206127, 0.00298991, 0.00193743, 0.00218523, 0.00218665,\n",
       "       0.01349543, 0.00351726, 0.00221321, 0.00133145, 0.00297057,\n",
       "       0.00151795, 0.00202918, 0.0019202 , 0.00279217, 0.00185141,\n",
       "       0.00318819, 0.00266445, 0.00814219, 0.00117809, 0.00284485,\n",
       "       0.00220511, 0.00251353, 0.00210751, 0.00167995, 0.00287544,\n",
       "       0.00177336, 0.0015221 , 0.00183028, 0.00110395, 0.00169413,\n",
       "       0.00266199, 0.00106119, 0.00212737, 0.00105307, 0.00227944,\n",
       "       0.00212257, 0.00239604, 0.00328262, 0.00325791, 0.00389454,\n",
       "       0.00152483, 0.00184534, 0.00259544, 0.0092603 , 0.00249159,\n",
       "       0.00211093, 0.00095478, 0.00235391, 0.00246791, 0.00340505,\n",
       "       0.00990811, 0.00213265, 0.00255008, 0.00312593, 0.00154011,\n",
       "       0.00328116, 0.00970052, 0.00129645, 0.0030556 , 0.00323861,\n",
       "       0.00239972, 0.00303518, 0.00289929, 0.00324857, 0.00300742,\n",
       "       0.0018732 , 0.00272612, 0.00386427, 0.00335704, 0.00278457,\n",
       "       0.01048151, 0.00163523, 0.00283787, 0.00271744, 0.00249928,\n",
       "       0.0032223 , 0.0036374 , 0.00125891, 0.00193813, 0.0041316 ,\n",
       "       0.00354456, 0.00212429, 0.00207545, 0.00793104, 0.00360193,\n",
       "       0.00233179, 0.0013474 , 0.00329424, 0.00268409, 0.00191057,\n",
       "       0.00133576, 0.00155065, 0.00129657, 0.00297653, 0.00311922,\n",
       "       0.0040307 , 0.00223497, 0.00238878, 0.00456913, 0.00079821,\n",
       "       0.01155494, 0.00287204, 0.00126732, 0.00223511, 0.00201199,\n",
       "       0.00183524, 0.00181829, 0.00270998, 0.00202895, 0.0020086 ,\n",
       "       0.00194342, 0.00255108, 0.00159165, 0.00190073, 0.00305991,\n",
       "       0.00381456, 0.00180835, 0.00127207, 0.00214119, 0.00167971,\n",
       "       0.00457072, 0.00235982, 0.00154683, 0.00393402, 0.00174941,\n",
       "       0.00898705, 0.00286   , 0.01184266, 0.0141982 , 0.0031182 ,\n",
       "       0.0023328 , 0.00252864, 0.00273049, 0.0028235 , 0.00758703,\n",
       "       0.00324789, 0.00969751, 0.00195578, 0.00334486, 0.00345109,\n",
       "       0.0027276 , 0.00237681, 0.00287117, 0.00155817, 0.00297555,\n",
       "       0.00194892, 0.00258372, 0.01021896, 0.00120929, 0.00178821,\n",
       "       0.00268132, 0.00241734, 0.00290986, 0.00141735, 0.00178272,\n",
       "       0.00317038, 0.00279354, 0.008318  , 0.00218954, 0.01594625,\n",
       "       0.01331492, 0.00197194, 0.00194858, 0.00120857, 0.002225  ,\n",
       "       0.00272666, 0.00225839, 0.01056183, 0.00291539, 0.00192176,\n",
       "       0.00329492, 0.00251718, 0.01332605, 0.00114893, 0.0030509 ,\n",
       "       0.0012711 , 0.00235739, 0.00353535, 0.00193869, 0.00136246,\n",
       "       0.01005189, 0.00168011, 0.00144169, 0.00340624, 0.00288741,\n",
       "       0.00287683, 0.00293209, 0.00345193, 0.00347518, 0.00265714,\n",
       "       0.01040147, 0.00314075, 0.00771668, 0.00268909, 0.00236471,\n",
       "       0.00316361, 0.00120796, 0.00190064, 0.00205813, 0.00073353,\n",
       "       0.0033896 , 0.00174592, 0.00159843, 0.00167123, 0.00245894,\n",
       "       0.00355373, 0.00106829, 0.00264208, 0.00293116, 0.00136856,\n",
       "       0.00340449, 0.00307099, 0.00669002, 0.00286173])"
      ]
     },
     "execution_count": 328,
     "metadata": {},
     "output_type": "execute_result"
    }
   ],
   "source": [
    "importances = forest_clf.feature_importances_\n",
    "std = np.std([tree.feature_importances_ for tree in forest_clf.estimators_], axis=0)\n",
    "std"
   ]
  },
  {
   "cell_type": "code",
   "execution_count": 350,
   "id": "a7eb0db7",
   "metadata": {
    "scrolled": false
   },
   "outputs": [
    {
     "name": "stdout",
     "output_type": "stream",
     "text": [
      "0.018604133443492744 Age\n",
      "0.010373784982305442 TotalWorkingYears\n",
      "0.018761923692041185 YearsAtCompany\n",
      "0.011262446603101883 2015-01-06\n",
      "0.011202811755176968 2015-02-06\n",
      "0.01023890204864407 2015-02-18\n",
      "0.013495432440074805 2015-03-03\n",
      "0.010481513165213244 2015-06-04\n",
      "0.011554944775049229 2015-07-16\n",
      "0.011842661649314426 2015-08-25\n",
      "0.014198199819636631 2015-08-26\n",
      "0.010218963555885714 2015-09-23\n",
      "0.015946252847470494 2015-10-12\n",
      "0.013314921505660408 2015-10-13\n",
      "0.010561827542041843 2015-10-22\n",
      "0.013326050430319064 2015-10-29\n",
      "0.010051890801115713 2015-11-13\n",
      "0.010401471870019184 2015-11-27\n"
     ]
    }
   ],
   "source": [
    "for i in range(len(std)):\n",
    "    if std[i] >= 0.01:\n",
    "        print(std[i], X_train[0].keys()[i][-1])"
   ]
  },
  {
   "cell_type": "code",
   "execution_count": 324,
   "id": "3b0f7947",
   "metadata": {},
   "outputs": [
    {
     "data": {
      "text/plain": [
       "array([[2940,   11],\n",
       "       [ 549,   28]], dtype=int64)"
      ]
     },
     "execution_count": 324,
     "metadata": {},
     "output_type": "execute_result"
    }
   ],
   "source": [
    "confusion_matrix(y_train_1, y_probas_forest)"
   ]
  },
  {
   "cell_type": "markdown",
   "id": "4c5194fb",
   "metadata": {},
   "source": [
    "### Evaluation des métriques"
   ]
  },
  {
   "cell_type": "code",
   "execution_count": 354,
   "id": "dc59f779",
   "metadata": {},
   "outputs": [
    {
     "name": "stdout",
     "output_type": "stream",
     "text": [
      "0.4444444444444444 0.717948717948718\n"
     ]
    }
   ],
   "source": [
    "from sklearn.metrics import precision_score, recall_score\n",
    "precision_score_sgd = precision_score(y_train_1, y_train_pred)\n",
    "precision_score_forest = precision_score(y_train_1, y_probas_forest)\n",
    "\n",
    "print(precision_score_sgd, precision_score_forest)"
   ]
  },
  {
   "cell_type": "code",
   "execution_count": 357,
   "id": "6d970e1d",
   "metadata": {},
   "outputs": [
    {
     "name": "stdout",
     "output_type": "stream",
     "text": [
      "0.006932409012131715 0.04852686308492201\n"
     ]
    }
   ],
   "source": [
    "recall_score_sgd = recall_score(y_train_1, y_train_pred)\n",
    "recall_score_forest = recall_score(y_train_1, y_probas_forest)\n",
    "\n",
    "print(recall_score_sgd, recall_score_forest)"
   ]
  },
  {
   "cell_type": "code",
   "execution_count": 359,
   "id": "733e8b92",
   "metadata": {},
   "outputs": [
    {
     "name": "stdout",
     "output_type": "stream",
     "text": [
      "0.0136518771331058 0.0909090909090909\n"
     ]
    }
   ],
   "source": [
    "from sklearn.metrics import f1_score\n",
    "f1_score_sgd = f1_score(y_train_1, y_train_pred)\n",
    "f1_score_forest = f1_score(y_train_1, y_probas_forest)\n",
    "\n",
    "print(f1_score_sgd, f1_score_forest)"
   ]
  },
  {
   "cell_type": "markdown",
   "id": "f9c7ccd9",
   "metadata": {},
   "source": [
    "### Courbe ROC"
   ]
  },
  {
   "cell_type": "code",
   "execution_count": 361,
   "id": "cc5de5e7",
   "metadata": {},
   "outputs": [],
   "source": [
    "from sklearn.metrics import roc_curve\n",
    "\n",
    "y_scores = cross_val_predict(sgd_clf, X_train, y_train_1, cv=3,\n",
    "                             method=\"decision_function\")\n",
    "\n",
    "fpr, tpr, thresholds = roc_curve(y_train_1, y_scores)"
   ]
  },
  {
   "cell_type": "code",
   "execution_count": 364,
   "id": "5fbf091b",
   "metadata": {},
   "outputs": [
    {
     "data": {
      "image/png": "[encoded data removed]",
      "text/plain": [
       "<Figure size 576x432 with 1 Axes>"
      ]
     },
     "metadata": {
      "needs_background": "light"
     },
     "output_type": "display_data"
    }
   ],
   "source": [
    "def plot_roc_curve(fpr, tpr, label=None):\n",
    "    plt.plot(fpr, tpr, linewidth=2, label=label)\n",
    "    plt.plot([0, 1], [0, 1], 'k--')\n",
    "    plt.axis([0, 1, 0, 1])\n",
    "    plt.xlabel('False Positive Rate', fontsize=16)\n",
    "    plt.ylabel('True Positive Rate', fontsize=16)\n",
    "\n",
    "plt.figure(figsize=(8, 6))\n",
    "plot_roc_curve(fpr, tpr)\n",
    "# save_fig(\"roc_curve_plot\")\n",
    "plt.show()"
   ]
  },
  {
   "cell_type": "markdown",
   "id": "c6f07bb0",
   "metadata": {},
   "source": [
    "## <center>  <br /> <br /> VI. RESSOURCES </center>  "
   ]
  },
  {
   "cell_type": "markdown",
   "id": "f70850e6",
   "metadata": {},
   "source": [
    "## <center>  <br /> <br /> VIII. LEXIQUE </center>  "
   ]
  },
  {
   "cell_type": "code",
   "execution_count": null,
   "id": "8993aac3",
   "metadata": {},
   "outputs": [],
   "source": []
  }
 ],
 "metadata": {
  "kernelspec": {
   "display_name": "Python 3 (ipykernel)",
   "language": "python",
   "name": "python3"
  },
  "language_info": {
   "codemirror_mode": {
    "name": "ipython",
    "version": 3
   },
   "file_extension": ".py",
   "mimetype": "text/x-python",
   "name": "python",
   "nbconvert_exporter": "python",
   "pygments_lexer": "ipython3",
   "version": "3.9.12"
  }
 },
 "nbformat": 4,
 "nbformat_minor": 5
}
