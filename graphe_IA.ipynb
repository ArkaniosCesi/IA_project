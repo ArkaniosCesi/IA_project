{
 "cells": [
  {
   "cell_type": "markdown",
   "id": "96ac72fd",
   "metadata": {},
   "source": [
    "#                          <center> <div color = \"blue\">INTELLIGENCE ARTIFICIELLE</div> <br /><br /> PROJET IA for HumanForYou\n",
    "</center>        \n",
    "\n",
    "\n",
    "\n",
    "\n",
    "\n",
    "###                             <center> CESICDP GROUPE 2 </center>\n",
    "\n",
    "#####  <center> Adrian SALAUM <br /><br /> Coralistone METSA<br /><br /> Romain COTTINEAU  <br /><br />Simon BRIFFAUD <br /><br /> </center>\n"
   ]
  },
  {
   "cell_type": "markdown",
   "id": "97e797fd",
   "metadata": {},
   "source": [
    "##### ########################################################################################################################"
   ]
  },
  {
   "cell_type": "markdown",
   "id": "60565f6c",
   "metadata": {},
   "source": [
    "##### ########################################################################################################################"
   ]
  },
  {
   "cell_type": "markdown",
   "id": "f27bae09",
   "metadata": {},
   "source": [
    "##                     <center> <br />  I. RAPPEL DU CONTEXTE </center>                                                     "
   ]
  },
  {
   "cell_type": "markdown",
   "id": "5ab4ecb7",
   "metadata": {},
   "source": [
    "L'entreprise de produits pharmaceutiques HumanForYou basée en Inde emploie environ 4000 personnes. Cependant, chaque année elle subit un turn-over d'environ 15% de ses employés nécessitant de retrouver des profils similaires sur le marché de l'emploi.\n",
    "\n",
    "La direction trouve que ce niveau de turn-over n'est pas bon pour l'entreprise car :\n",
    "\n",
    "Les projets sur lesquels étaient les employés quittant la société prennent du retard ce qui nuit à la réputation de l'entreprise auprès de ses clients et partenaires.\n",
    "\n",
    "Un service de ressources humaines de taille conséquente doit être conservé car il faut avoir les moyens de trouver les nouvelles recrues.\n",
    "\n",
    "Du temps est perdu à l'arrivée des nouveaux employés car ils doivent très souvent être formés et ont besoin de temps pour devenir pleinement opérationnels dans leur nouvel environnement.\n",
    "\n",
    "Le direction fait donc appel à vous, spécialistes de l'analyse de données, pour déterminer les facteurs ayant le plus d'influence sur ce taux de turn-over et lui proposer des modèles afin d'avoir des pistes d'amélioration pour donner à leurs employés l'envie de rester.\n",
    "\n",
    "Données fournies\n",
    "Un certain nombre de données concernant les employés vous a donc été transmis par le service des ressources humaines.\n",
    "\n",
    "Il s'agit de fichiers textes au format CSV.\n",
    "\n",
    "Les données ont été anonymisées : un employé de l'entreprise sera représenté par le même EmployeeID dans l'ensemble des fichiers qui suivent."
   ]
  },
  {
   "cell_type": "markdown",
   "id": "dd6e02e6",
   "metadata": {},
   "source": [
    "##               <center>  <br /> <br /> II. Pre-traitement des données et analyse exploratoire </center>   "
   ]
  },
  {
   "cell_type": "markdown",
   "id": "e11e8991",
   "metadata": {},
   "source": [
    "Voici quelques étapes à suivre pour pré-traiter les données pour une utilisation avec K-means :\n",
    "\n",
    "1. Intégration des données : Intégrez les données des différentes sources en une seule source de données. Si vous travaillez avec des données provenant de plusieurs sources, vous devez les intégrer en une seule source de données. Cela vous permettra de traiter les données comme une seule entité et de les analyser plus facilement.\n",
    "\n",
    "1. Nettoyer les données : Assurez-vous que vos données sont propres et ne contiennent pas de valeurs manquantes, de doublons ou d'autres anomalies. Si nécessaire, supprimez ou remplacez les données manquantes.\n",
    "\n",
    "2. Normaliser les données : Normalisez les données en les mettant à l'échelle de sorte que chaque variable ait une plage de valeurs comparable. La normalisation peut être effectuée en utilisant la méthode de la moyenne et de l'écart type, la méthode de la plage ou la méthode de la normalisation de l'amplitude.\n",
    "\n",
    "3. Réduire la dimensionnalité : Si vous travaillez avec des données à haute dimensionnalité, utilisez des techniques de réduction de dimensionnalité telles que l'analyse en composantes principales (PCA) pour réduire la dimensionnalité de vos données et faciliter leur analyse.\n",
    "\n",
    "4. Identifier les valeurs aberrantes : Les valeurs aberrantes peuvent fausser les résultats de K-means, il est donc important de les identifier et de les traiter correctement. Les valeurs aberrantes peuvent être supprimées ou remplacées par des valeurs plus appropriées.\n",
    "\n",
    "5. Sélectionner les caractéristiques : Si vous travaillez avec des données qui contiennent de nombreuses caractéristiques, il peut être judicieux de sélectionner les caractéristiques les plus pertinentes pour votre analyse.\n",
    "\n",
    "En résumé, le pré-traitement des données pour K-means comprend le nettoyage des données, la normalisation des données, la réduction de la dimensionnalité, l'identification et le traitement des valeurs aberrantes et la sélection des caractéristiques. En effectuant ces étapes, vous pouvez améliorer la qualité de vos données et obtenir des résultats plus significatifs à l'aide de K-means."
   ]
  },
  {
   "cell_type": "markdown",
   "id": "fd3e985c",
   "metadata": {},
   "source": [
    "##  <center>  <br /> <br /> 1. Data wrangling </center>\n",
    "Puisque les données proviennent d'un fichier CSV, nous utiliserons la fonction read_csv de Pandas pour charger les données dans un DataFrame."
   ]
  },
  {
   "cell_type": "markdown",
   "id": "bc87a3b3",
   "metadata": {},
   "source": [
    "### Ca c'est avant de charger les données."
   ]
  },
  {
   "cell_type": "code",
   "execution_count": 1,
   "id": "9423a46f",
   "metadata": {},
   "outputs": [],
   "source": [
    "import os\n",
    "import tarfile\n",
    "from six.moves import urllib\n",
    "import pandas as pd\n",
    "\n",
    "%matplotlib inline\n",
    "import matplotlib\n",
    "import matplotlib.pyplot as plt\n",
    "\n",
    "DOWNLOAD_URLS = [\n",
    "    \"https://raw.githubusercontent.com/ArkaniosCesi/IA_project/main/employee_survey_data.csv\",\n",
    "    \"https://raw.githubusercontent.com/ArkaniosCesi/IA_project/main/general_data.csv\",\n",
    "    \"https://raw.githubusercontent.com/ArkaniosCesi/IA_project/main/in_time.csv\",\n",
    "    \"https://raw.githubusercontent.com/ArkaniosCesi/IA_project/main/manager_survey_data.csv\",\n",
    "    \"https://raw.githubusercontent.com/ArkaniosCesi/IA_project/main/out_time.csv\"\n",
    "]\n",
    "HOUSING_PATH = os.path.join(\"datasets\", \"employees\")\n",
    "\n",
    "def load_project_data(download_urls=DOWNLOAD_URLS, housing_path=HOUSING_PATH):    \n",
    "    dataframes = {}\n",
    "    \n",
    "    for url in DOWNLOAD_URLS:\n",
    "        file_name = url.split('/')[-1].split('.')[0]\n",
    "        df = pd.read_csv(url)\n",
    "        if df.keys()[0] != \"EmployeeID\":\n",
    "            df.rename({df.keys()[0]:\"EmployeeID\"}, axis='columns', errors=\"raise\", inplace=True)\n",
    "        df.set_index(\"EmployeeID\", inplace=True)\n",
    "        dataframes[file_name] = df\n",
    "    \n",
    "    return dataframes"
   ]
  },
  {
   "cell_type": "markdown",
   "id": "93be3ffb",
   "metadata": {},
   "source": [
    "#### On vérifie si les données sont correctement chargées"
   ]
  },
  {
   "cell_type": "code",
   "execution_count": 2,
   "id": "08311ff6",
   "metadata": {},
   "outputs": [],
   "source": [
    "data = load_project_data()"
   ]
  },
  {
   "cell_type": "code",
   "execution_count": 3,
   "id": "cfeb8e83",
   "metadata": {},
   "outputs": [
    {
     "data": {
      "text/html": [
       "<div>\n",
       "<style scoped>\n",
       "    .dataframe tbody tr th:only-of-type {\n",
       "        vertical-align: middle;\n",
       "    }\n",
       "\n",
       "    .dataframe tbody tr th {\n",
       "        vertical-align: top;\n",
       "    }\n",
       "\n",
       "    .dataframe thead tr th {\n",
       "        text-align: left;\n",
       "    }\n",
       "\n",
       "    .dataframe thead tr:last-of-type th {\n",
       "        text-align: right;\n",
       "    }\n",
       "</style>\n",
       "<table border=\"1\" class=\"dataframe\">\n",
       "  <thead>\n",
       "    <tr>\n",
       "      <th></th>\n",
       "      <th colspan=\"3\" halign=\"left\">employee_survey_data</th>\n",
       "      <th colspan=\"7\" halign=\"left\">general_data</th>\n",
       "      <th>...</th>\n",
       "      <th colspan=\"10\" halign=\"left\">out_time</th>\n",
       "    </tr>\n",
       "    <tr>\n",
       "      <th></th>\n",
       "      <th>EnvironmentSatisfaction</th>\n",
       "      <th>JobSatisfaction</th>\n",
       "      <th>WorkLifeBalance</th>\n",
       "      <th>Age</th>\n",
       "      <th>Attrition</th>\n",
       "      <th>BusinessTravel</th>\n",
       "      <th>Department</th>\n",
       "      <th>DistanceFromHome</th>\n",
       "      <th>Education</th>\n",
       "      <th>EducationField</th>\n",
       "      <th>...</th>\n",
       "      <th>2015-12-18</th>\n",
       "      <th>2015-12-21</th>\n",
       "      <th>2015-12-22</th>\n",
       "      <th>2015-12-23</th>\n",
       "      <th>2015-12-24</th>\n",
       "      <th>2015-12-25</th>\n",
       "      <th>2015-12-28</th>\n",
       "      <th>2015-12-29</th>\n",
       "      <th>2015-12-30</th>\n",
       "      <th>2015-12-31</th>\n",
       "    </tr>\n",
       "    <tr>\n",
       "      <th>EmployeeID</th>\n",
       "      <th></th>\n",
       "      <th></th>\n",
       "      <th></th>\n",
       "      <th></th>\n",
       "      <th></th>\n",
       "      <th></th>\n",
       "      <th></th>\n",
       "      <th></th>\n",
       "      <th></th>\n",
       "      <th></th>\n",
       "      <th></th>\n",
       "      <th></th>\n",
       "      <th></th>\n",
       "      <th></th>\n",
       "      <th></th>\n",
       "      <th></th>\n",
       "      <th></th>\n",
       "      <th></th>\n",
       "      <th></th>\n",
       "      <th></th>\n",
       "      <th></th>\n",
       "    </tr>\n",
       "  </thead>\n",
       "  <tbody>\n",
       "    <tr>\n",
       "      <th>1</th>\n",
       "      <td>3.0</td>\n",
       "      <td>4.0</td>\n",
       "      <td>2.0</td>\n",
       "      <td>51</td>\n",
       "      <td>No</td>\n",
       "      <td>Travel_Rarely</td>\n",
       "      <td>Sales</td>\n",
       "      <td>6</td>\n",
       "      <td>2</td>\n",
       "      <td>Life Sciences</td>\n",
       "      <td>...</td>\n",
       "      <td>NaN</td>\n",
       "      <td>2015-12-21 17:15:50</td>\n",
       "      <td>2015-12-22 17:27:51</td>\n",
       "      <td>2015-12-23 16:44:44</td>\n",
       "      <td>2015-12-24 17:47:22</td>\n",
       "      <td>NaN</td>\n",
       "      <td>2015-12-28 18:00:07</td>\n",
       "      <td>2015-12-29 17:22:30</td>\n",
       "      <td>2015-12-30 17:40:56</td>\n",
       "      <td>2015-12-31 17:17:33</td>\n",
       "    </tr>\n",
       "    <tr>\n",
       "      <th>2</th>\n",
       "      <td>3.0</td>\n",
       "      <td>2.0</td>\n",
       "      <td>4.0</td>\n",
       "      <td>31</td>\n",
       "      <td>Yes</td>\n",
       "      <td>Travel_Frequently</td>\n",
       "      <td>Research &amp; Development</td>\n",
       "      <td>10</td>\n",
       "      <td>1</td>\n",
       "      <td>Life Sciences</td>\n",
       "      <td>...</td>\n",
       "      <td>2015-12-18 18:31:28</td>\n",
       "      <td>2015-12-21 17:34:16</td>\n",
       "      <td>2015-12-22 18:16:35</td>\n",
       "      <td>2015-12-23 17:38:18</td>\n",
       "      <td>NaN</td>\n",
       "      <td>NaN</td>\n",
       "      <td>2015-12-28 17:08:38</td>\n",
       "      <td>2015-12-29 17:54:46</td>\n",
       "      <td>2015-12-30 18:31:35</td>\n",
       "      <td>2015-12-31 17:40:58</td>\n",
       "    </tr>\n",
       "    <tr>\n",
       "      <th>3</th>\n",
       "      <td>2.0</td>\n",
       "      <td>2.0</td>\n",
       "      <td>1.0</td>\n",
       "      <td>32</td>\n",
       "      <td>No</td>\n",
       "      <td>Travel_Frequently</td>\n",
       "      <td>Research &amp; Development</td>\n",
       "      <td>17</td>\n",
       "      <td>4</td>\n",
       "      <td>Other</td>\n",
       "      <td>...</td>\n",
       "      <td>2015-12-18 17:02:23</td>\n",
       "      <td>2015-12-21 17:20:17</td>\n",
       "      <td>2015-12-22 16:32:50</td>\n",
       "      <td>2015-12-23 16:59:43</td>\n",
       "      <td>2015-12-24 16:58:25</td>\n",
       "      <td>NaN</td>\n",
       "      <td>2015-12-28 16:43:31</td>\n",
       "      <td>2015-12-29 17:09:56</td>\n",
       "      <td>2015-12-30 17:06:25</td>\n",
       "      <td>2015-12-31 17:15:50</td>\n",
       "    </tr>\n",
       "    <tr>\n",
       "      <th>4</th>\n",
       "      <td>4.0</td>\n",
       "      <td>4.0</td>\n",
       "      <td>3.0</td>\n",
       "      <td>38</td>\n",
       "      <td>No</td>\n",
       "      <td>Non-Travel</td>\n",
       "      <td>Research &amp; Development</td>\n",
       "      <td>2</td>\n",
       "      <td>5</td>\n",
       "      <td>Life Sciences</td>\n",
       "      <td>...</td>\n",
       "      <td>2015-12-18 17:55:23</td>\n",
       "      <td>2015-12-21 16:49:09</td>\n",
       "      <td>2015-12-22 17:24:00</td>\n",
       "      <td>2015-12-23 17:36:35</td>\n",
       "      <td>2015-12-24 16:48:21</td>\n",
       "      <td>NaN</td>\n",
       "      <td>2015-12-28 17:19:34</td>\n",
       "      <td>2015-12-29 16:58:16</td>\n",
       "      <td>2015-12-30 17:40:11</td>\n",
       "      <td>2015-12-31 17:09:14</td>\n",
       "    </tr>\n",
       "    <tr>\n",
       "      <th>5</th>\n",
       "      <td>4.0</td>\n",
       "      <td>1.0</td>\n",
       "      <td>3.0</td>\n",
       "      <td>32</td>\n",
       "      <td>No</td>\n",
       "      <td>Travel_Rarely</td>\n",
       "      <td>Research &amp; Development</td>\n",
       "      <td>10</td>\n",
       "      <td>1</td>\n",
       "      <td>Medical</td>\n",
       "      <td>...</td>\n",
       "      <td>2015-12-18 17:52:48</td>\n",
       "      <td>2015-12-21 17:43:35</td>\n",
       "      <td>2015-12-22 18:07:57</td>\n",
       "      <td>2015-12-23 18:00:49</td>\n",
       "      <td>2015-12-24 17:59:22</td>\n",
       "      <td>NaN</td>\n",
       "      <td>2015-12-28 17:44:59</td>\n",
       "      <td>2015-12-29 18:47:00</td>\n",
       "      <td>2015-12-30 17:15:33</td>\n",
       "      <td>2015-12-31 17:42:14</td>\n",
       "    </tr>\n",
       "  </tbody>\n",
       "</table>\n",
       "<p>5 rows × 550 columns</p>\n",
       "</div>"
      ],
      "text/plain": [
       "              employee_survey_data                                  \\\n",
       "           EnvironmentSatisfaction JobSatisfaction WorkLifeBalance   \n",
       "EmployeeID                                                           \n",
       "1                              3.0             4.0             2.0   \n",
       "2                              3.0             2.0             4.0   \n",
       "3                              2.0             2.0             1.0   \n",
       "4                              4.0             4.0             3.0   \n",
       "5                              4.0             1.0             3.0   \n",
       "\n",
       "           general_data                                                       \\\n",
       "                    Age Attrition     BusinessTravel              Department   \n",
       "EmployeeID                                                                     \n",
       "1                    51        No      Travel_Rarely                   Sales   \n",
       "2                    31       Yes  Travel_Frequently  Research & Development   \n",
       "3                    32        No  Travel_Frequently  Research & Development   \n",
       "4                    38        No         Non-Travel  Research & Development   \n",
       "5                    32        No      Travel_Rarely  Research & Development   \n",
       "\n",
       "                                                      ...  \\\n",
       "           DistanceFromHome Education EducationField  ...   \n",
       "EmployeeID                                            ...   \n",
       "1                         6         2  Life Sciences  ...   \n",
       "2                        10         1  Life Sciences  ...   \n",
       "3                        17         4          Other  ...   \n",
       "4                         2         5  Life Sciences  ...   \n",
       "5                        10         1        Medical  ...   \n",
       "\n",
       "                       out_time                                            \\\n",
       "                     2015-12-18           2015-12-21           2015-12-22   \n",
       "EmployeeID                                                                  \n",
       "1                           NaN  2015-12-21 17:15:50  2015-12-22 17:27:51   \n",
       "2           2015-12-18 18:31:28  2015-12-21 17:34:16  2015-12-22 18:16:35   \n",
       "3           2015-12-18 17:02:23  2015-12-21 17:20:17  2015-12-22 16:32:50   \n",
       "4           2015-12-18 17:55:23  2015-12-21 16:49:09  2015-12-22 17:24:00   \n",
       "5           2015-12-18 17:52:48  2015-12-21 17:43:35  2015-12-22 18:07:57   \n",
       "\n",
       "                                                                 \\\n",
       "                     2015-12-23           2015-12-24 2015-12-25   \n",
       "EmployeeID                                                        \n",
       "1           2015-12-23 16:44:44  2015-12-24 17:47:22        NaN   \n",
       "2           2015-12-23 17:38:18                  NaN        NaN   \n",
       "3           2015-12-23 16:59:43  2015-12-24 16:58:25        NaN   \n",
       "4           2015-12-23 17:36:35  2015-12-24 16:48:21        NaN   \n",
       "5           2015-12-23 18:00:49  2015-12-24 17:59:22        NaN   \n",
       "\n",
       "                                                                           \\\n",
       "                     2015-12-28           2015-12-29           2015-12-30   \n",
       "EmployeeID                                                                  \n",
       "1           2015-12-28 18:00:07  2015-12-29 17:22:30  2015-12-30 17:40:56   \n",
       "2           2015-12-28 17:08:38  2015-12-29 17:54:46  2015-12-30 18:31:35   \n",
       "3           2015-12-28 16:43:31  2015-12-29 17:09:56  2015-12-30 17:06:25   \n",
       "4           2015-12-28 17:19:34  2015-12-29 16:58:16  2015-12-30 17:40:11   \n",
       "5           2015-12-28 17:44:59  2015-12-29 18:47:00  2015-12-30 17:15:33   \n",
       "\n",
       "                                 \n",
       "                     2015-12-31  \n",
       "EmployeeID                       \n",
       "1           2015-12-31 17:17:33  \n",
       "2           2015-12-31 17:40:58  \n",
       "3           2015-12-31 17:15:50  \n",
       "4           2015-12-31 17:09:14  \n",
       "5           2015-12-31 17:42:14  \n",
       "\n",
       "[5 rows x 550 columns]"
      ]
     },
     "execution_count": 3,
     "metadata": {},
     "output_type": "execute_result"
    }
   ],
   "source": [
    "general_df = pd.concat(data.values(), axis=1, keys=data.keys())\n",
    "general_df.head()"
   ]
  },
  {
   "cell_type": "markdown",
   "id": "f439e52c",
   "metadata": {},
   "source": [
    "#### On affiche la description des colonnes pour chaque jeu de données\n",
    "\n",
    "On visualise ainsi quelles colonnes ont déjà des valeurs numériques ou non"
   ]
  },
  {
   "cell_type": "code",
   "execution_count": 4,
   "id": "420a078d",
   "metadata": {},
   "outputs": [
    {
     "name": "stdout",
     "output_type": "stream",
     "text": [
      "<class 'pandas.core.frame.DataFrame'>\n",
      "Int64Index: 4410 entries, 1 to 4410\n",
      "Columns: 550 entries, ('employee_survey_data', 'EnvironmentSatisfaction') to ('out_time', '2015-12-31')\n",
      "dtypes: float64(29), int64(15), object(506)\n",
      "memory usage: 18.5+ MB\n"
     ]
    }
   ],
   "source": [
    "general_df.info()"
   ]
  },
  {
   "cell_type": "code",
   "execution_count": 5,
   "id": "5974d3cf",
   "metadata": {
    "scrolled": false
   },
   "outputs": [
    {
     "data": {
      "text/html": [
       "<div>\n",
       "<style scoped>\n",
       "    .dataframe tbody tr th:only-of-type {\n",
       "        vertical-align: middle;\n",
       "    }\n",
       "\n",
       "    .dataframe tbody tr th {\n",
       "        vertical-align: top;\n",
       "    }\n",
       "\n",
       "    .dataframe thead tr th {\n",
       "        text-align: left;\n",
       "    }\n",
       "</style>\n",
       "<table border=\"1\" class=\"dataframe\">\n",
       "  <thead>\n",
       "    <tr>\n",
       "      <th></th>\n",
       "      <th colspan=\"3\" halign=\"left\">employee_survey_data</th>\n",
       "      <th colspan=\"7\" halign=\"left\">general_data</th>\n",
       "      <th>...</th>\n",
       "      <th colspan=\"10\" halign=\"left\">out_time</th>\n",
       "    </tr>\n",
       "    <tr>\n",
       "      <th></th>\n",
       "      <th>EnvironmentSatisfaction</th>\n",
       "      <th>JobSatisfaction</th>\n",
       "      <th>WorkLifeBalance</th>\n",
       "      <th>Age</th>\n",
       "      <th>DistanceFromHome</th>\n",
       "      <th>Education</th>\n",
       "      <th>EmployeeCount</th>\n",
       "      <th>JobLevel</th>\n",
       "      <th>MonthlyIncome</th>\n",
       "      <th>NumCompaniesWorked</th>\n",
       "      <th>...</th>\n",
       "      <th>2015-01-26</th>\n",
       "      <th>2015-03-05</th>\n",
       "      <th>2015-05-01</th>\n",
       "      <th>2015-07-17</th>\n",
       "      <th>2015-09-17</th>\n",
       "      <th>2015-10-02</th>\n",
       "      <th>2015-11-09</th>\n",
       "      <th>2015-11-10</th>\n",
       "      <th>2015-11-11</th>\n",
       "      <th>2015-12-25</th>\n",
       "    </tr>\n",
       "  </thead>\n",
       "  <tbody>\n",
       "    <tr>\n",
       "      <th>count</th>\n",
       "      <td>4385.000000</td>\n",
       "      <td>4390.000000</td>\n",
       "      <td>4372.000000</td>\n",
       "      <td>4410.000000</td>\n",
       "      <td>4410.000000</td>\n",
       "      <td>4410.000000</td>\n",
       "      <td>4410.0</td>\n",
       "      <td>4410.000000</td>\n",
       "      <td>4410.000000</td>\n",
       "      <td>4391.000000</td>\n",
       "      <td>...</td>\n",
       "      <td>0.0</td>\n",
       "      <td>0.0</td>\n",
       "      <td>0.0</td>\n",
       "      <td>0.0</td>\n",
       "      <td>0.0</td>\n",
       "      <td>0.0</td>\n",
       "      <td>0.0</td>\n",
       "      <td>0.0</td>\n",
       "      <td>0.0</td>\n",
       "      <td>0.0</td>\n",
       "    </tr>\n",
       "    <tr>\n",
       "      <th>mean</th>\n",
       "      <td>2.723603</td>\n",
       "      <td>2.728246</td>\n",
       "      <td>2.761436</td>\n",
       "      <td>36.923810</td>\n",
       "      <td>9.192517</td>\n",
       "      <td>2.912925</td>\n",
       "      <td>1.0</td>\n",
       "      <td>2.063946</td>\n",
       "      <td>65029.312925</td>\n",
       "      <td>2.694830</td>\n",
       "      <td>...</td>\n",
       "      <td>NaN</td>\n",
       "      <td>NaN</td>\n",
       "      <td>NaN</td>\n",
       "      <td>NaN</td>\n",
       "      <td>NaN</td>\n",
       "      <td>NaN</td>\n",
       "      <td>NaN</td>\n",
       "      <td>NaN</td>\n",
       "      <td>NaN</td>\n",
       "      <td>NaN</td>\n",
       "    </tr>\n",
       "    <tr>\n",
       "      <th>std</th>\n",
       "      <td>1.092756</td>\n",
       "      <td>1.101253</td>\n",
       "      <td>0.706245</td>\n",
       "      <td>9.133301</td>\n",
       "      <td>8.105026</td>\n",
       "      <td>1.023933</td>\n",
       "      <td>0.0</td>\n",
       "      <td>1.106689</td>\n",
       "      <td>47068.888559</td>\n",
       "      <td>2.498887</td>\n",
       "      <td>...</td>\n",
       "      <td>NaN</td>\n",
       "      <td>NaN</td>\n",
       "      <td>NaN</td>\n",
       "      <td>NaN</td>\n",
       "      <td>NaN</td>\n",
       "      <td>NaN</td>\n",
       "      <td>NaN</td>\n",
       "      <td>NaN</td>\n",
       "      <td>NaN</td>\n",
       "      <td>NaN</td>\n",
       "    </tr>\n",
       "    <tr>\n",
       "      <th>min</th>\n",
       "      <td>1.000000</td>\n",
       "      <td>1.000000</td>\n",
       "      <td>1.000000</td>\n",
       "      <td>18.000000</td>\n",
       "      <td>1.000000</td>\n",
       "      <td>1.000000</td>\n",
       "      <td>1.0</td>\n",
       "      <td>1.000000</td>\n",
       "      <td>10090.000000</td>\n",
       "      <td>0.000000</td>\n",
       "      <td>...</td>\n",
       "      <td>NaN</td>\n",
       "      <td>NaN</td>\n",
       "      <td>NaN</td>\n",
       "      <td>NaN</td>\n",
       "      <td>NaN</td>\n",
       "      <td>NaN</td>\n",
       "      <td>NaN</td>\n",
       "      <td>NaN</td>\n",
       "      <td>NaN</td>\n",
       "      <td>NaN</td>\n",
       "    </tr>\n",
       "    <tr>\n",
       "      <th>25%</th>\n",
       "      <td>2.000000</td>\n",
       "      <td>2.000000</td>\n",
       "      <td>2.000000</td>\n",
       "      <td>30.000000</td>\n",
       "      <td>2.000000</td>\n",
       "      <td>2.000000</td>\n",
       "      <td>1.0</td>\n",
       "      <td>1.000000</td>\n",
       "      <td>29110.000000</td>\n",
       "      <td>1.000000</td>\n",
       "      <td>...</td>\n",
       "      <td>NaN</td>\n",
       "      <td>NaN</td>\n",
       "      <td>NaN</td>\n",
       "      <td>NaN</td>\n",
       "      <td>NaN</td>\n",
       "      <td>NaN</td>\n",
       "      <td>NaN</td>\n",
       "      <td>NaN</td>\n",
       "      <td>NaN</td>\n",
       "      <td>NaN</td>\n",
       "    </tr>\n",
       "    <tr>\n",
       "      <th>50%</th>\n",
       "      <td>3.000000</td>\n",
       "      <td>3.000000</td>\n",
       "      <td>3.000000</td>\n",
       "      <td>36.000000</td>\n",
       "      <td>7.000000</td>\n",
       "      <td>3.000000</td>\n",
       "      <td>1.0</td>\n",
       "      <td>2.000000</td>\n",
       "      <td>49190.000000</td>\n",
       "      <td>2.000000</td>\n",
       "      <td>...</td>\n",
       "      <td>NaN</td>\n",
       "      <td>NaN</td>\n",
       "      <td>NaN</td>\n",
       "      <td>NaN</td>\n",
       "      <td>NaN</td>\n",
       "      <td>NaN</td>\n",
       "      <td>NaN</td>\n",
       "      <td>NaN</td>\n",
       "      <td>NaN</td>\n",
       "      <td>NaN</td>\n",
       "    </tr>\n",
       "    <tr>\n",
       "      <th>75%</th>\n",
       "      <td>4.000000</td>\n",
       "      <td>4.000000</td>\n",
       "      <td>3.000000</td>\n",
       "      <td>43.000000</td>\n",
       "      <td>14.000000</td>\n",
       "      <td>4.000000</td>\n",
       "      <td>1.0</td>\n",
       "      <td>3.000000</td>\n",
       "      <td>83800.000000</td>\n",
       "      <td>4.000000</td>\n",
       "      <td>...</td>\n",
       "      <td>NaN</td>\n",
       "      <td>NaN</td>\n",
       "      <td>NaN</td>\n",
       "      <td>NaN</td>\n",
       "      <td>NaN</td>\n",
       "      <td>NaN</td>\n",
       "      <td>NaN</td>\n",
       "      <td>NaN</td>\n",
       "      <td>NaN</td>\n",
       "      <td>NaN</td>\n",
       "    </tr>\n",
       "    <tr>\n",
       "      <th>max</th>\n",
       "      <td>4.000000</td>\n",
       "      <td>4.000000</td>\n",
       "      <td>4.000000</td>\n",
       "      <td>60.000000</td>\n",
       "      <td>29.000000</td>\n",
       "      <td>5.000000</td>\n",
       "      <td>1.0</td>\n",
       "      <td>5.000000</td>\n",
       "      <td>199990.000000</td>\n",
       "      <td>9.000000</td>\n",
       "      <td>...</td>\n",
       "      <td>NaN</td>\n",
       "      <td>NaN</td>\n",
       "      <td>NaN</td>\n",
       "      <td>NaN</td>\n",
       "      <td>NaN</td>\n",
       "      <td>NaN</td>\n",
       "      <td>NaN</td>\n",
       "      <td>NaN</td>\n",
       "      <td>NaN</td>\n",
       "      <td>NaN</td>\n",
       "    </tr>\n",
       "  </tbody>\n",
       "</table>\n",
       "<p>8 rows × 44 columns</p>\n",
       "</div>"
      ],
      "text/plain": [
       "         employee_survey_data                                 general_data  \\\n",
       "      EnvironmentSatisfaction JobSatisfaction WorkLifeBalance          Age   \n",
       "count             4385.000000     4390.000000     4372.000000  4410.000000   \n",
       "mean                 2.723603        2.728246        2.761436    36.923810   \n",
       "std                  1.092756        1.101253        0.706245     9.133301   \n",
       "min                  1.000000        1.000000        1.000000    18.000000   \n",
       "25%                  2.000000        2.000000        2.000000    30.000000   \n",
       "50%                  3.000000        3.000000        3.000000    36.000000   \n",
       "75%                  4.000000        4.000000        3.000000    43.000000   \n",
       "max                  4.000000        4.000000        4.000000    60.000000   \n",
       "\n",
       "                                                                               \\\n",
       "      DistanceFromHome    Education EmployeeCount     JobLevel  MonthlyIncome   \n",
       "count      4410.000000  4410.000000        4410.0  4410.000000    4410.000000   \n",
       "mean          9.192517     2.912925           1.0     2.063946   65029.312925   \n",
       "std           8.105026     1.023933           0.0     1.106689   47068.888559   \n",
       "min           1.000000     1.000000           1.0     1.000000   10090.000000   \n",
       "25%           2.000000     2.000000           1.0     1.000000   29110.000000   \n",
       "50%           7.000000     3.000000           1.0     2.000000   49190.000000   \n",
       "75%          14.000000     4.000000           1.0     3.000000   83800.000000   \n",
       "max          29.000000     5.000000           1.0     5.000000  199990.000000   \n",
       "\n",
       "                          ...   out_time                                   \\\n",
       "      NumCompaniesWorked  ... 2015-01-26 2015-03-05 2015-05-01 2015-07-17   \n",
       "count        4391.000000  ...        0.0        0.0        0.0        0.0   \n",
       "mean            2.694830  ...        NaN        NaN        NaN        NaN   \n",
       "std             2.498887  ...        NaN        NaN        NaN        NaN   \n",
       "min             0.000000  ...        NaN        NaN        NaN        NaN   \n",
       "25%             1.000000  ...        NaN        NaN        NaN        NaN   \n",
       "50%             2.000000  ...        NaN        NaN        NaN        NaN   \n",
       "75%             4.000000  ...        NaN        NaN        NaN        NaN   \n",
       "max             9.000000  ...        NaN        NaN        NaN        NaN   \n",
       "\n",
       "                                                                         \n",
       "      2015-09-17 2015-10-02 2015-11-09 2015-11-10 2015-11-11 2015-12-25  \n",
       "count        0.0        0.0        0.0        0.0        0.0        0.0  \n",
       "mean         NaN        NaN        NaN        NaN        NaN        NaN  \n",
       "std          NaN        NaN        NaN        NaN        NaN        NaN  \n",
       "min          NaN        NaN        NaN        NaN        NaN        NaN  \n",
       "25%          NaN        NaN        NaN        NaN        NaN        NaN  \n",
       "50%          NaN        NaN        NaN        NaN        NaN        NaN  \n",
       "75%          NaN        NaN        NaN        NaN        NaN        NaN  \n",
       "max          NaN        NaN        NaN        NaN        NaN        NaN  \n",
       "\n",
       "[8 rows x 44 columns]"
      ]
     },
     "execution_count": 5,
     "metadata": {},
     "output_type": "execute_result"
    }
   ],
   "source": [
    "general_df.describe()"
   ]
  },
  {
   "cell_type": "markdown",
   "id": "30463000",
   "metadata": {},
   "source": [
    "#### On encode les colonnes non-numériques\n",
    "\n",
    "On encode les chaînes de caractères récurrentes en associant chaque chaîne à un nombre.\n",
    "On encode les dates en les convertissant en secondes."
   ]
  },
  {
   "cell_type": "code",
   "execution_count": 6,
   "id": "b33da911",
   "metadata": {},
   "outputs": [],
   "source": [
    "from sklearn.preprocessing import OrdinalEncoder\n",
    "from pandas.api.types import is_numeric_dtype\n",
    "\n",
    "def encodeNonNumericColumns(df, table_name):\n",
    "    table = data[table_name]\n",
    "    fields_encoded = {}\n",
    "\n",
    "    for column in table.columns:\n",
    "        if not is_numeric_dtype(table[column]):\n",
    "            field = table[[column]]\n",
    "            ordinal_encoder = OrdinalEncoder()\n",
    "            field_encoded = ordinal_encoder.fit_transform(field)\n",
    "            fields_encoded[column] = field_encoded\n",
    "\n",
    "    for key in fields_encoded.keys():\n",
    "        df.loc[:, (table_name, key)] = fields_encoded[key]"
   ]
  },
  {
   "cell_type": "code",
   "execution_count": 7,
   "id": "e1229c0d",
   "metadata": {},
   "outputs": [],
   "source": [
    "# transforme dates dans df['out_time'] et df['in_time'] en numérique\n",
    "from datetime import datetime\n",
    "\n",
    "def transformDateToNumeric(df, table_name):\n",
    "    table = df[table_name]\n",
    "    for column in table.columns:\n",
    "        if not is_numeric_dtype(table[column]):\n",
    "            df.loc[:, (table_name, column)] = df.loc[:, (table_name, column)].apply(lambda x: datetime.strptime(x, '%Y-%m-%d %H:%M:%S').timestamp() if not pd.isna(x) else x)\n",
    "\n",
    "# remmetre les colonnes date numérique en date\n",
    "def transformNumericToDate(df, table_name):\n",
    "    table = df[table_name]\n",
    "    for column in table.columns:\n",
    "        if is_numeric_dtype(table[column]):\n",
    "            df.loc[:, (table_name, column)] = df.loc[:, (table_name, column)].apply(lambda x: datetime.fromtimestamp(x) if not pd.isna(x) else x)"
   ]
  },
  {
   "cell_type": "code",
   "execution_count": 8,
   "id": "9db7c1a2",
   "metadata": {},
   "outputs": [],
   "source": [
    "def fillEmptyValues(df, table_name):\n",
    "    table = df[table_name]\n",
    "    for column in table.columns:\n",
    "        if not is_numeric_dtype(table[column]):\n",
    "            median = 0.0\n",
    "        else:\n",
    "            median = table[column].median()\n",
    "        df.loc[:, (table_name, column)].fillna(median, inplace=True)"
   ]
  },
  {
   "cell_type": "code",
   "execution_count": 9,
   "id": "c7dd2b65",
   "metadata": {},
   "outputs": [],
   "source": [
    "def checkIfTableIsFull(df, table_name):\n",
    "    table = df[table_name]\n",
    "    res = True\n",
    "    for column in table.columns:\n",
    "        if df.loc[:, (table_name, column)].isnull().any():\n",
    "            res = False\n",
    "    print(res)"
   ]
  },
  {
   "cell_type": "code",
   "execution_count": 10,
   "id": "46ef8e90",
   "metadata": {
    "scrolled": false
   },
   "outputs": [],
   "source": [
    "df_non_ethical = general_df.copy()"
   ]
  },
  {
   "cell_type": "code",
   "execution_count": 11,
   "id": "05dbbbd2",
   "metadata": {},
   "outputs": [],
   "source": [
    "encodeNonNumericColumns(df_non_ethical, \"general_data\")\n",
    "\n",
    "fillEmptyValues(df_non_ethical, \"general_data\")\n",
    "fillEmptyValues(df_non_ethical, \"employee_survey_data\")\n",
    "fillEmptyValues(df_non_ethical, \"manager_survey_data\")\n",
    "\n",
    "transformDateToNumeric(df_non_ethical, \"out_time\")\n",
    "transformDateToNumeric(df_non_ethical, \"in_time\")\n",
    "fillEmptyValues(df_non_ethical, \"out_time\")\n",
    "fillEmptyValues(df_non_ethical, \"in_time\")"
   ]
  },
  {
   "cell_type": "code",
   "execution_count": 12,
   "id": "8b1a81b3",
   "metadata": {},
   "outputs": [
    {
     "data": {
      "text/html": [
       "<div>\n",
       "<style scoped>\n",
       "    .dataframe tbody tr th:only-of-type {\n",
       "        vertical-align: middle;\n",
       "    }\n",
       "\n",
       "    .dataframe tbody tr th {\n",
       "        vertical-align: top;\n",
       "    }\n",
       "\n",
       "    .dataframe thead tr th {\n",
       "        text-align: left;\n",
       "    }\n",
       "\n",
       "    .dataframe thead tr:last-of-type th {\n",
       "        text-align: right;\n",
       "    }\n",
       "</style>\n",
       "<table border=\"1\" class=\"dataframe\">\n",
       "  <thead>\n",
       "    <tr>\n",
       "      <th></th>\n",
       "      <th colspan=\"3\" halign=\"left\">employee_survey_data</th>\n",
       "      <th colspan=\"7\" halign=\"left\">general_data</th>\n",
       "      <th>...</th>\n",
       "      <th colspan=\"10\" halign=\"left\">out_time</th>\n",
       "    </tr>\n",
       "    <tr>\n",
       "      <th></th>\n",
       "      <th>EnvironmentSatisfaction</th>\n",
       "      <th>JobSatisfaction</th>\n",
       "      <th>WorkLifeBalance</th>\n",
       "      <th>Age</th>\n",
       "      <th>Attrition</th>\n",
       "      <th>BusinessTravel</th>\n",
       "      <th>Department</th>\n",
       "      <th>DistanceFromHome</th>\n",
       "      <th>Education</th>\n",
       "      <th>EducationField</th>\n",
       "      <th>...</th>\n",
       "      <th>2015-12-18</th>\n",
       "      <th>2015-12-21</th>\n",
       "      <th>2015-12-22</th>\n",
       "      <th>2015-12-23</th>\n",
       "      <th>2015-12-24</th>\n",
       "      <th>2015-12-25</th>\n",
       "      <th>2015-12-28</th>\n",
       "      <th>2015-12-29</th>\n",
       "      <th>2015-12-30</th>\n",
       "      <th>2015-12-31</th>\n",
       "    </tr>\n",
       "    <tr>\n",
       "      <th>EmployeeID</th>\n",
       "      <th></th>\n",
       "      <th></th>\n",
       "      <th></th>\n",
       "      <th></th>\n",
       "      <th></th>\n",
       "      <th></th>\n",
       "      <th></th>\n",
       "      <th></th>\n",
       "      <th></th>\n",
       "      <th></th>\n",
       "      <th></th>\n",
       "      <th></th>\n",
       "      <th></th>\n",
       "      <th></th>\n",
       "      <th></th>\n",
       "      <th></th>\n",
       "      <th></th>\n",
       "      <th></th>\n",
       "      <th></th>\n",
       "      <th></th>\n",
       "      <th></th>\n",
       "    </tr>\n",
       "  </thead>\n",
       "  <tbody>\n",
       "    <tr>\n",
       "      <th>1</th>\n",
       "      <td>3.0</td>\n",
       "      <td>4.0</td>\n",
       "      <td>2.0</td>\n",
       "      <td>51</td>\n",
       "      <td>0.0</td>\n",
       "      <td>2.0</td>\n",
       "      <td>2.0</td>\n",
       "      <td>6</td>\n",
       "      <td>2</td>\n",
       "      <td>1.0</td>\n",
       "      <td>...</td>\n",
       "      <td>1.450456e+09</td>\n",
       "      <td>1.450715e+09</td>\n",
       "      <td>1.450802e+09</td>\n",
       "      <td>1.450885e+09</td>\n",
       "      <td>1.450976e+09</td>\n",
       "      <td>NaN</td>\n",
       "      <td>1.451322e+09</td>\n",
       "      <td>1.451406e+09</td>\n",
       "      <td>1.451494e+09</td>\n",
       "      <td>1.451579e+09</td>\n",
       "    </tr>\n",
       "    <tr>\n",
       "      <th>2</th>\n",
       "      <td>3.0</td>\n",
       "      <td>2.0</td>\n",
       "      <td>4.0</td>\n",
       "      <td>31</td>\n",
       "      <td>1.0</td>\n",
       "      <td>1.0</td>\n",
       "      <td>1.0</td>\n",
       "      <td>10</td>\n",
       "      <td>1</td>\n",
       "      <td>1.0</td>\n",
       "      <td>...</td>\n",
       "      <td>1.450460e+09</td>\n",
       "      <td>1.450716e+09</td>\n",
       "      <td>1.450805e+09</td>\n",
       "      <td>1.450889e+09</td>\n",
       "      <td>1.450974e+09</td>\n",
       "      <td>NaN</td>\n",
       "      <td>1.451319e+09</td>\n",
       "      <td>1.451408e+09</td>\n",
       "      <td>1.451497e+09</td>\n",
       "      <td>1.451580e+09</td>\n",
       "    </tr>\n",
       "    <tr>\n",
       "      <th>3</th>\n",
       "      <td>2.0</td>\n",
       "      <td>2.0</td>\n",
       "      <td>1.0</td>\n",
       "      <td>32</td>\n",
       "      <td>0.0</td>\n",
       "      <td>1.0</td>\n",
       "      <td>1.0</td>\n",
       "      <td>17</td>\n",
       "      <td>4</td>\n",
       "      <td>4.0</td>\n",
       "      <td>...</td>\n",
       "      <td>1.450455e+09</td>\n",
       "      <td>1.450715e+09</td>\n",
       "      <td>1.450798e+09</td>\n",
       "      <td>1.450886e+09</td>\n",
       "      <td>1.450973e+09</td>\n",
       "      <td>NaN</td>\n",
       "      <td>1.451317e+09</td>\n",
       "      <td>1.451405e+09</td>\n",
       "      <td>1.451492e+09</td>\n",
       "      <td>1.451579e+09</td>\n",
       "    </tr>\n",
       "    <tr>\n",
       "      <th>4</th>\n",
       "      <td>4.0</td>\n",
       "      <td>4.0</td>\n",
       "      <td>3.0</td>\n",
       "      <td>38</td>\n",
       "      <td>0.0</td>\n",
       "      <td>0.0</td>\n",
       "      <td>1.0</td>\n",
       "      <td>2</td>\n",
       "      <td>5</td>\n",
       "      <td>1.0</td>\n",
       "      <td>...</td>\n",
       "      <td>1.450458e+09</td>\n",
       "      <td>1.450713e+09</td>\n",
       "      <td>1.450801e+09</td>\n",
       "      <td>1.450889e+09</td>\n",
       "      <td>1.450972e+09</td>\n",
       "      <td>NaN</td>\n",
       "      <td>1.451320e+09</td>\n",
       "      <td>1.451405e+09</td>\n",
       "      <td>1.451494e+09</td>\n",
       "      <td>1.451578e+09</td>\n",
       "    </tr>\n",
       "    <tr>\n",
       "      <th>5</th>\n",
       "      <td>4.0</td>\n",
       "      <td>1.0</td>\n",
       "      <td>3.0</td>\n",
       "      <td>32</td>\n",
       "      <td>0.0</td>\n",
       "      <td>2.0</td>\n",
       "      <td>1.0</td>\n",
       "      <td>10</td>\n",
       "      <td>1</td>\n",
       "      <td>3.0</td>\n",
       "      <td>...</td>\n",
       "      <td>1.450458e+09</td>\n",
       "      <td>1.450716e+09</td>\n",
       "      <td>1.450804e+09</td>\n",
       "      <td>1.450890e+09</td>\n",
       "      <td>1.450976e+09</td>\n",
       "      <td>NaN</td>\n",
       "      <td>1.451321e+09</td>\n",
       "      <td>1.451411e+09</td>\n",
       "      <td>1.451492e+09</td>\n",
       "      <td>1.451580e+09</td>\n",
       "    </tr>\n",
       "  </tbody>\n",
       "</table>\n",
       "<p>5 rows × 550 columns</p>\n",
       "</div>"
      ],
      "text/plain": [
       "              employee_survey_data                                  \\\n",
       "           EnvironmentSatisfaction JobSatisfaction WorkLifeBalance   \n",
       "EmployeeID                                                           \n",
       "1                              3.0             4.0             2.0   \n",
       "2                              3.0             2.0             4.0   \n",
       "3                              2.0             2.0             1.0   \n",
       "4                              4.0             4.0             3.0   \n",
       "5                              4.0             1.0             3.0   \n",
       "\n",
       "           general_data                                                       \\\n",
       "                    Age Attrition BusinessTravel Department DistanceFromHome   \n",
       "EmployeeID                                                                     \n",
       "1                    51       0.0            2.0        2.0                6   \n",
       "2                    31       1.0            1.0        1.0               10   \n",
       "3                    32       0.0            1.0        1.0               17   \n",
       "4                    38       0.0            0.0        1.0                2   \n",
       "5                    32       0.0            2.0        1.0               10   \n",
       "\n",
       "                                     ...      out_time                \\\n",
       "           Education EducationField  ...    2015-12-18    2015-12-21   \n",
       "EmployeeID                           ...                               \n",
       "1                  2            1.0  ...  1.450456e+09  1.450715e+09   \n",
       "2                  1            1.0  ...  1.450460e+09  1.450716e+09   \n",
       "3                  4            4.0  ...  1.450455e+09  1.450715e+09   \n",
       "4                  5            1.0  ...  1.450458e+09  1.450713e+09   \n",
       "5                  1            3.0  ...  1.450458e+09  1.450716e+09   \n",
       "\n",
       "                                                                               \\\n",
       "              2015-12-22    2015-12-23    2015-12-24 2015-12-25    2015-12-28   \n",
       "EmployeeID                                                                      \n",
       "1           1.450802e+09  1.450885e+09  1.450976e+09        NaN  1.451322e+09   \n",
       "2           1.450805e+09  1.450889e+09  1.450974e+09        NaN  1.451319e+09   \n",
       "3           1.450798e+09  1.450886e+09  1.450973e+09        NaN  1.451317e+09   \n",
       "4           1.450801e+09  1.450889e+09  1.450972e+09        NaN  1.451320e+09   \n",
       "5           1.450804e+09  1.450890e+09  1.450976e+09        NaN  1.451321e+09   \n",
       "\n",
       "                                                      \n",
       "              2015-12-29    2015-12-30    2015-12-31  \n",
       "EmployeeID                                            \n",
       "1           1.451406e+09  1.451494e+09  1.451579e+09  \n",
       "2           1.451408e+09  1.451497e+09  1.451580e+09  \n",
       "3           1.451405e+09  1.451492e+09  1.451579e+09  \n",
       "4           1.451405e+09  1.451494e+09  1.451578e+09  \n",
       "5           1.451411e+09  1.451492e+09  1.451580e+09  \n",
       "\n",
       "[5 rows x 550 columns]"
      ]
     },
     "execution_count": 12,
     "metadata": {},
     "output_type": "execute_result"
    }
   ],
   "source": [
    "df_non_ethical.head()"
   ]
  },
  {
   "cell_type": "markdown",
   "id": "d4f05cff",
   "metadata": {},
   "source": [
    "#### On supprime des colonnes jugées inutiles pour créer un nouveau Dataframe plus éthique"
   ]
  },
  {
   "cell_type": "code",
   "execution_count": 13,
   "id": "ca2ab85c",
   "metadata": {},
   "outputs": [],
   "source": [
    "def dropColumns(df, table_name, columns_to_drop=\"\"):\n",
    "    table = df[table_name]\n",
    "    if columns_to_drop == \"\":\n",
    "        for column in table.columns:\n",
    "            if df.loc[:, (table_name, column)].isnull().any():\n",
    "                df.drop((table_name, column), axis=1, inplace=True)\n",
    "    else:\n",
    "        for column in columns_to_drop:\n",
    "            df.drop((table_name, column), axis=1, inplace=True)"
   ]
  },
  {
   "cell_type": "code",
   "execution_count": 14,
   "id": "a9811317",
   "metadata": {
    "scrolled": false
   },
   "outputs": [
    {
     "data": {
      "text/html": [
       "<div>\n",
       "<style scoped>\n",
       "    .dataframe tbody tr th:only-of-type {\n",
       "        vertical-align: middle;\n",
       "    }\n",
       "\n",
       "    .dataframe tbody tr th {\n",
       "        vertical-align: top;\n",
       "    }\n",
       "\n",
       "    .dataframe thead tr th {\n",
       "        text-align: left;\n",
       "    }\n",
       "\n",
       "    .dataframe thead tr:last-of-type th {\n",
       "        text-align: right;\n",
       "    }\n",
       "</style>\n",
       "<table border=\"1\" class=\"dataframe\">\n",
       "  <thead>\n",
       "    <tr>\n",
       "      <th></th>\n",
       "      <th colspan=\"3\" halign=\"left\">employee_survey_data</th>\n",
       "      <th colspan=\"7\" halign=\"left\">general_data</th>\n",
       "      <th>...</th>\n",
       "      <th colspan=\"10\" halign=\"left\">out_time</th>\n",
       "    </tr>\n",
       "    <tr>\n",
       "      <th></th>\n",
       "      <th>EnvironmentSatisfaction</th>\n",
       "      <th>JobSatisfaction</th>\n",
       "      <th>WorkLifeBalance</th>\n",
       "      <th>Age</th>\n",
       "      <th>Attrition</th>\n",
       "      <th>BusinessTravel</th>\n",
       "      <th>Department</th>\n",
       "      <th>DistanceFromHome</th>\n",
       "      <th>Education</th>\n",
       "      <th>EducationField</th>\n",
       "      <th>...</th>\n",
       "      <th>2015-12-17</th>\n",
       "      <th>2015-12-18</th>\n",
       "      <th>2015-12-21</th>\n",
       "      <th>2015-12-22</th>\n",
       "      <th>2015-12-23</th>\n",
       "      <th>2015-12-24</th>\n",
       "      <th>2015-12-28</th>\n",
       "      <th>2015-12-29</th>\n",
       "      <th>2015-12-30</th>\n",
       "      <th>2015-12-31</th>\n",
       "    </tr>\n",
       "    <tr>\n",
       "      <th>EmployeeID</th>\n",
       "      <th></th>\n",
       "      <th></th>\n",
       "      <th></th>\n",
       "      <th></th>\n",
       "      <th></th>\n",
       "      <th></th>\n",
       "      <th></th>\n",
       "      <th></th>\n",
       "      <th></th>\n",
       "      <th></th>\n",
       "      <th></th>\n",
       "      <th></th>\n",
       "      <th></th>\n",
       "      <th></th>\n",
       "      <th></th>\n",
       "      <th></th>\n",
       "      <th></th>\n",
       "      <th></th>\n",
       "      <th></th>\n",
       "      <th></th>\n",
       "      <th></th>\n",
       "    </tr>\n",
       "  </thead>\n",
       "  <tbody>\n",
       "    <tr>\n",
       "      <th>1</th>\n",
       "      <td>3.0</td>\n",
       "      <td>4.0</td>\n",
       "      <td>2.0</td>\n",
       "      <td>51</td>\n",
       "      <td>0.0</td>\n",
       "      <td>2.0</td>\n",
       "      <td>2.0</td>\n",
       "      <td>6</td>\n",
       "      <td>2</td>\n",
       "      <td>1.0</td>\n",
       "      <td>...</td>\n",
       "      <td>1.450369e+09</td>\n",
       "      <td>1.450456e+09</td>\n",
       "      <td>1.450715e+09</td>\n",
       "      <td>1.450802e+09</td>\n",
       "      <td>1.450885e+09</td>\n",
       "      <td>1.450976e+09</td>\n",
       "      <td>1.451322e+09</td>\n",
       "      <td>1.451406e+09</td>\n",
       "      <td>1.451494e+09</td>\n",
       "      <td>1.451579e+09</td>\n",
       "    </tr>\n",
       "    <tr>\n",
       "      <th>2</th>\n",
       "      <td>3.0</td>\n",
       "      <td>2.0</td>\n",
       "      <td>4.0</td>\n",
       "      <td>31</td>\n",
       "      <td>1.0</td>\n",
       "      <td>1.0</td>\n",
       "      <td>1.0</td>\n",
       "      <td>10</td>\n",
       "      <td>1</td>\n",
       "      <td>1.0</td>\n",
       "      <td>...</td>\n",
       "      <td>1.450369e+09</td>\n",
       "      <td>1.450460e+09</td>\n",
       "      <td>1.450716e+09</td>\n",
       "      <td>1.450805e+09</td>\n",
       "      <td>1.450889e+09</td>\n",
       "      <td>1.450974e+09</td>\n",
       "      <td>1.451319e+09</td>\n",
       "      <td>1.451408e+09</td>\n",
       "      <td>1.451497e+09</td>\n",
       "      <td>1.451580e+09</td>\n",
       "    </tr>\n",
       "    <tr>\n",
       "      <th>3</th>\n",
       "      <td>2.0</td>\n",
       "      <td>2.0</td>\n",
       "      <td>1.0</td>\n",
       "      <td>32</td>\n",
       "      <td>0.0</td>\n",
       "      <td>1.0</td>\n",
       "      <td>1.0</td>\n",
       "      <td>17</td>\n",
       "      <td>4</td>\n",
       "      <td>4.0</td>\n",
       "      <td>...</td>\n",
       "      <td>1.450368e+09</td>\n",
       "      <td>1.450455e+09</td>\n",
       "      <td>1.450715e+09</td>\n",
       "      <td>1.450798e+09</td>\n",
       "      <td>1.450886e+09</td>\n",
       "      <td>1.450973e+09</td>\n",
       "      <td>1.451317e+09</td>\n",
       "      <td>1.451405e+09</td>\n",
       "      <td>1.451492e+09</td>\n",
       "      <td>1.451579e+09</td>\n",
       "    </tr>\n",
       "    <tr>\n",
       "      <th>4</th>\n",
       "      <td>4.0</td>\n",
       "      <td>4.0</td>\n",
       "      <td>3.0</td>\n",
       "      <td>38</td>\n",
       "      <td>0.0</td>\n",
       "      <td>0.0</td>\n",
       "      <td>1.0</td>\n",
       "      <td>2</td>\n",
       "      <td>5</td>\n",
       "      <td>1.0</td>\n",
       "      <td>...</td>\n",
       "      <td>1.450369e+09</td>\n",
       "      <td>1.450458e+09</td>\n",
       "      <td>1.450713e+09</td>\n",
       "      <td>1.450801e+09</td>\n",
       "      <td>1.450889e+09</td>\n",
       "      <td>1.450972e+09</td>\n",
       "      <td>1.451320e+09</td>\n",
       "      <td>1.451405e+09</td>\n",
       "      <td>1.451494e+09</td>\n",
       "      <td>1.451578e+09</td>\n",
       "    </tr>\n",
       "    <tr>\n",
       "      <th>5</th>\n",
       "      <td>4.0</td>\n",
       "      <td>1.0</td>\n",
       "      <td>3.0</td>\n",
       "      <td>32</td>\n",
       "      <td>0.0</td>\n",
       "      <td>2.0</td>\n",
       "      <td>1.0</td>\n",
       "      <td>10</td>\n",
       "      <td>1</td>\n",
       "      <td>3.0</td>\n",
       "      <td>...</td>\n",
       "      <td>1.450372e+09</td>\n",
       "      <td>1.450458e+09</td>\n",
       "      <td>1.450716e+09</td>\n",
       "      <td>1.450804e+09</td>\n",
       "      <td>1.450890e+09</td>\n",
       "      <td>1.450976e+09</td>\n",
       "      <td>1.451321e+09</td>\n",
       "      <td>1.451411e+09</td>\n",
       "      <td>1.451492e+09</td>\n",
       "      <td>1.451580e+09</td>\n",
       "    </tr>\n",
       "  </tbody>\n",
       "</table>\n",
       "<p>5 rows × 520 columns</p>\n",
       "</div>"
      ],
      "text/plain": [
       "              employee_survey_data                                  \\\n",
       "           EnvironmentSatisfaction JobSatisfaction WorkLifeBalance   \n",
       "EmployeeID                                                           \n",
       "1                              3.0             4.0             2.0   \n",
       "2                              3.0             2.0             4.0   \n",
       "3                              2.0             2.0             1.0   \n",
       "4                              4.0             4.0             3.0   \n",
       "5                              4.0             1.0             3.0   \n",
       "\n",
       "           general_data                                                       \\\n",
       "                    Age Attrition BusinessTravel Department DistanceFromHome   \n",
       "EmployeeID                                                                     \n",
       "1                    51       0.0            2.0        2.0                6   \n",
       "2                    31       1.0            1.0        1.0               10   \n",
       "3                    32       0.0            1.0        1.0               17   \n",
       "4                    38       0.0            0.0        1.0                2   \n",
       "5                    32       0.0            2.0        1.0               10   \n",
       "\n",
       "                                     ...      out_time                \\\n",
       "           Education EducationField  ...    2015-12-17    2015-12-18   \n",
       "EmployeeID                           ...                               \n",
       "1                  2            1.0  ...  1.450369e+09  1.450456e+09   \n",
       "2                  1            1.0  ...  1.450369e+09  1.450460e+09   \n",
       "3                  4            4.0  ...  1.450368e+09  1.450455e+09   \n",
       "4                  5            1.0  ...  1.450369e+09  1.450458e+09   \n",
       "5                  1            3.0  ...  1.450372e+09  1.450458e+09   \n",
       "\n",
       "                                                                    \\\n",
       "              2015-12-21    2015-12-22    2015-12-23    2015-12-24   \n",
       "EmployeeID                                                           \n",
       "1           1.450715e+09  1.450802e+09  1.450885e+09  1.450976e+09   \n",
       "2           1.450716e+09  1.450805e+09  1.450889e+09  1.450974e+09   \n",
       "3           1.450715e+09  1.450798e+09  1.450886e+09  1.450973e+09   \n",
       "4           1.450713e+09  1.450801e+09  1.450889e+09  1.450972e+09   \n",
       "5           1.450716e+09  1.450804e+09  1.450890e+09  1.450976e+09   \n",
       "\n",
       "                                                                    \n",
       "              2015-12-28    2015-12-29    2015-12-30    2015-12-31  \n",
       "EmployeeID                                                          \n",
       "1           1.451322e+09  1.451406e+09  1.451494e+09  1.451579e+09  \n",
       "2           1.451319e+09  1.451408e+09  1.451497e+09  1.451580e+09  \n",
       "3           1.451317e+09  1.451405e+09  1.451492e+09  1.451579e+09  \n",
       "4           1.451320e+09  1.451405e+09  1.451494e+09  1.451578e+09  \n",
       "5           1.451321e+09  1.451411e+09  1.451492e+09  1.451580e+09  \n",
       "\n",
       "[5 rows x 520 columns]"
      ]
     },
     "execution_count": 14,
     "metadata": {},
     "output_type": "execute_result"
    }
   ],
   "source": [
    "df_ethical = df_non_ethical.copy()\n",
    "\n",
    "columns_to_drop = [\n",
    "    \"MaritalStatus\",\n",
    "    \"Over18\",\n",
    "    \"StandardHours\",\n",
    "    \"StockOptionLevel\",\n",
    "    \"TrainingTimesLastYear\",\n",
    "    \"Gender\"\n",
    "]\n",
    "\n",
    "dropColumns(df_ethical, \"in_time\")\n",
    "dropColumns(df_ethical, \"out_time\")\n",
    "dropColumns(df_ethical, \"general_data\", columns_to_drop)\n",
    "\n",
    "df_ethical.head()"
   ]
  },
  {
   "cell_type": "markdown",
   "id": "6d0dbfdb",
   "metadata": {},
   "source": [
    "#### Visualisation des données"
   ]
  },
  {
   "cell_type": "code",
   "execution_count": 17,
   "id": "64f8da21",
   "metadata": {},
   "outputs": [
    {
     "data": {
      "image/png": "[encoded data removed]",
      "text/plain": [
       "<Figure size 1440x1080 with 4 Axes>"
      ]
     },
     "metadata": {
      "needs_background": "light"
     },
     "output_type": "display_data"
    },
    {
     "data": {
      "image/png": "[encoded data removed]",
      "text/plain": [
       "<Figure size 1440x1080 with 16 Axes>"
      ]
     },
     "metadata": {
      "needs_background": "light"
     },
     "output_type": "display_data"
    },
    {
     "data": {
      "image/png": "[encoded data removed]",
      "text/plain": [
       "<Figure size 1440x1080 with 12 Axes>"
      ]
     },
     "metadata": {
      "needs_background": "light"
     },
     "output_type": "display_data"
    },
    {
     "data": {
      "image/png": "[encoded data removed]",
      "text/plain": [
       "<Figure size 1440x1080 with 2 Axes>"
      ]
     },
     "metadata": {
      "needs_background": "light"
     },
     "output_type": "display_data"
    },
    {
     "data": {
      "image/png": "[encoded data removed]",
      "text/plain": [
       "<Figure size 1440x1080 with 12 Axes>"
      ]
     },
     "metadata": {
      "needs_background": "light"
     },
     "output_type": "display_data"
    }
   ],
   "source": [
    "for df_name in data.keys():\n",
    "        data[df_name].hist(bins=50, figsize=(20,15))\n",
    "plt.show()"
   ]
  },
  {
   "cell_type": "markdown",
   "id": "3319c215",
   "metadata": {},
   "source": [
    "#### On rajoute la colonne \"Attrition\" dans les 4 tables qui ne l'ont pas"
   ]
  },
  {
   "cell_type": "code",
   "execution_count": 19,
   "id": "8363787c",
   "metadata": {},
   "outputs": [],
   "source": [
    "import numpy as np\n",
    "\n",
    "for column in df_ethical:\n",
    "    if df_ethical[column].isnull().sum() == 4410:\n",
    "        df_ethical.drop(column, axis=1, inplace=True)\n"
   ]
  },
  {
   "cell_type": "code",
   "execution_count": 25,
   "id": "52bc04f9",
   "metadata": {},
   "outputs": [],
   "source": [
    "X = df_ethical[\"general_data\"].copy()\n",
    "comparison_table = pd.DataFrame()"
   ]
  },
  {
   "cell_type": "code",
   "execution_count": 26,
   "id": "d9468f67",
   "metadata": {},
   "outputs": [],
   "source": [
    "def createAttritionPerAttribute(table, table_from, attribute_name):\n",
    "    unique_items = set(table_from[attribute_name])\n",
    "    attrition_per_attribute = dict()\n",
    "    column = table_from[attribute_name].tolist()\n",
    "    \n",
    "    for item in unique_items:\n",
    "        attrition_per_attribute[item] = 0\n",
    "    \n",
    "    for item in unique_items:\n",
    "        for i in range(len(column)):\n",
    "            if column[i] == item:\n",
    "                attrition_per_attribute[column[i]] += 1\n",
    "    \n",
    "    zzz = []\n",
    "    \n",
    "    for row in table_from[attribute_name]:\n",
    "        zzz.append(attrition_per_attribute[row])\n",
    "    \n",
    "    table[f\"AttritionPer{attribute_name}\"] = zzz"
   ]
  },
  {
   "cell_type": "code",
   "execution_count": 27,
   "id": "6721ddbc",
   "metadata": {},
   "outputs": [
    {
     "name": "stdout",
     "output_type": "stream",
     "text": [
      "            Age  Attrition  BusinessTravel  Department  DistanceFromHome  \\\n",
      "EmployeeID                                                                 \n",
      "1            51        0.0             2.0         2.0                 6   \n",
      "2            31        1.0             1.0         1.0                10   \n",
      "3            32        0.0             1.0         1.0                17   \n",
      "4            38        0.0             0.0         1.0                 2   \n",
      "5            32        0.0             2.0         1.0                10   \n",
      "\n",
      "            Education  EducationField  EmployeeCount  JobLevel  JobRole  \\\n",
      "EmployeeID                                                                \n",
      "1                   2             1.0              1         1      0.0   \n",
      "2                   1             1.0              1         1      6.0   \n",
      "3                   4             4.0              1         4      7.0   \n",
      "4                   5             1.0              1         3      1.0   \n",
      "5                   1             3.0              1         1      7.0   \n",
      "\n",
      "            MonthlyIncome  NumCompaniesWorked  PercentSalaryHike  \\\n",
      "EmployeeID                                                         \n",
      "1                  131160                 1.0                 11   \n",
      "2                   41890                 0.0                 23   \n",
      "3                  193280                 1.0                 15   \n",
      "4                   83210                 3.0                 11   \n",
      "5                   23420                 4.0                 12   \n",
      "\n",
      "            TotalWorkingYears  YearsAtCompany  YearsSinceLastPromotion  \\\n",
      "EmployeeID                                                               \n",
      "1                         1.0               1                        0   \n",
      "2                         6.0               5                        1   \n",
      "3                         5.0               5                        0   \n",
      "4                        13.0               8                        7   \n",
      "5                         9.0               6                        0   \n",
      "\n",
      "            YearsWithCurrManager  \n",
      "EmployeeID                        \n",
      "1                              0  \n",
      "2                              4  \n",
      "3                              3  \n",
      "4                              5  \n",
      "5                              4  \n",
      "   AttritionPerAge  AttritionPerDistanceFromHome  AttritionPerJobLevel  \\\n",
      "0               57                           177                  1629   \n",
      "1              207                           258                  1629   \n",
      "2              183                            60                   318   \n",
      "3              174                           633                   654   \n",
      "4              183                           258                  1629   \n",
      "\n",
      "   AttritionPerJobRole  AttritionPerMonthlyIncome  AttritionPerYearsAtCompany  \n",
      "0                  393                          3                         513  \n",
      "1                  876                          3                         588  \n",
      "2                  978                          3                         588  \n",
      "3                  156                          3                         240  \n",
      "4                  978                         12                         228  \n"
     ]
    }
   ],
   "source": [
    "attributes_to_compare = [\"Age\", \"DistanceFromHome\", \"JobLevel\", \"JobRole\", \"MonthlyIncome\", \"YearsAtCompany\"]\n",
    "\n",
    "for attribute in attributes_to_compare:\n",
    "    createAttritionPerAttribute(comparison_table, X, attribute)\n",
    "\n",
    "print(X.head())\n",
    "print(comparison_table.head())"
   ]
  },
  {
   "cell_type": "code",
   "execution_count": 30,
   "id": "d7425bde",
   "metadata": {},
   "outputs": [],
   "source": [
    "from sklearn.cluster import AgglomerativeClustering\n",
    "\n",
    "def plotData(table, origin_table):\n",
    "    for col_name in table:\n",
    "        if \"AttritionPer\" in col_name:\n",
    "            print(col_name)\n",
    "            original_col_name = col_name.split('Per')[-1]\n",
    "\n",
    "            if len(set(origin_table[original_col_name])) < 10:\n",
    "                data = dict()\n",
    "                for i in range(len(list(origin_table[original_col_name]))):\n",
    "                    if list(origin_table[original_col_name])[i] not in data.keys():\n",
    "                        data[list(origin_table[original_col_name])[i]] = list(table[col_name])[i]\n",
    "\n",
    "                data = dict(sorted(data.items()))\n",
    "                names = list(data.keys())\n",
    "                values = list(data.values())\n",
    "                plt.bar(range(len(data)), values, tick_label=names, width=0.8)\n",
    "                plt.show()\n",
    "            else:\n",
    "                cluster = AgglomerativeClustering(n_clusters=2, affinity='euclidean', linkage='ward')\n",
    "                cluster.fit_predict(table)\n",
    "                plt.figure(figsize=(10, 7))\n",
    "                plt.scatter(origin_table[col_name.split('Per')[-1]],table[col_name], cmap='rainbow')\n",
    "                plt.show()"
   ]
  },
  {
   "cell_type": "code",
   "execution_count": 31,
   "id": "523943b1",
   "metadata": {},
   "outputs": [
    {
     "name": "stdout",
     "output_type": "stream",
     "text": [
      "AttritionPerAge\n"
     ]
    },
    {
     "data": {
      "image/png": "[encoded data removed]",
      "text/plain": [
       "<Figure size 720x504 with 1 Axes>"
      ]
     },
     "metadata": {
      "needs_background": "light"
     },
     "output_type": "display_data"
    },
    {
     "name": "stdout",
     "output_type": "stream",
     "text": [
      "AttritionPerDistanceFromHome\n"
     ]
    },
    {
     "data": {
      "image/png": "[encoded data removed]",
      "text/plain": [
       "<Figure size 720x504 with 1 Axes>"
      ]
     },
     "metadata": {
      "needs_background": "light"
     },
     "output_type": "display_data"
    },
    {
     "name": "stdout",
     "output_type": "stream",
     "text": [
      "AttritionPerJobLevel\n"
     ]
    },
    {
     "data": {
      "image/png": "[encoded data removed]",
      "text/plain": [
       "<Figure size 432x288 with 1 Axes>"
      ]
     },
     "metadata": {
      "needs_background": "light"
     },
     "output_type": "display_data"
    },
    {
     "name": "stdout",
     "output_type": "stream",
     "text": [
      "AttritionPerJobRole\n"
     ]
    },
    {
     "data": {
      "image/png": "[encoded data removed]",
      "text/plain": [
       "<Figure size 432x288 with 1 Axes>"
      ]
     },
     "metadata": {
      "needs_background": "light"
     },
     "output_type": "display_data"
    },
    {
     "name": "stdout",
     "output_type": "stream",
     "text": [
      "AttritionPerMonthlyIncome\n"
     ]
    },
    {
     "data": {
      "image/png": "[encoded data removed]",
      "text/plain": [
       "<Figure size 720x504 with 1 Axes>"
      ]
     },
     "metadata": {
      "needs_background": "light"
     },
     "output_type": "display_data"
    },
    {
     "name": "stdout",
     "output_type": "stream",
     "text": [
      "AttritionPerYearsAtCompany\n"
     ]
    },
    {
     "data": {
      "image/png": "[encoded data removed]",
      "text/plain": [
       "<Figure size 720x504 with 1 Axes>"
      ]
     },
     "metadata": {
      "needs_background": "light"
     },
     "output_type": "display_data"
    }
   ],
   "source": [
    "plotData(comparison_table, X)"
   ]
  },
  {
   "cell_type": "markdown",
   "id": "13ac6ffa",
   "metadata": {},
   "source": [
    "#### On met toutes les valeurs numériques à la même échelle"
   ]
  },
  {
   "cell_type": "code",
   "execution_count": 44,
   "id": "7c1cae7c",
   "metadata": {},
   "outputs": [],
   "source": [
    "from sklearn.cluster import AgglomerativeClustering\n",
    "\n",
    "def plotData(table, origin_table):\n",
    "    for col_name in table:\n",
    "        if \"AttritionPer\" in col_name:\n",
    "            print(col_name)\n",
    "            original_col_name = col_name.split('Per')[-1]\n",
    "\n",
    "            if len(set(origin_table[original_col_name])) < 10:\n",
    "                data = dict()\n",
    "                for i in range(len(list(origin_table[original_col_name]))):\n",
    "                    if list(origin_table[original_col_name])[i] not in data.keys():\n",
    "                        data[list(origin_table[original_col_name])[i]] = list(table[col_name])[i]\n",
    "\n",
    "                data = dict(sorted(data.items()))\n",
    "                names = list(data.keys())\n",
    "                values = [round((v * 100), 2) for v in data.values()]  # conversion en pourcentage\n",
    "                plt.bar(range(len(data)), values, tick_label=names, width=0.8)\n",
    "                plt.ylabel('Pourcentage')\n",
    "                plt.show()\n",
    "            else:\n",
    "                cluster = AgglomerativeClustering(n_clusters=2, affinity='euclidean', linkage='ward')\n",
    "                cluster.fit_predict(table)\n",
    "                plt.figure(figsize=(10, 7))\n",
    "                plt.scatter(origin_table[col_name.split('Per')[-1]],table[col_name], cmap='cool', c=cluster.labels_)\n",
    "                plt.colorbar()\n",
    "                plt.xlabel(original_col_name)\n",
    "                plt.ylabel('Pourcentage')\n",
    "                plt.show()"
   ]
  },
  {
   "cell_type": "code",
   "execution_count": 45,
   "id": "81e9df53",
   "metadata": {},
   "outputs": [
    {
     "name": "stdout",
     "output_type": "stream",
     "text": [
      "AttritionPerAge\n"
     ]
    },
    {
     "data": {
      "image/png": "[encoded data removed]",
      "text/plain": [
       "<Figure size 720x504 with 2 Axes>"
      ]
     },
     "metadata": {
      "needs_background": "light"
     },
     "output_type": "display_data"
    },
    {
     "name": "stdout",
     "output_type": "stream",
     "text": [
      "AttritionPerDistanceFromHome\n"
     ]
    },
    {
     "data": {
      "image/png": "[encoded data removed]",
      "text/plain": [
       "<Figure size 720x504 with 2 Axes>"
      ]
     },
     "metadata": {
      "needs_background": "light"
     },
     "output_type": "display_data"
    },
    {
     "name": "stdout",
     "output_type": "stream",
     "text": [
      "AttritionPerJobLevel\n"
     ]
    },
    {
     "data": {
      "image/png": "[encoded data removed]",
      "text/plain": [
       "<Figure size 432x288 with 1 Axes>"
      ]
     },
     "metadata": {
      "needs_background": "light"
     },
     "output_type": "display_data"
    },
    {
     "name": "stdout",
     "output_type": "stream",
     "text": [
      "AttritionPerJobRole\n"
     ]
    },
    {
     "data": {
      "image/png": "[encoded data removed]",
      "text/plain": [
       "<Figure size 432x288 with 1 Axes>"
      ]
     },
     "metadata": {
      "needs_background": "light"
     },
     "output_type": "display_data"
    },
    {
     "name": "stdout",
     "output_type": "stream",
     "text": [
      "AttritionPerMonthlyIncome\n"
     ]
    },
    {
     "data": {
      "image/png": "[encoded data removed]",
      "text/plain": [
       "<Figure size 720x504 with 2 Axes>"
      ]
     },
     "metadata": {
      "needs_background": "light"
     },
     "output_type": "display_data"
    },
    {
     "name": "stdout",
     "output_type": "stream",
     "text": [
      "AttritionPerYearsAtCompany\n"
     ]
    },
    {
     "data": {
      "image/png": "[encoded data removed]",
      "text/plain": [
       "<Figure size 720x504 with 2 Axes>"
      ]
     },
     "metadata": {
      "needs_background": "light"
     },
     "output_type": "display_data"
    }
   ],
   "source": [
    "plotData(comparison_table, X)"
   ]
  },
  {
   "cell_type": "markdown",
   "id": "8ef2613e",
   "metadata": {},
   "source": [
    "#### Pipeline"
   ]
  },
  {
   "cell_type": "code",
   "execution_count": null,
   "id": "62873955",
   "metadata": {},
   "outputs": [],
   "source": [
    "from sklearn.pipeline import Pipeline\n",
    "from sklearn.preprocessing import StandardScaler\n",
    "from sklearn.compose import ColumnTransformer\n",
    "\n",
    "test = df_ethical.copy()\n",
    "\n",
    "num_pipeline = Pipeline([\n",
    "        ('std_scaler', StandardScaler()),\n",
    "    ])\n",
    "\n",
    "test_tr = num_pipeline.fit_transform(test)\n",
    "\n",
    "num_attribs = list(housing_num)\n",
    "cat_attribs = [\"ocean_proximity\"]\n",
    "\n",
    "full_pipeline = ColumnTransformer([\n",
    "        (\"num\", num_pipeline, num_attribs),\n",
    "        (\"cat\", OneHotEncoder(), cat_attribs),\n",
    "    ])\n",
    "\n",
    "# housing_prepared = full_pipeline.fit_transform(housing)"
   ]
  },
  {
   "cell_type": "code",
   "execution_count": null,
   "id": "5015a711",
   "metadata": {},
   "outputs": [],
   "source": [
    "# mettre df en pipeline\n",
    "from sklearn.pipeline import Pipeline\n",
    "\n",
    "def createPipeline(df):\n",
    "    df_pipeline = df.copy()\n",
    "    for table_name in df_pipeline.columns.get_level_values(0).unique():\n",
    "        encodeNonNumericColumns(df_pipeline, table_name)\n",
    "        fillEmptyValues(df_pipeline, table_name)\n",
    "        dropColumns(df_pipeline, table_name)\n",
    "    return df_pipeline\n",
    "\n",
    "df_pipeline = createPipeline(df_ethical)\n",
    "df_pipeline.head()"
   ]
  },
  {
   "cell_type": "markdown",
   "id": "fb8bd139",
   "metadata": {},
   "source": [
    "DF éthique et non éthique >> comparer après, discuter : est-ce qu'on obtient les mêmes rés avec les 2 ?\n",
    "\n",
    "Normaliser les valeurs\n",
    "\n",
    "-> proposer solutions pour répondre aux besoins du client : comment faire pour réduire les départs ? les augmenter ?"
   ]
  },
  {
   "cell_type": "markdown",
   "id": "f2919f8c",
   "metadata": {},
   "source": [
    "##               <center>  <br /> <br />  2. Création du jeu de test </center>   "
   ]
  },
  {
   "cell_type": "code",
   "execution_count": null,
   "id": "b5606321",
   "metadata": {},
   "outputs": [],
   "source": [
    "from numpy import random\n",
    "\n",
    "def split_train_test(data, test_ratio):\n",
    "    shuffled_indices = random.permutation(len(data))\n",
    "    test_set_size = int(len(data) * test_ratio)\n",
    "    test_indices = shuffled_indices[:test_set_size]\n",
    "    train_indices = shuffled_indices[test_set_size:]\n",
    "    return data.iloc[train_indices], data.iloc[test_indices]\n",
    "\n",
    "train_set, test_set = split_train_test(df_ethical, 0.2)\n",
    "print(len(train_set), \"train +\", len(test_set), \"test\")"
   ]
  },
  {
   "cell_type": "code",
   "execution_count": null,
   "id": "437e7d96",
   "metadata": {},
   "outputs": [],
   "source": [
    "from sklearn.model_selection import train_test_split\n",
    "train_set, test_set = train_test_split(df_ethical, test_size=0.2, random_state=42)\n",
    "test_set.head()"
   ]
  },
  {
   "cell_type": "code",
   "execution_count": null,
   "id": "3a37fb0a",
   "metadata": {},
   "outputs": [],
   "source": [
    "df_labels = train_set[\"general_data\"][\"Attrition\"]"
   ]
  },
  {
   "cell_type": "code",
   "execution_count": null,
   "id": "ddfcb4a2",
   "metadata": {},
   "outputs": [],
   "source": [
    "df_prepared = df_ethical"
   ]
  },
  {
   "cell_type": "code",
   "execution_count": null,
   "id": "f2c9bafc",
   "metadata": {},
   "outputs": [],
   "source": [
    "from sklearn.linear_model import LinearRegression\n",
    "\n",
    "lin_reg = LinearRegression()\n",
    "lin_reg.fit(df_prepared, df_labels)"
   ]
  },
  {
   "cell_type": "markdown",
   "id": "319ee98d",
   "metadata": {},
   "source": [
    "#### Test et choix du modèle"
   ]
  },
  {
   "cell_type": "code",
   "execution_count": null,
   "id": "64bf59f6",
   "metadata": {},
   "outputs": [],
   "source": []
  },
  {
   "cell_type": "code",
   "execution_count": null,
   "id": "4f764e8e",
   "metadata": {},
   "outputs": [],
   "source": [
    "from sklearn.linear_model import LinearRegression\n",
    "\n",
    "lin_reg = LinearRegression()\n",
    "lin_reg.fit(housing_prepared, housing_labels)"
   ]
  },
  {
   "cell_type": "code",
   "execution_count": null,
   "id": "1fa36ec9",
   "metadata": {},
   "outputs": [],
   "source": []
  },
  {
   "cell_type": "code",
   "execution_count": null,
   "id": "9cc127c1",
   "metadata": {},
   "outputs": [],
   "source": []
  },
  {
   "cell_type": "markdown",
   "id": "677b5401",
   "metadata": {},
   "source": [
    "##  <center>  <br /> <br /> 3. Étude des données </center>"
   ]
  },
  {
   "cell_type": "markdown",
   "id": "ac4074fe",
   "metadata": {},
   "source": [
    "##  <center>  <br /> <br /> 4. Analyse des données </center>"
   ]
  },
  {
   "cell_type": "markdown",
   "id": "b8df4acc",
   "metadata": {},
   "source": [
    "## <center>  <br /> <br /> 5. Nettoyer les données </center>"
   ]
  },
  {
   "cell_type": "markdown",
   "id": "3d7f0174",
   "metadata": {},
   "source": [
    "##  <center>  <br /> <br /> III. Choix de (des) l'algorithme(s) d'\"IA\" retenu(s) </center>\n",
    "\n",
    "\n",
    "## justification des choix et les traitements effectués pour faire face aux problématiques classiques \n"
   ]
  },
  {
   "cell_type": "markdown",
   "id": "c0b47a83",
   "metadata": {},
   "source": [
    "## <center>  <br /> <br /> IV. Analyse des résultats obtenus et leur interprétation </center>"
   ]
  },
  {
   "cell_type": "markdown",
   "id": "1ff0b732",
   "metadata": {},
   "source": [
    "##  <center>  <br /> <br /> V. démarche mise en œuvre pour améliorer un modèle  </center>"
   ]
  },
  {
   "cell_type": "markdown",
   "id": "df3dfd79",
   "metadata": {},
   "source": [
    "### <center>  <br /> <br />  1. les différents modèles effectués . </center>"
   ]
  },
  {
   "cell_type": "markdown",
   "id": "fe4cb43e",
   "metadata": {},
   "source": [
    "### <center>  <br /> <br />  1.1   K-means . </center>"
   ]
  },
  {
   "cell_type": "markdown",
   "id": "ff4306f7",
   "metadata": {},
   "source": [
    "### <center>  <br /> <br />  1.2  Validation croisée . </center>"
   ]
  },
  {
   "cell_type": "markdown",
   "id": "01e6d947",
   "metadata": {},
   "source": [
    "### <center>  <br /> <br />  1.3  Les autres algorithmes qu'on va tester. </center>"
   ]
  },
  {
   "cell_type": "markdown",
   "id": "fa3556a2",
   "metadata": {},
   "source": [
    "### <center>  <br /> <br />  2. choix du modèle retenu au final parmi les différents essais effectués en justifiant pas rapport au besoin du client et des métriques. </center>\n",
    "\n"
   ]
  },
  {
   "cell_type": "markdown",
   "id": "6ae38ddc",
   "metadata": {},
   "source": [
    "### <center>  <br /> <br /> les propositions finales justifiées </center>"
   ]
  },
  {
   "cell_type": "markdown",
   "id": "c6f07bb0",
   "metadata": {},
   "source": [
    "## <center>  <br /> <br /> VI. RESSOURCES </center>  "
   ]
  },
  {
   "cell_type": "markdown",
   "id": "f70850e6",
   "metadata": {},
   "source": [
    "## <center>  <br /> <br /> VIII. LEXIQUE </center>  "
   ]
  },
  {
   "cell_type": "code",
   "execution_count": null,
   "id": "8993aac3",
   "metadata": {},
   "outputs": [],
   "source": []
  }
 ],
 "metadata": {
  "kernelspec": {
   "display_name": "Python 3 (ipykernel)",
   "language": "python",
   "name": "python3"
  },
  "language_info": {
   "codemirror_mode": {
    "name": "ipython",
    "version": 3
   },
   "file_extension": ".py",
   "mimetype": "text/x-python",
   "name": "python",
   "nbconvert_exporter": "python",
   "pygments_lexer": "ipython3",
   "version": "3.9.12"
  }
 },
 "nbformat": 4,
 "nbformat_minor": 5
}
